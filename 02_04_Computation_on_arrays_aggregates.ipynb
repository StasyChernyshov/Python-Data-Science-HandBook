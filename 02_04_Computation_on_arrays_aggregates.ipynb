{
  "cells": [
    {
      "cell_type": "markdown",
      "metadata": {
        "id": "WiQa78AcZz9e"
      },
      "source": [
        "# Aggregations: min, max, and Everything in Between"
      ]
    },
    {
      "cell_type": "markdown",
      "metadata": {
        "id": "z5cb59HGZz9f"
      },
      "source": [
        "A first step in exploring any dataset is often to compute various summary statistics.\n",
        "Perhaps the most common summary statistics are the mean and standard deviation, which allow you to summarize the \"typical\" values in a dataset, but other aggregations are useful as well (the sum, product, median, minimum and maximum, quantiles, etc.).\n",
        "\n",
        "NumPy has fast built-in aggregation functions for working on arrays; we'll discuss and try out some of them here."
      ]
    },
    {
      "cell_type": "markdown",
      "metadata": {
        "id": "kPfYXMGcZz9f"
      },
      "source": [
        "## Summing the Values in an Array\n",
        "\n",
        "As a quick example, consider computing the sum of all values in an array.\n",
        "Python itself can do this using the built-in `sum` function:"
      ]
    },
    {
      "cell_type": "code",
      "execution_count": 30,
      "metadata": {
        "id": "IL9ZN6V5Zz9f",
        "jupyter": {
          "outputs_hidden": false
        }
      },
      "outputs": [],
      "source": [
        "import numpy as np\n",
        "rng = np.random.default_rng()"
      ]
    },
    {
      "cell_type": "code",
      "execution_count": 31,
      "metadata": {
        "id": "wCtOXrBtZz9g",
        "jupyter": {
          "outputs_hidden": false
        },
        "outputId": "93e8bb15-dd4b-44c8-94dc-1f871872e6cf"
      },
      "outputs": [
        {
          "name": "stdout",
          "output_type": "stream",
          "text": [
            "[2.21130396e-01 7.16744867e-01 2.49978850e-01 6.03450278e-01\n",
            " 2.47016312e-03 3.11536032e-01 7.65194643e-01 8.43081014e-01\n",
            " 2.51447251e-01 8.97593111e-01 8.86128469e-01 5.02207206e-01\n",
            " 4.52100038e-01 2.66591033e-01 5.98648304e-01 7.77735057e-01\n",
            " 9.62795471e-01 6.60902582e-01 2.51594710e-01 4.71486948e-01\n",
            " 5.45105461e-02 9.58527792e-01 2.89738594e-02 6.73994845e-01\n",
            " 5.96283537e-01 5.66256748e-01 9.70569243e-01 7.35136943e-01\n",
            " 4.67299394e-03 2.85052547e-01 3.15597701e-01 6.58769503e-01\n",
            " 1.53508462e-01 6.29501972e-01 8.80513300e-01 4.88709675e-01\n",
            " 9.53468303e-01 4.30659445e-01 3.84934184e-01 4.90533997e-02\n",
            " 6.97882096e-01 7.91119054e-01 2.36578814e-01 2.53363213e-01\n",
            " 9.76163222e-01 9.24433546e-02 4.47848281e-01 6.27409939e-01\n",
            " 1.22960489e-02 7.24792411e-01 2.91068053e-01 8.43803322e-01\n",
            " 8.74062327e-04 6.14567834e-02 7.17050496e-01 3.00527745e-01\n",
            " 9.66097496e-01 5.88714390e-01 3.58478698e-01 6.27757847e-01\n",
            " 7.17767957e-01 9.78611605e-01 7.14115012e-01 6.81429920e-01\n",
            " 7.63836840e-01 2.40157561e-01 4.58351580e-02 5.84296603e-02\n",
            " 5.52034511e-02 3.65828011e-01 1.84635527e-01 8.12126833e-01\n",
            " 3.74565980e-01 6.25751426e-01 2.29258531e-01 2.71002730e-01\n",
            " 6.84151647e-01 2.39644541e-01 6.47269104e-02 6.95150511e-01\n",
            " 2.33777293e-01 6.95971806e-01 1.82876849e-01 3.57528601e-01\n",
            " 4.77766743e-01 7.81175793e-01 7.91568451e-01 8.64146962e-01\n",
            " 5.13990016e-02 9.23135621e-01 8.77666680e-01 5.19871007e-02\n",
            " 9.20111926e-01 6.98455394e-01 7.71456353e-01 3.59938630e-01\n",
            " 3.63570114e-01 8.60099722e-01 8.76469901e-01 9.92945632e-01]\n",
            "51.06151513311326\n",
            "0.5106151513311326\n"
          ]
        }
      ],
      "source": [
        "L = rng.random(100)\n",
        "print(L)\n",
        "print(sum(L))\n",
        "print(np.average(L))"
      ]
    },
    {
      "cell_type": "markdown",
      "metadata": {
        "id": "5A_XRMRuZz9g"
      },
      "source": [
        "The syntax is quite similar to that of NumPy's `sum` function, and the result is the same in the simplest case:"
      ]
    },
    {
      "cell_type": "code",
      "execution_count": 23,
      "metadata": {
        "id": "cAblCRK7Zz9g",
        "jupyter": {
          "outputs_hidden": false
        },
        "outputId": "14942fd2-f4b8-4bdf-aa44-5424301c4d5e"
      },
      "outputs": [
        {
          "data": {
            "text/plain": [
              "47.373710874525095"
            ]
          },
          "execution_count": 23,
          "metadata": {},
          "output_type": "execute_result"
        }
      ],
      "source": [
        "np.sum(L)"
      ]
    },
    {
      "cell_type": "markdown",
      "metadata": {
        "id": "s-Vw59iVZz9h"
      },
      "source": [
        "However, because it executes the operation in compiled code, NumPy's version of the operation is computed much more quickly:"
      ]
    },
    {
      "cell_type": "code",
      "execution_count": 24,
      "metadata": {
        "id": "HPTU-s_bZz9h",
        "jupyter": {
          "outputs_hidden": false
        },
        "outputId": "53cb024f-9547-4fa7-c245-68c7936b4f40"
      },
      "outputs": [
        {
          "name": "stdout",
          "output_type": "stream",
          "text": [
            "70.9 ms ± 311 µs per loop (mean ± std. dev. of 7 runs, 10 loops each)\n",
            "196 µs ± 568 ns per loop (mean ± std. dev. of 7 runs, 10000 loops each)\n"
          ]
        }
      ],
      "source": [
        "big_array = rng.random(1000000)\n",
        "%timeit sum(big_array)\n",
        "%timeit np.sum(big_array)"
      ]
    },
    {
      "cell_type": "markdown",
      "metadata": {
        "id": "t95Q11AWZz9h"
      },
      "source": [
        "Be careful, though: the `sum` function and the `np.sum` function are not identical, which can sometimes lead to confusion!\n",
        "In particular, their optional arguments have different meanings (`sum(x, 1)` initializes the sum at `1`, while `np.sum(x, 1)` sums along axis `1`), and `np.sum` is aware of multiple array dimensions, as we will see in the following section."
      ]
    },
    {
      "cell_type": "markdown",
      "metadata": {
        "id": "ZuyEUj88Zz9h"
      },
      "source": [
        "## Minimum and Maximum\n",
        "\n",
        "Similarly, Python has built-in `min` and `max` functions, used to find the minimum value and maximum value of any given array:"
      ]
    },
    {
      "cell_type": "code",
      "execution_count": null,
      "metadata": {
        "id": "WG2_NC6qZz9h",
        "jupyter": {
          "outputs_hidden": false
        },
        "outputId": "87b46094-8beb-4b7f-ad83-f3e23f1636ce"
      },
      "outputs": [
        {
          "data": {
            "text/plain": [
              "(2.0114398036064074e-07, 0.9999997912802653)"
            ]
          },
          "execution_count": 5,
          "metadata": {},
          "output_type": "execute_result"
        }
      ],
      "source": [
        "min(big_array), max(big_array)"
      ]
    },
    {
      "cell_type": "markdown",
      "metadata": {
        "id": "GmsRIKi0Zz9h"
      },
      "source": [
        "NumPy's corresponding functions have similar syntax, and again operate much more quickly:"
      ]
    },
    {
      "cell_type": "code",
      "execution_count": null,
      "metadata": {
        "id": "xTOacj42Zz9h",
        "jupyter": {
          "outputs_hidden": false
        },
        "outputId": "449254c7-150f-44fa-ec24-4a2dbec0d987"
      },
      "outputs": [
        {
          "data": {
            "text/plain": [
              "(2.0114398036064074e-07, 0.9999997912802653)"
            ]
          },
          "execution_count": 6,
          "metadata": {},
          "output_type": "execute_result"
        }
      ],
      "source": [
        "np.min(big_array), np.max(big_array)"
      ]
    },
    {
      "cell_type": "code",
      "execution_count": null,
      "metadata": {
        "id": "riuwJFzDZz9h",
        "jupyter": {
          "outputs_hidden": false
        },
        "outputId": "feddb32a-44a5-407d-889b-0cddf08e7a98"
      },
      "outputs": [
        {
          "name": "stdout",
          "output_type": "stream",
          "text": [
            "72 ms ± 177 µs per loop (mean ± std. dev. of 7 runs, 10 loops each)\n",
            "564 µs ± 3.11 µs per loop (mean ± std. dev. of 7 runs, 1000 loops each)\n"
          ]
        }
      ],
      "source": [
        "%timeit min(big_array)\n",
        "%timeit np.min(big_array)"
      ]
    },
    {
      "cell_type": "markdown",
      "metadata": {
        "id": "qxKJn0k5Zz9h"
      },
      "source": [
        "For `min`, `max`, `sum`, and several other NumPy aggregates, a shorter syntax is to use methods of the array object itself:"
      ]
    },
    {
      "cell_type": "code",
      "execution_count": null,
      "metadata": {
        "id": "58UXnTx9Zz9h",
        "jupyter": {
          "outputs_hidden": false
        },
        "outputId": "689d0677-189d-4e4b-8287-1aec135f4a11"
      },
      "outputs": [
        {
          "name": "stdout",
          "output_type": "stream",
          "text": [
            "2.0114398036064074e-07 0.9999997912802653 499854.0273321711\n"
          ]
        }
      ],
      "source": [
        "print(big_array.min(), big_array.max(), big_array.sum())"
      ]
    },
    {
      "cell_type": "markdown",
      "metadata": {
        "id": "rIyKVnypZz9i"
      },
      "source": [
        "Whenever possible, make sure that you are using the NumPy version of these aggregates when operating on NumPy arrays!"
      ]
    },
    {
      "cell_type": "markdown",
      "metadata": {
        "id": "crYnq-IIZz9i"
      },
      "source": [
        "### Multidimensional Aggregates\n",
        "\n",
        "One common type of aggregation operation is an aggregate along a row or column.\n",
        "Say you have some data stored in a two-dimensional array:"
      ]
    },
    {
      "cell_type": "code",
      "execution_count": 34,
      "metadata": {
        "id": "K0BclXQ3Zz9i",
        "jupyter": {
          "outputs_hidden": false
        },
        "outputId": "05995e8c-4230-4d8a-a997-b884a5a30f17"
      },
      "outputs": [
        {
          "name": "stdout",
          "output_type": "stream",
          "text": [
            "[[2 8 1 1]\n",
            " [9 9 4 7]\n",
            " [5 1 1 7]]\n"
          ]
        }
      ],
      "source": [
        "M = rng.integers(0, 10, (3, 4))\n",
        "print(M)"
      ]
    },
    {
      "cell_type": "markdown",
      "metadata": {
        "id": "FWQdfwWoZz9i"
      },
      "source": [
        "NumPy aggregations will apply across all elements of a multidimensional array:"
      ]
    },
    {
      "cell_type": "code",
      "execution_count": 37,
      "metadata": {
        "id": "rg7D4lhDZz9i",
        "jupyter": {
          "outputs_hidden": false
        },
        "outputId": "20b6675e-e2e6-4606-8a9a-924c2f5bb1a7"
      },
      "outputs": [
        {
          "data": {
            "text/plain": [
              "55"
            ]
          },
          "execution_count": 37,
          "metadata": {},
          "output_type": "execute_result"
        }
      ],
      "source": [
        "\n",
        "np.sum(M)"
      ]
    },
    {
      "cell_type": "markdown",
      "metadata": {
        "id": "j9EVuJuEZz9i"
      },
      "source": [
        "Aggregation functions take an additional argument specifying the *axis* along which the aggregate is computed. For example, we can find the minimum value within each column by specifying `axis=0`:"
      ]
    },
    {
      "cell_type": "code",
      "execution_count": null,
      "metadata": {
        "id": "PhADVUWnZz9i",
        "jupyter": {
          "outputs_hidden": false
        },
        "outputId": "4407c7c5-3d47-4c73-e7f8-7a4a9d8015c7"
      },
      "outputs": [
        {
          "data": {
            "text/plain": [
              "array([0, 3, 1, 0])"
            ]
          },
          "execution_count": 11,
          "metadata": {},
          "output_type": "execute_result"
        }
      ],
      "source": [
        "M.min(axis=0)"
      ]
    },
    {
      "cell_type": "markdown",
      "metadata": {
        "id": "314D_AkjZz9i"
      },
      "source": [
        "The function returns four values, corresponding to the four columns of numbers.\n",
        "\n",
        "Similarly, we can find the maximum value within each row:"
      ]
    },
    {
      "cell_type": "code",
      "execution_count": null,
      "metadata": {
        "id": "fsKH8_ogZz9i",
        "jupyter": {
          "outputs_hidden": false
        },
        "outputId": "355e7249-9ec7-42bb-9df7-ba2966ab4cd1"
      },
      "outputs": [
        {
          "data": {
            "text/plain": [
              "array([3, 9, 8])"
            ]
          },
          "execution_count": 12,
          "metadata": {},
          "output_type": "execute_result"
        }
      ],
      "source": [
        "M.max(axis=1)"
      ]
    },
    {
      "cell_type": "markdown",
      "metadata": {
        "id": "OJ3zcYovZz9i"
      },
      "source": [
        "The way the axis is specified here can be confusing to users coming from other languages.\n",
        "The `axis` keyword specifies the dimension of the array that will be *collapsed*, rather than the dimension that will be returned.\n",
        "So, specifying `axis=0` means that axis 0 will be collapsed: for two-dimensional arrays, values within each column will be aggregated."
      ]
    },
    {
      "cell_type": "markdown",
      "metadata": {
        "id": "LWZ-Y_TiZz9i"
      },
      "source": [
        "### Other Aggregation Functions\n",
        "\n",
        "NumPy provides several other aggregation functions with a similar API, and additionally most have a `NaN`-safe counterpart that computes the result while ignoring missing values, which are marked by the special IEEE floating-point `NaN` value (see [Handling Missing Data](03.04-Missing-Values.ipynb)).\n",
        "\n",
        "The following table provides a list of useful aggregation functions available in NumPy:\n",
        "\n",
        "|Function name    |   NaN-safe version| Description                                   |\n",
        "|-----------------|-------------------|-----------------------------------------------|\n",
        "| `np.sum`        | `np.nansum`       | Compute sum of elements                       |\n",
        "| `np.prod`       | `np.nanprod`      | Compute product of elements                   |\n",
        "| `np.mean`       | `np.nanmean`      | Compute mean of elements                      |\n",
        "| `np.std`        | `np.nanstd`       | Compute standard deviation                    |\n",
        "| `np.var`        | `np.nanvar`       | Compute variance                              |\n",
        "| `np.min`        | `np.nanmin`       | Find minimum value                            |\n",
        "| `np.max`        | `np.nanmax`       | Find maximum value                            |\n",
        "| `np.argmin`     | `np.nanargmin`    | Find index of minimum value                   |\n",
        "| `np.argmax`     | `np.nanargmax`    | Find index of maximum value                   |\n",
        "| `np.median`     | `np.nanmedian`    | Compute median of elements                    |\n",
        "| `np.percentile` | `np.nanpercentile`| Compute rank-based statistics of elements     |\n",
        "| `np.any`        | N/A               | Evaluate whether any elements are true        |\n",
        "| `np.all`        | N/A               | Evaluate whether all elements are true        |\n",
        "\n",
        "You will see these aggregates often throughout the rest of the book."
      ]
    },
    {
      "cell_type": "markdown",
      "metadata": {
        "id": "hLz67W9PZz9i"
      },
      "source": [
        "## Example: What Is the Average Height of US Presidents?"
      ]
    },
    {
      "cell_type": "markdown",
      "metadata": {
        "id": "ahiZ_wGuZz9i"
      },
      "source": [
        "Aggregates available in NumPy can act as summary statistics for a set of values.\n",
        "As a small example, let's consider the heights of all US presidents.\n",
        "This data is available in the file *president_heights.csv*, which is a comma-separated list of labels and values:"
      ]
    },
    {
      "cell_type": "code",
      "execution_count": 38,
      "metadata": {
        "id": "kOIpqE6ZZz9i",
        "jupyter": {
          "outputs_hidden": false
        },
        "outputId": "cfdf0857-7174-4f95-f61e-db8bc63eadb0"
      },
      "outputs": [
        {
          "name": "stdout",
          "output_type": "stream",
          "text": [
            "head: data/president_heights.csv: No such file or directory\n"
          ]
        }
      ],
      "source": [
        "!head -4 data/president_heights.csv"
      ]
    },
    {
      "cell_type": "markdown",
      "metadata": {
        "id": "uVC4ZRlvZz9i"
      },
      "source": [
        "We'll use the Pandas package, which we'll explore more fully in [Part 3](03.00-Introduction-to-Pandas.ipynb), to read the file and extract this information (note that the heights are measured in centimeters):"
      ]
    },
    {
      "cell_type": "code",
      "execution_count": 42,
      "metadata": {
        "id": "UdJez6H1Zz9i",
        "jupyter": {
          "outputs_hidden": false
        },
        "outputId": "9b5777b8-602c-458b-f385-3ab0ec6139ed"
      },
      "outputs": [
        {
          "name": "stdout",
          "output_type": "stream",
          "text": [
            "[189 170 189 163 183 171 185 168 173 183 173 173 175 178 183 193 178 173\n",
            " 174 183 183 168 170 178 182 180 183 178 182 188 175 179 183 193 182 183\n",
            " 177 185 188 188 182 185 191 182]\n"
          ]
        }
      ],
      "source": [
        "import pandas as pd\n",
        "data = pd.read_csv('/Users/staschernyshov/Desktop/Python Data Science HandBook/Data Sets/president_heights.csv')\n",
        "heights = np.array(data['height(cm)'])\n",
        "print(heights)"
      ]
    },
    {
      "cell_type": "markdown",
      "metadata": {
        "id": "ayRgWdWSZz9i"
      },
      "source": [
        "Now that we have this data array, we can compute a variety of summary statistics:"
      ]
    },
    {
      "cell_type": "code",
      "execution_count": null,
      "metadata": {
        "id": "CUVlmS65Zz9i",
        "jupyter": {
          "outputs_hidden": false
        },
        "outputId": "3d95c536-2819-4185-b1d5-7e2cbab118c0"
      },
      "outputs": [
        {
          "name": "stdout",
          "output_type": "stream",
          "text": [
            "Mean height:        180.04545454545453\n",
            "Standard deviation: 6.983599441335736\n",
            "Minimum height:     163\n",
            "Maximum height:     193\n"
          ]
        }
      ],
      "source": [
        "print(\"Mean height:       \", heights.mean())\n",
        "print(\"Standard deviation:\", heights.std())\n",
        "print(\"Minimum height:    \", heights.min())\n",
        "print(\"Maximum height:    \", heights.max())"
      ]
    },
    {
      "cell_type": "markdown",
      "metadata": {
        "id": "R5AXkv-qZz9i"
      },
      "source": [
        "Note that in each case, the aggregation operation reduced the entire array to a single summarizing value, which gives us information about the distribution of values.\n",
        "We may also wish to compute quantiles:"
      ]
    },
    {
      "cell_type": "code",
      "execution_count": 45,
      "metadata": {
        "id": "abfO0EgyZz9i",
        "jupyter": {
          "outputs_hidden": false
        },
        "outputId": "6922fa23-f0f5-435a-9b6b-1fad43c76e90"
      },
      "outputs": [
        {
          "name": "stdout",
          "output_type": "stream",
          "text": [
            "25th Percentile:  174.75\n",
            "182.0\n",
            "183.5\n"
          ]
        }
      ],
      "source": [
        "print(\"25th Percentile: \", np.percentile(heights,25))\n",
        "print(np.percentile(heights,50))\n",
        "print(np.percentile(heights,75))"
      ]
    },
    {
      "cell_type": "markdown",
      "metadata": {
        "id": "DLcMfStZZz9j"
      },
      "source": [
        "We see that the median height of US presidents is 182 cm, or just shy of six feet.\n",
        "\n",
        "Of course, sometimes it's more useful to see a visual representation of this data, which we can accomplish using tools in Matplotlib (we'll discuss Matplotlib more fully in [Part 4](04.00-Introduction-To-Matplotlib.ipynb)). For example, this code generates the following chart:"
      ]
    },
    {
      "cell_type": "code",
      "execution_count": 52,
      "metadata": {
        "id": "x3tZiCvlZz9j",
        "jupyter": {
          "outputs_hidden": false
        }
      },
      "outputs": [
        {
          "data": {
            "text/plain": [
              "<AxesSubplot:ylabel='Count'>"
            ]
          },
          "execution_count": 52,
          "metadata": {},
          "output_type": "execute_result"
        },
        {
          "data": {
            "image/png": "[encoded data removed]",
            "text/plain": [
              "<Figure size 640x480 with 1 Axes>"
            ]
          },
          "metadata": {},
          "output_type": "display_data"
        }
      ],
      "source": [
        "%matplotlib inline\n",
        "import matplotlib.pyplot as plt\n",
        "import seaborn as sn\n",
        "# plt.style.use('seaborn-whitegrid')\n",
        "sn.histplot(heights)"
      ]
    },
    {
      "cell_type": "code",
      "execution_count": 51,
      "metadata": {
        "id": "j7_RKze6Zz9q",
        "jupyter": {
          "outputs_hidden": false
        },
        "outputId": "1aec2cfd-b8c4-4cd6-a5d4-d1ccfa128d5d"
      },
      "outputs": [
        {
          "data": {
            "text/plain": [
              "Text(0, 0.5, 'number')"
            ]
          },
          "execution_count": 51,
          "metadata": {},
          "output_type": "execute_result"
        },
        {
          "data": {
            "image/png": "[encoded data removed]",
            "text/plain": [
              "<Figure size 640x480 with 1 Axes>"
            ]
          },
          "metadata": {},
          "output_type": "display_data"
        }
      ],
      "source": [
        "plt.hist(heights)\n",
        "\n",
        "plt.title('Height Distribution of US Presidents')\n",
        "plt.xlabel('height (cm)')\n",
        "plt.ylabel('number')\n"
      ]
    }
  ],
  "metadata": {
    "anaconda-cloud": {},
    "colab": {
      "provenance": []
    },
    "jupytext": {
      "formats": "ipynb,md"
    },
    "kernelspec": {
      "display_name": "Python 3",
      "language": "python",
      "name": "python3"
    },
    "language_info": {
      "codemirror_mode": {
        "name": "ipython",
        "version": 3
      },
      "file_extension": ".py",
      "mimetype": "text/x-python",
      "name": "python",
      "nbconvert_exporter": "python",
      "pygments_lexer": "ipython3",
      "version": "3.9.13"
    }
  },
  "nbformat": 4,
  "nbformat_minor": 0
}
