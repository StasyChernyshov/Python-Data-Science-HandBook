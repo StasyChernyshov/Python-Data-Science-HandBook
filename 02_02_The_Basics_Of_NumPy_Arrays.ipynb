{
  "cells": [
    {
      "cell_type": "markdown",
      "metadata": {
        "id": "WNja1aAryxX_"
      },
      "source": [
        "# The Basics of NumPy Arrays"
      ]
    },
    {
      "cell_type": "markdown",
      "metadata": {
        "id": "YNI8xkgJyxYB"
      },
      "source": [
        "Data manipulation in Python is nearly synonymous with NumPy array manipulation: even newer tools like Pandas ([Part 3](03.00-Introduction-to-Pandas.ipynb)) are built around the NumPy array.\n",
        "This chapter will present several examples of using NumPy array manipulation to access data and subarrays, and to split, reshape, and join the arrays.\n",
        "While the types of operations shown here may seem a bit dry and pedantic, they comprise the building blocks of many other examples used throughout the book.\n",
        "Get to know them well!\n",
        "\n",
        "We'll cover a few categories of basic array manipulations here:\n",
        "\n",
        "- *Attributes of arrays*: Determining the size, shape, memory consumption, and data types of arrays\n",
        "- *Indexing of arrays*: Getting and setting the values of individual array elements\n",
        "- *Slicing of arrays*: Getting and setting smaller subarrays within a larger array\n",
        "- *Reshaping of arrays*: Changing the shape of a given array\n",
        "- *Joining and splitting of arrays*: Combining multiple arrays into one, and splitting one array into many"
      ]
    },
    {
      "cell_type": "markdown",
      "metadata": {
        "id": "4rmYsZihyxYB"
      },
      "source": [
        "## NumPy Array Attributes"
      ]
    },
    {
      "cell_type": "markdown",
      "metadata": {
        "id": "lRIdCAiNyxYC"
      },
      "source": [
        "First let's discuss some useful array attributes.\n",
        "We'll start by defining random arrays of one, two, and three dimensions.\n",
        "We'll use NumPy's random number generator, which we will *seed* with a set value in order to ensure that the same random arrays are generated each time this code is run:"
      ]
    },
    {
      "cell_type": "code",
      "execution_count": 11,
      "metadata": {
        "id": "pVVPDv_VyxYC",
        "jupyter": {
          "outputs_hidden": false
        }
      },
      "outputs": [
        {
          "name": "stdout",
          "output_type": "stream",
          "text": [
            "[[[96 39]\n",
            "  [66 64]]\n",
            "\n",
            " [[58  9]\n",
            "  [27 50]]\n",
            "\n",
            " [[61 47]\n",
            "  [81 24]]\n",
            "\n",
            " [[50 66]\n",
            "  [20 79]]]\n"
          ]
        }
      ],
      "source": [
        "import numpy as np\n",
        "rng = np.random.default_rng(seed=1701)  # seed for reproducibility\n",
        "\n",
        "x1 = rng.integers(10, size=6)  # one-dimensional array\n",
        "x2 = rng.integers(10, size=(3, 4))  # two-dimensional array\n",
        "x3 = rng.integers(10, size=(3, 4, 5))  # three-dimensional array\n",
        "x4 =rng.integers(100, size=(4, 2,2))\n",
        "print(x4)"
      ]
    },
    {
      "cell_type": "markdown",
      "metadata": {
        "id": "mth0sJoWyxYC"
      },
      "source": [
        "Each array has attributes including `ndim` (the number of dimensions), `shape` (the size of each dimension), `size` (the total size of the array), and `dtype` (the type of each element):"
      ]
    },
    {
      "cell_type": "code",
      "execution_count": 10,
      "metadata": {
        "id": "x27UKgIcyxYD",
        "jupyter": {
          "outputs_hidden": false
        },
        "outputId": "7afac3cc-afd5-4b84-d6f1-6083105ce6aa"
      },
      "outputs": [
        {
          "name": "stdout",
          "output_type": "stream",
          "text": [
            "[9 4 0 3 8 6]\n",
            "x3 ndim:  3\n",
            "x3 shape: (3, 4, 5)\n",
            "x3 size:  60\n",
            "dtype:    int64\n"
          ]
        }
      ],
      "source": [
        "print(x1)\n",
        "print(\"x3 ndim: \", x3.ndim)\n",
        "print(\"x3 shape:\", x3.shape)\n",
        "print(\"x3 size: \", x3.size)\n",
        "print(\"dtype:   \", x3.dtype)"
      ]
    },
    {
      "cell_type": "markdown",
      "metadata": {
        "id": "_4qvAGrAyxYD"
      },
      "source": [
        "For more discussion of data types, see [Understanding Data Types in Python](02.01-Understanding-Data-Types.ipynb)."
      ]
    },
    {
      "cell_type": "markdown",
      "metadata": {
        "id": "r9STWImfyxYD"
      },
      "source": [
        "## Array Indexing: Accessing Single Elements"
      ]
    },
    {
      "cell_type": "markdown",
      "metadata": {
        "id": "QfJtuGUcyxYD"
      },
      "source": [
        "If you are familiar with Python's standard list indexing, indexing in NumPy will feel quite familiar.\n",
        "In a one-dimensional array, the $i^{th}$ value (counting from zero) can be accessed by specifying the desired index in square brackets, just as with Python lists:"
      ]
    },
    {
      "cell_type": "code",
      "execution_count": null,
      "metadata": {
        "id": "8HhD9LoGyxYE",
        "jupyter": {
          "outputs_hidden": false
        },
        "outputId": "dad33160-5cbf-486a-da7d-99b4907a70e9"
      },
      "outputs": [
        {
          "data": {
            "text/plain": [
              "array([9, 4, 0, 3, 8, 6])"
            ]
          },
          "execution_count": 3,
          "metadata": {},
          "output_type": "execute_result"
        }
      ],
      "source": [
        "x1"
      ]
    },
    {
      "cell_type": "code",
      "execution_count": null,
      "metadata": {
        "id": "yNKW-Q1xyxYE",
        "jupyter": {
          "outputs_hidden": false
        },
        "outputId": "66f17c18-91de-46ff-ecd7-e5d96c0946a8"
      },
      "outputs": [
        {
          "data": {
            "text/plain": [
              "9"
            ]
          },
          "execution_count": 4,
          "metadata": {},
          "output_type": "execute_result"
        }
      ],
      "source": [
        "x1[0]"
      ]
    },
    {
      "cell_type": "code",
      "execution_count": null,
      "metadata": {
        "id": "eKj063HkyxYE",
        "jupyter": {
          "outputs_hidden": false
        },
        "outputId": "c56640a5-7e11-4852-ff96-c4b361817fb4"
      },
      "outputs": [
        {
          "data": {
            "text/plain": [
              "8"
            ]
          },
          "execution_count": 5,
          "metadata": {},
          "output_type": "execute_result"
        }
      ],
      "source": [
        "x1[4]"
      ]
    },
    {
      "cell_type": "markdown",
      "metadata": {
        "id": "T81g08t6yxYE"
      },
      "source": [
        "To index from the end of the array, you can use negative indices:"
      ]
    },
    {
      "cell_type": "code",
      "execution_count": 22,
      "metadata": {
        "id": "Pncm-e0tyxYE",
        "jupyter": {
          "outputs_hidden": false
        },
        "outputId": "084f15e0-fbbe-4558-c0e6-ba9a3d0b6028"
      },
      "outputs": [
        {
          "name": "stdout",
          "output_type": "stream",
          "text": [
            "[9 4 0 3 8 6]\n"
          ]
        },
        {
          "data": {
            "text/plain": [
              "array([9, 4, 0, 3, 8])"
            ]
          },
          "execution_count": 22,
          "metadata": {},
          "output_type": "execute_result"
        }
      ],
      "source": [
        "print(x1)\n",
        "x1[:-1]"
      ]
    },
    {
      "cell_type": "code",
      "execution_count": null,
      "metadata": {
        "id": "uhRaPXs4yxYE",
        "jupyter": {
          "outputs_hidden": false
        },
        "outputId": "57ea8bf0-59a6-4b59-c9de-44601670f345"
      },
      "outputs": [
        {
          "data": {
            "text/plain": [
              "8"
            ]
          },
          "execution_count": 7,
          "metadata": {},
          "output_type": "execute_result"
        }
      ],
      "source": [
        "x1[-2]"
      ]
    },
    {
      "cell_type": "markdown",
      "metadata": {
        "id": "4s1r8kr7yxYE"
      },
      "source": [
        "In a multidimensional array, items can be accessed using a comma-separated `(row, column)` tuple:"
      ]
    },
    {
      "cell_type": "code",
      "execution_count": null,
      "metadata": {
        "id": "OHmsjszTyxYE",
        "jupyter": {
          "outputs_hidden": false
        },
        "outputId": "d4d9778c-eb97-4c8d-f560-58a8fe9d20ac"
      },
      "outputs": [
        {
          "data": {
            "text/plain": [
              "array([[3, 1, 3, 7],\n",
              "       [4, 0, 2, 3],\n",
              "       [0, 0, 6, 9]])"
            ]
          },
          "execution_count": 8,
          "metadata": {},
          "output_type": "execute_result"
        }
      ],
      "source": [
        "x2"
      ]
    },
    {
      "cell_type": "code",
      "execution_count": null,
      "metadata": {
        "id": "v3xaugvRyxYE",
        "jupyter": {
          "outputs_hidden": false
        },
        "outputId": "62cd8551-a5b6-4fcc-a4b6-90d3d9bf216c"
      },
      "outputs": [
        {
          "data": {
            "text/plain": [
              "3"
            ]
          },
          "execution_count": 9,
          "metadata": {},
          "output_type": "execute_result"
        }
      ],
      "source": [
        "x2[0, 0]"
      ]
    },
    {
      "cell_type": "code",
      "execution_count": null,
      "metadata": {
        "id": "dtOIVakHyxYE",
        "jupyter": {
          "outputs_hidden": false
        },
        "outputId": "834d909f-0c15-4e2e-c875-38c42e2965db"
      },
      "outputs": [
        {
          "data": {
            "text/plain": [
              "0"
            ]
          },
          "execution_count": 10,
          "metadata": {},
          "output_type": "execute_result"
        }
      ],
      "source": [
        "x2[2, 0]"
      ]
    },
    {
      "cell_type": "code",
      "execution_count": null,
      "metadata": {
        "id": "IESFQ7OayxYE",
        "jupyter": {
          "outputs_hidden": false
        },
        "outputId": "49f7f59a-a64a-43fb-9715-bf1942ffcb67"
      },
      "outputs": [
        {
          "data": {
            "text/plain": [
              "9"
            ]
          },
          "execution_count": 11,
          "metadata": {},
          "output_type": "execute_result"
        }
      ],
      "source": [
        "x2[2, -1]"
      ]
    },
    {
      "cell_type": "markdown",
      "metadata": {
        "id": "LccUREMjyxYE"
      },
      "source": [
        "Values can also be modified using any of the preceding index notation:"
      ]
    },
    {
      "cell_type": "code",
      "execution_count": null,
      "metadata": {
        "id": "yy8kwPnuyxYE",
        "jupyter": {
          "outputs_hidden": false
        },
        "outputId": "3768c21f-2350-41b6-a390-653506ad312b"
      },
      "outputs": [
        {
          "data": {
            "text/plain": [
              "array([[12,  1,  3,  7],\n",
              "       [ 4,  0,  2,  3],\n",
              "       [ 0,  0,  6,  9]])"
            ]
          },
          "execution_count": 12,
          "metadata": {},
          "output_type": "execute_result"
        }
      ],
      "source": [
        "x2[0, 0] = 12\n",
        "x2"
      ]
    },
    {
      "cell_type": "markdown",
      "metadata": {
        "id": "A7hJCP7SyxYF"
      },
      "source": [
        "Keep in mind that, unlike Python lists, NumPy arrays have a fixed type.\n",
        "This means, for example, that if you attempt to insert a floating-point value into an integer array, the value will be silently truncated. Don't be caught unaware by this behavior!"
      ]
    },
    {
      "cell_type": "code",
      "execution_count": null,
      "metadata": {
        "id": "MnlwP5MvyxYF",
        "jupyter": {
          "outputs_hidden": false
        },
        "outputId": "e259e4d0-f3a4-484e-fdba-c58b94277865"
      },
      "outputs": [
        {
          "data": {
            "text/plain": [
              "array([3, 4, 0, 3, 8, 6])"
            ]
          },
          "execution_count": 13,
          "metadata": {},
          "output_type": "execute_result"
        }
      ],
      "source": [
        "x1[0] = 3.14159  # this will be truncated!\n",
        "x1"
      ]
    },
    {
      "cell_type": "markdown",
      "metadata": {
        "id": "iDWeWg5pyxYF"
      },
      "source": [
        "## Array Slicing: Accessing Subarrays"
      ]
    },
    {
      "cell_type": "markdown",
      "metadata": {
        "id": "VJg7f2DRyxYF"
      },
      "source": [
        "Just as we can use square brackets to access individual array elements, we can also use them to access subarrays with the *slice* notation, marked by the colon (`:`) character.\n",
        "The NumPy slicing syntax follows that of the standard Python list; to access a slice of an array `x`, use this:\n",
        "``` python\n",
        "x[start:stop:step]\n",
        "```\n",
        "If any of these are unspecified, they default to the values `start=0`, `stop=<size of dimension>`, `step=1`.\n",
        "Let's look at some examples of accessing subarrays in one dimension and in multiple dimensions."
      ]
    },
    {
      "cell_type": "markdown",
      "metadata": {
        "id": "lS5Bfn7hyxYF"
      },
      "source": [
        "### One-Dimensional Subarrays\n",
        "\n",
        "Here are some examples of accessing elements in one-dimensional subarrays:"
      ]
    },
    {
      "cell_type": "code",
      "execution_count": null,
      "metadata": {
        "id": "XD-mgB6HyxYF",
        "jupyter": {
          "outputs_hidden": false
        },
        "outputId": "1c3a9685-c2d6-42b6-ec30-3dcad6727427"
      },
      "outputs": [
        {
          "data": {
            "text/plain": [
              "array([3, 4, 0, 3, 8, 6])"
            ]
          },
          "execution_count": 14,
          "metadata": {},
          "output_type": "execute_result"
        }
      ],
      "source": [
        "x1"
      ]
    },
    {
      "cell_type": "code",
      "execution_count": null,
      "metadata": {
        "id": "fSha2yFVyxYF",
        "jupyter": {
          "outputs_hidden": false
        },
        "outputId": "8c63186b-03c1-42da-a3be-4c33d098b82e"
      },
      "outputs": [
        {
          "data": {
            "text/plain": [
              "array([3, 4, 0])"
            ]
          },
          "execution_count": 15,
          "metadata": {},
          "output_type": "execute_result"
        }
      ],
      "source": [
        "x1[:3]  # first three elements"
      ]
    },
    {
      "cell_type": "code",
      "execution_count": null,
      "metadata": {
        "id": "NSdSourlyxYF",
        "jupyter": {
          "outputs_hidden": false
        },
        "outputId": "2b90a05f-8c32-478b-dad8-316aa1f2d48e"
      },
      "outputs": [
        {
          "data": {
            "text/plain": [
              "array([3, 8, 6])"
            ]
          },
          "execution_count": 16,
          "metadata": {},
          "output_type": "execute_result"
        }
      ],
      "source": [
        "x1[3:]  # elements after index 3"
      ]
    },
    {
      "cell_type": "code",
      "execution_count": null,
      "metadata": {
        "id": "kphcqFepyxYF",
        "jupyter": {
          "outputs_hidden": false
        },
        "outputId": "88efc5af-61e7-4f00-b3ca-7e09786ab8ee"
      },
      "outputs": [
        {
          "data": {
            "text/plain": [
              "array([4, 0, 3])"
            ]
          },
          "execution_count": 17,
          "metadata": {},
          "output_type": "execute_result"
        }
      ],
      "source": [
        "x1[1:4]  # middle subarray"
      ]
    },
    {
      "cell_type": "code",
      "execution_count": 24,
      "metadata": {
        "id": "0NutmJDmyxYF",
        "jupyter": {
          "outputs_hidden": false
        },
        "outputId": "c24e0cfa-2a1c-45b2-cdf7-fb7f000d9f07"
      },
      "outputs": [
        {
          "data": {
            "text/plain": [
              "array([9, 0, 8])"
            ]
          },
          "execution_count": 24,
          "metadata": {},
          "output_type": "execute_result"
        }
      ],
      "source": [
        "x1[::2]  # every second element"
      ]
    },
    {
      "cell_type": "code",
      "execution_count": null,
      "metadata": {
        "id": "B4EBFfdbyxYF",
        "jupyter": {
          "outputs_hidden": false
        },
        "outputId": "deaec809-45ed-4181-a0a5-779cfdd4274b"
      },
      "outputs": [
        {
          "data": {
            "text/plain": [
              "array([4, 3, 6])"
            ]
          },
          "execution_count": 19,
          "metadata": {},
          "output_type": "execute_result"
        }
      ],
      "source": [
        "x1[1::2]  # every second element, starting at index 1"
      ]
    },
    {
      "cell_type": "markdown",
      "metadata": {
        "id": "FZgrNMZKyxYF"
      },
      "source": [
        "A potentially confusing case is when the `step` value is negative.\n",
        "In this case, the defaults for `start` and `stop` are swapped.\n",
        "This becomes a convenient way to reverse an array:"
      ]
    },
    {
      "cell_type": "code",
      "execution_count": 25,
      "metadata": {
        "id": "OYJnjQMkyxYF",
        "jupyter": {
          "outputs_hidden": false
        },
        "outputId": "b5fe310c-2905-459b-d48b-3b25f690ea88"
      },
      "outputs": [
        {
          "data": {
            "text/plain": [
              "array([6, 8, 3, 0, 4, 9])"
            ]
          },
          "execution_count": 25,
          "metadata": {},
          "output_type": "execute_result"
        }
      ],
      "source": [
        "x1[::-1]  # all elements, reversed"
      ]
    },
    {
      "cell_type": "code",
      "execution_count": null,
      "metadata": {
        "id": "l5CV8MnQyxYF",
        "jupyter": {
          "outputs_hidden": false
        },
        "outputId": "86d85aa7-b089-4811-bb06-306f8a74ecf1"
      },
      "outputs": [
        {
          "data": {
            "text/plain": [
              "array([8, 0, 3])"
            ]
          },
          "execution_count": 21,
          "metadata": {},
          "output_type": "execute_result"
        }
      ],
      "source": [
        "x1[4::-2]  # every second element from index 4, reversed"
      ]
    },
    {
      "cell_type": "markdown",
      "metadata": {
        "id": "3ZvnX4tkyxYF"
      },
      "source": [
        "### Multidimensional Subarrays\n",
        "\n",
        "Multidimensional slices work in the same way, with multiple slices separated by commas.\n",
        "For example:"
      ]
    },
    {
      "cell_type": "code",
      "execution_count": null,
      "metadata": {
        "id": "UcgRXYpqyxYG",
        "jupyter": {
          "outputs_hidden": false
        },
        "outputId": "2b665208-3ae6-4a6c-e6e0-e1b96f5c4618"
      },
      "outputs": [
        {
          "data": {
            "text/plain": [
              "array([[12,  1,  3,  7],\n",
              "       [ 4,  0,  2,  3],\n",
              "       [ 0,  0,  6,  9]])"
            ]
          },
          "execution_count": 22,
          "metadata": {},
          "output_type": "execute_result"
        }
      ],
      "source": [
        "x2"
      ]
    },
    {
      "cell_type": "code",
      "execution_count": null,
      "metadata": {
        "id": "MuuX__0TyxYK",
        "jupyter": {
          "outputs_hidden": false
        },
        "outputId": "ca4fd00a-a14c-4b00-f660-6087e25a7c91"
      },
      "outputs": [
        {
          "data": {
            "text/plain": [
              "array([[12,  1,  3],\n",
              "       [ 4,  0,  2]])"
            ]
          },
          "execution_count": 23,
          "metadata": {},
          "output_type": "execute_result"
        }
      ],
      "source": [
        "x2[:2, :3]  # first two rows & three columns"
      ]
    },
    {
      "cell_type": "code",
      "execution_count": null,
      "metadata": {
        "id": "902UE71qyxYK",
        "jupyter": {
          "outputs_hidden": false
        },
        "outputId": "a83ef65a-0d6a-47e0-d737-4b32e87a9192"
      },
      "outputs": [
        {
          "data": {
            "text/plain": [
              "array([[12,  3],\n",
              "       [ 4,  2],\n",
              "       [ 0,  6]])"
            ]
          },
          "execution_count": 24,
          "metadata": {},
          "output_type": "execute_result"
        }
      ],
      "source": [
        "x2[:3, ::2]  # three rows, every second column"
      ]
    },
    {
      "cell_type": "code",
      "execution_count": null,
      "metadata": {
        "id": "TR2vVpULyxYK",
        "jupyter": {
          "outputs_hidden": false
        },
        "outputId": "6abf0024-282a-432d-d64b-2e31f7d3d928"
      },
      "outputs": [
        {
          "data": {
            "text/plain": [
              "array([[ 9,  6,  0,  0],\n",
              "       [ 3,  2,  0,  4],\n",
              "       [ 7,  3,  1, 12]])"
            ]
          },
          "execution_count": 25,
          "metadata": {},
          "output_type": "execute_result"
        }
      ],
      "source": [
        "x2[::-1, ::-1]  # all rows & columns, reversed"
      ]
    },
    {
      "cell_type": "markdown",
      "metadata": {
        "id": "JTHyUruZyxYK"
      },
      "source": [
        "#### Accessing array rows and columns\n",
        "\n",
        "One commonly needed routine is accessing single rows or columns of an array.\n",
        "This can be done by combining indexing and slicing, using an empty slice marked by a single colon (`:`):"
      ]
    },
    {
      "cell_type": "code",
      "execution_count": null,
      "metadata": {
        "id": "F_I5SH8RyxYK",
        "jupyter": {
          "outputs_hidden": false
        },
        "outputId": "ab2761ff-07c0-45a6-d521-e948f93beb59"
      },
      "outputs": [
        {
          "data": {
            "text/plain": [
              "array([12,  4,  0])"
            ]
          },
          "execution_count": 26,
          "metadata": {},
          "output_type": "execute_result"
        }
      ],
      "source": [
        "x2[:, 0]  # first column of x2"
      ]
    },
    {
      "cell_type": "code",
      "execution_count": null,
      "metadata": {
        "id": "KgtnXfEvyxYK",
        "jupyter": {
          "outputs_hidden": false
        },
        "outputId": "f3412b94-d5f3-4101-f72d-e6fe24a9d943"
      },
      "outputs": [
        {
          "data": {
            "text/plain": [
              "array([12,  1,  3,  7])"
            ]
          },
          "execution_count": 27,
          "metadata": {},
          "output_type": "execute_result"
        }
      ],
      "source": [
        "x2[0, :]  # first row of x2"
      ]
    },
    {
      "cell_type": "markdown",
      "metadata": {
        "id": "SB7rODsWyxYK"
      },
      "source": [
        "In the case of row access, the empty slice can be omitted for a more compact syntax:"
      ]
    },
    {
      "cell_type": "code",
      "execution_count": null,
      "metadata": {
        "id": "Ww-ar2RlyxYK",
        "jupyter": {
          "outputs_hidden": false
        },
        "outputId": "04ccc79d-9366-4618-e01a-5e407dbb4d5f"
      },
      "outputs": [
        {
          "data": {
            "text/plain": [
              "array([12,  1,  3,  7])"
            ]
          },
          "execution_count": 28,
          "metadata": {},
          "output_type": "execute_result"
        }
      ],
      "source": [
        "x2[0]  # equivalent to x2[0, :]"
      ]
    },
    {
      "cell_type": "markdown",
      "metadata": {
        "id": "GLWAJPqayxYK"
      },
      "source": [
        "### Subarrays as No-Copy Views\n",
        "\n",
        "Unlike Python list slices, NumPy array slices are returned as *views* rather than *copies* of the array data.\n",
        "Consider our two-dimensional array from before:"
      ]
    },
    {
      "cell_type": "code",
      "execution_count": null,
      "metadata": {
        "id": "YAJ-grpryxYK",
        "jupyter": {
          "outputs_hidden": false
        },
        "outputId": "adc42d39-e7da-4dfb-ffe5-3bdcf88f4c5d"
      },
      "outputs": [
        {
          "name": "stdout",
          "output_type": "stream",
          "text": [
            "[[12  1  3  7]\n",
            " [ 4  0  2  3]\n",
            " [ 0  0  6  9]]\n"
          ]
        }
      ],
      "source": [
        "print(x2)"
      ]
    },
    {
      "cell_type": "markdown",
      "metadata": {
        "id": "FSceXEXqyxYK"
      },
      "source": [
        "Let's extract a $2 \\times 2$ subarray from this:"
      ]
    },
    {
      "cell_type": "code",
      "execution_count": null,
      "metadata": {
        "id": "B8zqRKRcyxYK",
        "jupyter": {
          "outputs_hidden": false
        },
        "outputId": "4a4586aa-5d11-4eb3-a7bc-1a190ddbfd48"
      },
      "outputs": [
        {
          "name": "stdout",
          "output_type": "stream",
          "text": [
            "[[12  1]\n",
            " [ 4  0]]\n"
          ]
        }
      ],
      "source": [
        "x2_sub = x2[:2, :2]\n",
        "print(x2_sub)"
      ]
    },
    {
      "cell_type": "markdown",
      "metadata": {
        "id": "FekjONNwyxYK"
      },
      "source": [
        "Now if we modify this subarray, we'll see that the original array is changed! Observe:"
      ]
    },
    {
      "cell_type": "code",
      "execution_count": null,
      "metadata": {
        "id": "LshEsuhKyxYK",
        "jupyter": {
          "outputs_hidden": false
        },
        "outputId": "e829fab2-7d62-419a-fc4e-3aa02916d6fc"
      },
      "outputs": [
        {
          "name": "stdout",
          "output_type": "stream",
          "text": [
            "[[99  1]\n",
            " [ 4  0]]\n"
          ]
        }
      ],
      "source": [
        "x2_sub[0, 0] = 99\n",
        "print(x2_sub)"
      ]
    },
    {
      "cell_type": "code",
      "execution_count": null,
      "metadata": {
        "id": "HUH6Y2UkyxYL",
        "jupyter": {
          "outputs_hidden": false
        },
        "outputId": "bfa764b2-bfb0-454b-fef7-861b7d01b4df"
      },
      "outputs": [
        {
          "name": "stdout",
          "output_type": "stream",
          "text": [
            "[[99  1  3  7]\n",
            " [ 4  0  2  3]\n",
            " [ 0  0  6  9]]\n"
          ]
        }
      ],
      "source": [
        "print(x2)"
      ]
    },
    {
      "cell_type": "markdown",
      "metadata": {
        "id": "tTMXHUOByxYL"
      },
      "source": [
        "Some users may find this surprising, but it can be advantageous: for example, when working with large datasets, we can access and process pieces of these datasets without the need to copy the underlying data buffer."
      ]
    },
    {
      "cell_type": "markdown",
      "metadata": {
        "id": "Pjl64k8ByxYL"
      },
      "source": [
        "### Creating Copies of Arrays\n",
        "\n",
        "Despite the nice features of array views, it is sometimes useful to instead explicitly copy the data within an array or a subarray. This can be most easily done with the `copy` method:"
      ]
    },
    {
      "cell_type": "code",
      "execution_count": null,
      "metadata": {
        "id": "2-LCZnh6yxYL",
        "jupyter": {
          "outputs_hidden": false
        },
        "outputId": "c543ed18-bdec-40b4-8e59-888363643a5a"
      },
      "outputs": [
        {
          "name": "stdout",
          "output_type": "stream",
          "text": [
            "[[99  1]\n",
            " [ 4  0]]\n"
          ]
        }
      ],
      "source": [
        "x2_sub_copy = x2[:2, :2].copy()\n",
        "print(x2_sub_copy)"
      ]
    },
    {
      "cell_type": "markdown",
      "metadata": {
        "id": "zLlbBMvXyxYL"
      },
      "source": [
        "If we now modify this subarray, the original array is not touched:"
      ]
    },
    {
      "cell_type": "code",
      "execution_count": null,
      "metadata": {
        "id": "7AmpBtLUyxYL",
        "jupyter": {
          "outputs_hidden": false
        },
        "outputId": "4c4dee84-27ab-40e0-f21f-1bc3cb872ddc"
      },
      "outputs": [
        {
          "name": "stdout",
          "output_type": "stream",
          "text": [
            "[[42  1]\n",
            " [ 4  0]]\n"
          ]
        }
      ],
      "source": [
        "x2_sub_copy[0, 0] = 42\n",
        "print(x2_sub_copy)"
      ]
    },
    {
      "cell_type": "code",
      "execution_count": null,
      "metadata": {
        "id": "kepSnvrWyxYL",
        "jupyter": {
          "outputs_hidden": false
        },
        "outputId": "bd26996f-2e85-48d9-8267-b1a4f6349f9f"
      },
      "outputs": [
        {
          "name": "stdout",
          "output_type": "stream",
          "text": [
            "[[99  1  3  7]\n",
            " [ 4  0  2  3]\n",
            " [ 0  0  6  9]]\n"
          ]
        }
      ],
      "source": [
        "print(x2)"
      ]
    },
    {
      "cell_type": "markdown",
      "metadata": {
        "id": "udW0OW1NyxYL"
      },
      "source": [
        "## Reshaping of Arrays\n",
        "\n",
        "Another useful type of operation is reshaping of arrays, which can be done with the `reshape` method.\n",
        "For example, if you want to put the numbers 1 through 9 in a $3 \\times 3$ grid, you can do the following:"
      ]
    },
    {
      "cell_type": "code",
      "execution_count": 33,
      "metadata": {
        "id": "Z84vuVCdyxYL",
        "jupyter": {
          "outputs_hidden": false
        },
        "outputId": "f8a799dd-070c-4d48-882c-5cfb3b5748a6"
      },
      "outputs": [
        {
          "name": "stdout",
          "output_type": "stream",
          "text": [
            "[[ 1  2  3  4]\n",
            " [ 5  6  7  8]\n",
            " [ 9 10 11 12]\n",
            " [13 14 15 16]]\n"
          ]
        }
      ],
      "source": [
        "grid = np.arange(1, 17).reshape(4, 4)\n",
        "print(grid)"
      ]
    },
    {
      "cell_type": "markdown",
      "metadata": {
        "id": "2RJjMnQEyxYL"
      },
      "source": [
        "Note that for this to work, the size of the initial array must match the size of the reshaped array, and in most cases the `reshape` method will return a no-copy view of the initial array."
      ]
    },
    {
      "cell_type": "markdown",
      "metadata": {
        "id": "V5ZM2c_eyxYL"
      },
      "source": [
        "A common reshaping operation is converting a one-dimensional array into a two-dimensional row or column matrix:"
      ]
    },
    {
      "cell_type": "code",
      "execution_count": 45,
      "metadata": {
        "id": "IMhce5x_yxYL",
        "jupyter": {
          "outputs_hidden": false
        },
        "outputId": "9d71b992-e1aa-40c4-9685-356222398906"
      },
      "outputs": [
        {
          "name": "stdout",
          "output_type": "stream",
          "text": [
            "[1 2 3]\n"
          ]
        },
        {
          "data": {
            "text/plain": [
              "3"
            ]
          },
          "execution_count": 45,
          "metadata": {},
          "output_type": "execute_result"
        }
      ],
      "source": [
        "x = np.array([1, 2, 3])\n",
        "print(x)\n",
        " # row vector via reshape\n",
        "len(x)"
      ]
    },
    {
      "cell_type": "code",
      "execution_count": 46,
      "metadata": {
        "id": "jSENZ4_zyxYL",
        "outputId": "8dc2011a-1ad8-4b94-9c8d-a475cab909db"
      },
      "outputs": [
        {
          "data": {
            "text/plain": [
              "array([[1],\n",
              "       [2],\n",
              "       [3]])"
            ]
          },
          "execution_count": 46,
          "metadata": {},
          "output_type": "execute_result"
        }
      ],
      "source": [
        "x.reshape((len(x),1))  # column vector via reshape"
      ]
    },
    {
      "cell_type": "markdown",
      "metadata": {
        "id": "XDnozwwYyxYL"
      },
      "source": [
        "A convenient shorthand for this is to use `np.newaxis` in the slicing syntax:"
      ]
    },
    {
      "cell_type": "code",
      "execution_count": null,
      "metadata": {
        "id": "SjLkxpRByxYL",
        "jupyter": {
          "outputs_hidden": false
        },
        "outputId": "5fb5b86b-5074-47f4-b1d0-b29ff7d16848"
      },
      "outputs": [
        {
          "data": {
            "text/plain": [
              "array([[1, 2, 3]])"
            ]
          },
          "execution_count": 39,
          "metadata": {},
          "output_type": "execute_result"
        }
      ],
      "source": [
        "x[np.newaxis, :]  # row vector via newaxis"
      ]
    },
    {
      "cell_type": "code",
      "execution_count": null,
      "metadata": {
        "id": "wPqlrmw-yxYL",
        "jupyter": {
          "outputs_hidden": false
        },
        "outputId": "2b8b89ca-1530-4c1a-c468-2fda1ca3748a"
      },
      "outputs": [
        {
          "data": {
            "text/plain": [
              "array([[1],\n",
              "       [2],\n",
              "       [3]])"
            ]
          },
          "execution_count": 40,
          "metadata": {},
          "output_type": "execute_result"
        }
      ],
      "source": [
        "x[:, np.newaxis]  # column vector via newaxis"
      ]
    },
    {
      "cell_type": "markdown",
      "metadata": {
        "id": "Q90NV263yxYL"
      },
      "source": [
        "This is a pattern that we will utilize often throughout the remainder of the book."
      ]
    },
    {
      "cell_type": "markdown",
      "metadata": {
        "id": "A0nbAXqxyxYL"
      },
      "source": [
        "## Array Concatenation and Splitting\n",
        "\n",
        "All of the preceding routines worked on single arrays. NumPy also provides tools to combine multiple arrays into one, and to conversely split a single array into multiple arrays."
      ]
    },
    {
      "cell_type": "markdown",
      "metadata": {
        "id": "gIOkIdl7yxYL"
      },
      "source": [
        "### Concatenation of Arrays\n",
        "\n",
        "Concatenation, or joining of two arrays in NumPy, is primarily accomplished using the routines `np.concatenate`, `np.vstack`, and `np.hstack`.\n",
        "`np.concatenate` takes a tuple or list of arrays as its first argument, as you can see here:"
      ]
    },
    {
      "cell_type": "code",
      "execution_count": 57,
      "metadata": {
        "id": "eJaH-7MnyxYL",
        "jupyter": {
          "outputs_hidden": false
        },
        "outputId": "183abec9-91ee-45ab-c491-7c3b4dcce1f3"
      },
      "outputs": [
        {
          "data": {
            "text/plain": [
              "array([1, 2, 3, 3, 2, 1])"
            ]
          },
          "execution_count": 57,
          "metadata": {},
          "output_type": "execute_result"
        }
      ],
      "source": [
        "\n",
        "x = np.array([1, 2, 3])\n",
        "y = np.array([3, 2, 1])\n",
        "np.concatenate([x,y])\n"
      ]
    },
    {
      "cell_type": "markdown",
      "metadata": {
        "id": "rNfhaqccyxYM"
      },
      "source": [
        "You can also concatenate more than two arrays at once:"
      ]
    },
    {
      "cell_type": "code",
      "execution_count": 58,
      "metadata": {
        "id": "1jeINdGPyxYM",
        "jupyter": {
          "outputs_hidden": false
        },
        "outputId": "e16da042-0e69-4d27-efb3-c664ae5dcd00"
      },
      "outputs": [
        {
          "name": "stdout",
          "output_type": "stream",
          "text": [
            "[ 1  2  3  3  2  1 99 99 99]\n"
          ]
        }
      ],
      "source": [
        "z = np.array([99, 99, 99])\n",
        "print(np.concatenate([x, y, z]))"
      ]
    },
    {
      "cell_type": "markdown",
      "metadata": {
        "id": "d5MasQF2yxYM"
      },
      "source": [
        "And it can be used for two-dimensional arrays:"
      ]
    },
    {
      "cell_type": "code",
      "execution_count": 59,
      "metadata": {
        "id": "cduK5NSkyxYM",
        "jupyter": {
          "outputs_hidden": false
        }
      },
      "outputs": [],
      "source": [
        "grid = np.array([[1, 2, 3],\n",
        "                 [4, 5, 6]])"
      ]
    },
    {
      "cell_type": "code",
      "execution_count": 60,
      "metadata": {
        "id": "14qS5ZjiyxYM",
        "jupyter": {
          "outputs_hidden": false
        },
        "outputId": "69736fe4-3577-4ffd-b17b-c5204e0d457b"
      },
      "outputs": [
        {
          "data": {
            "text/plain": [
              "array([[1, 2, 3],\n",
              "       [4, 5, 6],\n",
              "       [1, 2, 3],\n",
              "       [4, 5, 6]])"
            ]
          },
          "execution_count": 60,
          "metadata": {},
          "output_type": "execute_result"
        }
      ],
      "source": [
        "# concatenate along the first axis\n",
        "np.concatenate([grid, grid])"
      ]
    },
    {
      "cell_type": "code",
      "execution_count": 62,
      "metadata": {
        "id": "kJmW7hBayxYM",
        "jupyter": {
          "outputs_hidden": false
        },
        "outputId": "3aed459e-107a-4704-82ac-4876445a8f79"
      },
      "outputs": [
        {
          "name": "stdout",
          "output_type": "stream",
          "text": [
            "[[1 2 3]\n",
            " [4 5 6]]\n"
          ]
        },
        {
          "data": {
            "text/plain": [
              "array([[1, 2, 3, 1, 2, 3],\n",
              "       [4, 5, 6, 4, 5, 6]])"
            ]
          },
          "execution_count": 62,
          "metadata": {},
          "output_type": "execute_result"
        }
      ],
      "source": [
        "\n",
        "# concatenate along the second axis (zero-indexed)\n",
        "np.concatenate([grid, grid], axis=1)"
      ]
    },
    {
      "cell_type": "markdown",
      "metadata": {
        "id": "LHOke7syyxYM"
      },
      "source": [
        "For working with arrays of mixed dimensions, it can be clearer to use the `np.vstack` (vertical stack) and `np.hstack` (horizontal stack) functions:"
      ]
    },
    {
      "cell_type": "code",
      "execution_count": 72,
      "metadata": {
        "id": "ipbt8h5VyxYM",
        "jupyter": {
          "outputs_hidden": false
        },
        "outputId": "3763f17f-4a23-40b3-c8ac-75787049fe6c"
      },
      "outputs": [
        {
          "name": "stdout",
          "output_type": "stream",
          "text": [
            "[1 2 3]\n",
            "[[1 2 3]\n",
            " [4 5 6]]\n",
            "[[11]\n",
            " [12]]\n"
          ]
        },
        {
          "data": {
            "text/plain": [
              "array([[ 1,  2,  3, 11],\n",
              "       [ 4,  5,  6, 12]])"
            ]
          },
          "execution_count": 72,
          "metadata": {},
          "output_type": "execute_result"
        }
      ],
      "source": [
        "print(x)\n",
        "print(grid)\n",
        "# vertically stack the arrays\n",
        "np.vstack([x, grid])\n",
        "y=np.array([[11],\n",
        "           [12]])\n",
        "print(y)\n",
        "np.hstack([grid,y])\n"
      ]
    },
    {
      "cell_type": "code",
      "execution_count": null,
      "metadata": {
        "id": "hY_4OraEyxYM",
        "jupyter": {
          "outputs_hidden": false
        },
        "outputId": "e00a6a5c-a572-4d30-ec34-2a00d18f0cad"
      },
      "outputs": [
        {
          "data": {
            "text/plain": [
              "array([[ 1,  2,  3, 99],\n",
              "       [ 4,  5,  6, 99]])"
            ]
          },
          "execution_count": 47,
          "metadata": {},
          "output_type": "execute_result"
        }
      ],
      "source": [
        "# horizontally stack the arrays\n",
        "y = np.array([[99],\n",
        "              [99]])\n",
        "np.hstack([grid, y])"
      ]
    },
    {
      "cell_type": "markdown",
      "metadata": {
        "id": "f4IUougFyxYM"
      },
      "source": [
        "Similarly, for higher-dimensional arrays, `np.dstack` will stack arrays along the third axis."
      ]
    },
    {
      "cell_type": "markdown",
      "metadata": {
        "id": "nknYGKC3yxYM"
      },
      "source": [
        "### Splitting of Arrays\n",
        "\n",
        "The opposite of concatenation is splitting, which is implemented by the functions `np.split`, `np.hsplit`, and `np.vsplit`.  For each of these, we can pass a list of indices giving the split points:"
      ]
    },
    {
      "cell_type": "code",
      "execution_count": 82,
      "metadata": {
        "id": "JhR_TIcJyxYM",
        "jupyter": {
          "outputs_hidden": false
        },
        "outputId": "ecfd0801-f725-4dcd-ed8f-c314e941daf6"
      },
      "outputs": [
        {
          "name": "stdout",
          "output_type": "stream",
          "text": [
            "[1] [ 2  3 99 99  3  2] [1]\n"
          ]
        }
      ],
      "source": [
        "x = [1, 2, 3, 99, 99, 3, 2, 1]\n",
        "x1, x2, x3 = np.split(x, [1, 7])\n",
        "print(x1, x2, x3)"
      ]
    },
    {
      "cell_type": "markdown",
      "metadata": {
        "id": "s6yMUNpsyxYM"
      },
      "source": [
        "Notice that *N* split points leads to *N* + 1 subarrays.\n",
        "The related functions `np.hsplit` and `np.vsplit` are similar:"
      ]
    },
    {
      "cell_type": "code",
      "execution_count": 83,
      "metadata": {
        "id": "es5BW72eyxYM",
        "jupyter": {
          "outputs_hidden": false
        },
        "outputId": "37d349eb-d91d-4eb0-cf71-5023b63f1dfb"
      },
      "outputs": [
        {
          "name": "stdout",
          "output_type": "stream",
          "text": [
            "[[1 2 3]\n",
            " [4 5 6]]\n"
          ]
        },
        {
          "data": {
            "text/plain": [
              "array([[ 0,  1,  2,  3],\n",
              "       [ 4,  5,  6,  7],\n",
              "       [ 8,  9, 10, 11],\n",
              "       [12, 13, 14, 15]])"
            ]
          },
          "execution_count": 83,
          "metadata": {},
          "output_type": "execute_result"
        }
      ],
      "source": [
        "print(grid)\n",
        "grid = np.arange(16).reshape((4, 4))\n",
        "grid"
      ]
    },
    {
      "cell_type": "code",
      "execution_count": null,
      "metadata": {
        "id": "Ct6PRyoDyxYM",
        "jupyter": {
          "outputs_hidden": false
        },
        "outputId": "96d0d00e-ebc3-429f-9d68-7b551128cd4d"
      },
      "outputs": [
        {
          "name": "stdout",
          "output_type": "stream",
          "text": [
            "[[0 1 2 3]\n",
            " [4 5 6 7]]\n",
            "[[ 8  9 10 11]\n",
            " [12 13 14 15]]\n"
          ]
        }
      ],
      "source": [
        "upper, lower = np.vsplit(grid, [2])\n",
        "print(upper)\n",
        "print(lower)"
      ]
    },
    {
      "cell_type": "code",
      "execution_count": null,
      "metadata": {
        "id": "l1_LkJr2yxYM",
        "jupyter": {
          "outputs_hidden": false
        },
        "outputId": "d468bfef-9a07-448c-eb9e-f49e19323422"
      },
      "outputs": [
        {
          "name": "stdout",
          "output_type": "stream",
          "text": [
            "[[ 0  1]\n",
            " [ 4  5]\n",
            " [ 8  9]\n",
            " [12 13]]\n",
            "[[ 2  3]\n",
            " [ 6  7]\n",
            " [10 11]\n",
            " [14 15]]\n"
          ]
        }
      ],
      "source": [
        "left, right = np.hsplit(grid, [2])\n",
        "print(left)\n",
        "print(right)"
      ]
    },
    {
      "cell_type": "markdown",
      "metadata": {
        "id": "Mv9v8p2eyxYM"
      },
      "source": [
        "Similarly, for higher-dimensional arrays, `np.dsplit` will split arrays along the third axis."
      ]
    }
  ],
  "metadata": {
    "anaconda-cloud": {},
    "colab": {
      "provenance": []
    },
    "jupytext": {
      "formats": "ipynb,md"
    },
    "kernelspec": {
      "display_name": "Python 3",
      "language": "python",
      "name": "python3"
    },
    "language_info": {
      "codemirror_mode": {
        "name": "ipython",
        "version": 3
      },
      "file_extension": ".py",
      "mimetype": "text/x-python",
      "name": "python",
      "nbconvert_exporter": "python",
      "pygments_lexer": "ipython3",
      "version": "3.9.2"
    }
  },
  "nbformat": 4,
  "nbformat_minor": 0
}
