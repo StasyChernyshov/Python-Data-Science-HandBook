{
  "cells": [
    {
      "cell_type": "markdown",
      "metadata": {
        "id": "XM0xNdFFraK6"
      },
      "source": [
        "# Fancy Indexing"
      ]
    },
    {
      "cell_type": "markdown",
      "metadata": {
        "id": "dEG98IxSraK8"
      },
      "source": [
        "The previous chapters discussed how to access and modify portions of arrays using simple indices (e.g., `arr[0]`), slices (e.g., `arr[:5]`), and Boolean masks (e.g., `arr[arr > 0]`).\n",
        "In this chapter, we'll look at another style of array indexing, known as *fancy* or *vectorized* indexing, in which we pass arrays of indices in place of single scalars.\n",
        "This allows us to very quickly access and modify complicated subsets of an array's values."
      ]
    },
    {
      "cell_type": "markdown",
      "metadata": {
        "id": "ek48LkJjraK8"
      },
      "source": [
        "## Exploring Fancy Indexing\n",
        "\n",
        "Fancy indexing is conceptually simple: it means passing an array of indices to access multiple array elements at once.\n",
        "For example, consider the following array:"
      ]
    },
    {
      "cell_type": "code",
      "execution_count": 59,
      "metadata": {
        "id": "YfqnhPQdraK9",
        "jupyter": {
          "outputs_hidden": false
        },
        "outputId": "cbd6de52-0fc7-4725-b629-b4052d94d609"
      },
      "outputs": [
        {
          "name": "stdout",
          "output_type": "stream",
          "text": [
            "[0 1 2 3 4 5 6 7 8 9]\n"
          ]
        }
      ],
      "source": [
        "import numpy as np\n",
        "rng = np.random.default_rng(seed=1701)\n",
        "\n",
        "x = np.arange(10)\n",
        "print(x)"
      ]
    },
    {
      "cell_type": "markdown",
      "metadata": {
        "id": "1iezbtq7raK9"
      },
      "source": [
        "Suppose we want to access three different elements. We could do it like this:"
      ]
    },
    {
      "cell_type": "code",
      "execution_count": 60,
      "metadata": {
        "id": "IOpReFlKraK-",
        "jupyter": {
          "outputs_hidden": false
        },
        "outputId": "625cd9c8-9406-4a0a-a12f-55b9bf0779fb"
      },
      "outputs": [
        {
          "data": {
            "text/plain": [
              "[3, 7, 2]"
            ]
          },
          "execution_count": 60,
          "metadata": {},
          "output_type": "execute_result"
        }
      ],
      "source": [
        "[x[3], x[7], x[2]]"
      ]
    },
    {
      "cell_type": "markdown",
      "metadata": {
        "id": "RcmRyBJlraK-"
      },
      "source": [
        "Alternatively, we can pass a single list or array of indices to obtain the same result:"
      ]
    },
    {
      "cell_type": "code",
      "execution_count": 61,
      "metadata": {
        "id": "9odIAJwuraK-",
        "jupyter": {
          "outputs_hidden": false
        },
        "outputId": "cb2f2071-affd-4468-a967-7c81f84055f7"
      },
      "outputs": [
        {
          "data": {
            "text/plain": [
              "array([3, 7, 4])"
            ]
          },
          "execution_count": 61,
          "metadata": {},
          "output_type": "execute_result"
        }
      ],
      "source": [
        "ind = [3, 7, 4]\n",
        "x[ind]"
      ]
    },
    {
      "cell_type": "markdown",
      "metadata": {
        "id": "CwNMUbHHraK-"
      },
      "source": [
        "When using arrays of indices, the shape of the result reflects the shape of the *index arrays* rather than the shape of the *array being indexed*:"
      ]
    },
    {
      "cell_type": "code",
      "execution_count": 62,
      "metadata": {
        "id": "ALeirMa6raK_",
        "jupyter": {
          "outputs_hidden": false
        },
        "outputId": "b5c1b78f-5c76-4150-bdd3-4ee916941747"
      },
      "outputs": [
        {
          "data": {
            "text/plain": [
              "array([[3, 7],\n",
              "       [4, 5]])"
            ]
          },
          "execution_count": 62,
          "metadata": {},
          "output_type": "execute_result"
        }
      ],
      "source": [
        "ind = np.array([[3, 7],\n",
        "                [4, 5]])\n",
        "x[ind]"
      ]
    },
    {
      "cell_type": "markdown",
      "metadata": {
        "id": "ShFaXGNvraK_"
      },
      "source": [
        "Fancy indexing also works in multiple dimensions. Consider the following array:"
      ]
    },
    {
      "cell_type": "code",
      "execution_count": 63,
      "metadata": {
        "id": "iutCoSLwraK_",
        "jupyter": {
          "outputs_hidden": false
        },
        "outputId": "c5c70bf9-e2d6-48eb-9387-60ece1487702"
      },
      "outputs": [
        {
          "data": {
            "text/plain": [
              "array([[ 0,  1,  2,  3],\n",
              "       [ 4,  5,  6,  7],\n",
              "       [ 8,  9, 10, 11]])"
            ]
          },
          "execution_count": 63,
          "metadata": {},
          "output_type": "execute_result"
        }
      ],
      "source": [
        "X = np.arange(12).reshape((3, 4))\n",
        "X"
      ]
    },
    {
      "cell_type": "markdown",
      "metadata": {
        "id": "lZ2GHqNEraK_"
      },
      "source": [
        "Like with standard indexing, the first index refers to the row, and the second to the column:"
      ]
    },
    {
      "cell_type": "code",
      "execution_count": 64,
      "metadata": {
        "id": "WQXSLNfpraK_",
        "jupyter": {
          "outputs_hidden": false
        },
        "outputId": "53a597da-0cc3-4eb4-ae79-0ae9a4d9a6e0"
      },
      "outputs": [
        {
          "name": "stdout",
          "output_type": "stream",
          "text": [
            "[0 1 2]\n"
          ]
        },
        {
          "data": {
            "text/plain": [
              "array([ 2,  5, 11])"
            ]
          },
          "execution_count": 64,
          "metadata": {},
          "output_type": "execute_result"
        }
      ],
      "source": [
        "row = np.array([0, 1, 2])\n",
        "col = np.array([2, 1, 3])\n",
        "print(row)\n",
        "\n",
        "X[row, col]"
      ]
    },
    {
      "cell_type": "markdown",
      "metadata": {
        "id": "86-yLncZraK_"
      },
      "source": [
        "Notice that the first value in the result is `X[0, 2]`, the second is `X[1, 1]`, and the third is `X[2, 3]`.\n",
        "The pairing of indices in fancy indexing follows all the broadcasting rules that were mentioned in [Computation on Arrays: Broadcasting](02.05-Computation-on-arrays-broadcasting.ipynb).\n",
        "So, for example, if we combine a column vector and a row vector within the indices, we get a two-dimensional result:"
      ]
    },
    {
      "cell_type": "code",
      "execution_count": 65,
      "metadata": {
        "id": "ogak6G13raK_",
        "jupyter": {
          "outputs_hidden": false
        },
        "outputId": "9b79016b-39d3-48d5-c87b-b9a05d6cd39d"
      },
      "outputs": [
        {
          "data": {
            "text/plain": [
              "array([[ 2,  1,  3],\n",
              "       [ 6,  5,  7],\n",
              "       [10,  9, 11]])"
            ]
          },
          "execution_count": 65,
          "metadata": {},
          "output_type": "execute_result"
        }
      ],
      "source": [
        "X[row[:, np.newaxis], col]"
      ]
    },
    {
      "cell_type": "markdown",
      "metadata": {
        "id": "SJWY102rraK_"
      },
      "source": [
        "Here, each row value is matched with each column vector, exactly as we saw in broadcasting of arithmetic operations.\n",
        "For example:"
      ]
    },
    {
      "cell_type": "code",
      "execution_count": 66,
      "metadata": {
        "id": "uY-UNfe5raK_",
        "jupyter": {
          "outputs_hidden": false
        },
        "outputId": "72f475ac-0092-436e-bb1e-38e863dd2d5e"
      },
      "outputs": [
        {
          "data": {
            "text/plain": [
              "array([[0, 0, 0],\n",
              "       [2, 1, 3],\n",
              "       [4, 2, 6]])"
            ]
          },
          "execution_count": 66,
          "metadata": {},
          "output_type": "execute_result"
        }
      ],
      "source": [
        "row[:, np.newaxis] * col"
      ]
    },
    {
      "cell_type": "markdown",
      "metadata": {
        "id": "z-1ej_c4raK_"
      },
      "source": [
        "It is always important to remember with fancy indexing that the return value reflects the *broadcasted shape of the indices*, rather than the shape of the array being indexed."
      ]
    },
    {
      "cell_type": "markdown",
      "metadata": {
        "id": "Pv7YhxsTraLA"
      },
      "source": [
        "## Combined Indexing\n",
        "\n",
        "For even more powerful operations, fancy indexing can be combined with the other indexing schemes we've seen. For example, given the array `X`:"
      ]
    },
    {
      "cell_type": "code",
      "execution_count": 67,
      "metadata": {
        "id": "q2T0mieLraLA",
        "jupyter": {
          "outputs_hidden": false
        },
        "outputId": "c3458812-19ec-4342-e42a-189f9442ac8b"
      },
      "outputs": [
        {
          "name": "stdout",
          "output_type": "stream",
          "text": [
            "[[ 0  1  2  3]\n",
            " [ 4  5  6  7]\n",
            " [ 8  9 10 11]]\n"
          ]
        }
      ],
      "source": [
        "print(X)"
      ]
    },
    {
      "cell_type": "markdown",
      "metadata": {
        "id": "y3jzE2wmraLA"
      },
      "source": [
        "We can combine fancy and simple indices:"
      ]
    },
    {
      "cell_type": "code",
      "execution_count": 68,
      "metadata": {
        "id": "gGS_SmtEraLA",
        "jupyter": {
          "outputs_hidden": false
        },
        "outputId": "7ec8657d-3cf9-495c-a805-483351492b8d"
      },
      "outputs": [
        {
          "data": {
            "text/plain": [
              "array([10,  8,  9])"
            ]
          },
          "execution_count": 68,
          "metadata": {},
          "output_type": "execute_result"
        }
      ],
      "source": [
        "X[2, [2, 0, 1]]"
      ]
    },
    {
      "cell_type": "markdown",
      "metadata": {
        "id": "l_rMWWPGraLA"
      },
      "source": [
        "We can also combine fancy indexing with slicing:"
      ]
    },
    {
      "cell_type": "code",
      "execution_count": 69,
      "metadata": {
        "id": "wdwHWivMraLA",
        "jupyter": {
          "outputs_hidden": false
        },
        "outputId": "99d617d3-fcb9-4b84-aaef-d78341b3088a"
      },
      "outputs": [
        {
          "data": {
            "text/plain": [
              "array([[ 6,  4,  5],\n",
              "       [10,  8,  9]])"
            ]
          },
          "execution_count": 69,
          "metadata": {},
          "output_type": "execute_result"
        }
      ],
      "source": [
        "X[1:, [2, 0, 1]]"
      ]
    },
    {
      "cell_type": "markdown",
      "metadata": {
        "id": "54Mn1lTtraLA"
      },
      "source": [
        "And we can combine fancy indexing with masking:"
      ]
    },
    {
      "cell_type": "code",
      "execution_count": 70,
      "metadata": {
        "id": "86PbfO4-raLA",
        "jupyter": {
          "outputs_hidden": false
        },
        "outputId": "06e7cb39-5c23-45b8-8506-b0ed8bafc472"
      },
      "outputs": [
        {
          "data": {
            "text/plain": [
              "array([[ 0,  2],\n",
              "       [ 4,  6],\n",
              "       [ 8, 10]])"
            ]
          },
          "execution_count": 70,
          "metadata": {},
          "output_type": "execute_result"
        }
      ],
      "source": [
        "mask = np.array([True, False, True, False])\n",
        "X[row[:, np.newaxis], mask]"
      ]
    },
    {
      "cell_type": "markdown",
      "metadata": {
        "id": "QFbPWSO4raLA"
      },
      "source": [
        "All of these indexing options combined lead to a very flexible set of operations for efficiently accessing and modifying array values."
      ]
    },
    {
      "cell_type": "markdown",
      "metadata": {
        "id": "YwvhDTTMraLA"
      },
      "source": [
        "## Example: Selecting Random Points\n",
        "\n",
        "One common use of fancy indexing is the selection of subsets of rows from a matrix.\n",
        "For example, we might have an $N$ by $D$ matrix representing $N$ points in $D$ dimensions, such as the following points drawn from a two-dimensional normal distribution:"
      ]
    },
    {
      "cell_type": "code",
      "execution_count": 71,
      "metadata": {
        "id": "JWuX6rD1raLA",
        "jupyter": {
          "outputs_hidden": false
        },
        "outputId": "721f1f48-928c-470f-81a7-c805e54f0af2"
      },
      "outputs": [
        {
          "data": {
            "text/plain": [
              "(100, 2)"
            ]
          },
          "execution_count": 71,
          "metadata": {},
          "output_type": "execute_result"
        }
      ],
      "source": [
        "mean = [0, 0]\n",
        "cov = [[1, 2],\n",
        "       [2, 5]]\n",
        "X = rng.multivariate_normal(mean, cov, 100)\n",
        "X.shape"
      ]
    },
    {
      "cell_type": "markdown",
      "metadata": {
        "id": "ZBfHoFH0raLA"
      },
      "source": [
        "Using the plotting tools we will discuss in [Introduction to Matplotlib](04.00-Introduction-To-Matplotlib.ipynb), we can visualize these points as a scatter plot (see the following figure):"
      ]
    },
    {
      "cell_type": "code",
      "execution_count": 72,
      "metadata": {
        "id": "3gnUhhjXraLA",
        "jupyter": {
          "outputs_hidden": false
        },
        "outputId": "f22892da-fcac-41c8-8890-b67c1e5f4823"
      },
      "outputs": [
        {
          "data": {
            "image/png": "[encoded data removed]",
            "text/plain": [
              "<Figure size 640x480 with 1 Axes>"
            ]
          },
          "metadata": {},
          "output_type": "display_data"
        }
      ],
      "source": [
        "%matplotlib inline\n",
        "import matplotlib.pyplot as plt\n",
        "plt.style.use('seaborn-whitegrid')\n",
        "\n",
        "plt.scatter(X[:, 0], X[:, 1]);"
      ]
    },
    {
      "cell_type": "markdown",
      "metadata": {
        "id": "zB8_GS5sraLA"
      },
      "source": [
        "Let's use fancy indexing to select 20 random points. We'll do this by first choosing 20 random indices with no repeats, and using these indices to select a portion of the original array:"
      ]
    },
    {
      "cell_type": "code",
      "execution_count": 73,
      "metadata": {
        "id": "CDGSlS2DraLA",
        "jupyter": {
          "outputs_hidden": false
        },
        "outputId": "300f61c4-37a0-42f3-dfe6-8fb1ff878717"
      },
      "outputs": [
        {
          "data": {
            "text/plain": [
              "array([48, 25, 39, 75, 41, 45, 18, 16, 80, 86, 33,  9, 10, 47, 95, 31, 58,\n",
              "       82, 84, 77])"
            ]
          },
          "execution_count": 73,
          "metadata": {},
          "output_type": "execute_result"
        }
      ],
      "source": [
        "indices = np.random.choice(X.shape[0], 20, replace=False)\n",
        "indices"
      ]
    },
    {
      "cell_type": "code",
      "execution_count": 74,
      "metadata": {
        "id": "XQK8NB98raLB",
        "jupyter": {
          "outputs_hidden": false
        },
        "outputId": "cc6fb8e8-96b9-4372-b9d5-61293266157b"
      },
      "outputs": [
        {
          "data": {
            "text/plain": [
              "(20, 2)"
            ]
          },
          "execution_count": 74,
          "metadata": {},
          "output_type": "execute_result"
        }
      ],
      "source": [
        "selection = X[indices]  # fancy indexing here\n",
        "selection.shape"
      ]
    },
    {
      "cell_type": "markdown",
      "metadata": {
        "id": "CM7hBn_jraLB"
      },
      "source": [
        "Now to see which points were selected, let's overplot large circles at the locations of the selected points (see the following figure):"
      ]
    },
    {
      "cell_type": "code",
      "execution_count": 90,
      "metadata": {
        "id": "oy12fwxFraLB",
        "jupyter": {
          "outputs_hidden": false
        },
        "outputId": "3613b675-cc3f-4197-ad94-c6a98d7980f2"
      },
      "outputs": [
        {
          "data": {
            "image/png": "[encoded data removed]",
            "text/plain": [
              "<Figure size 640x480 with 1 Axes>"
            ]
          },
          "metadata": {},
          "output_type": "display_data"
        }
      ],
      "source": [
        "plt.scatter(X[:, 0], X[:, 1], alpha=0.8)\n",
        "plt.scatter(selection[:, 0], selection[:, 1],\n",
        "            facecolor='none', edgecolor='black', s=200);"
      ]
    },
    {
      "cell_type": "markdown",
      "metadata": {
        "id": "-VKQaQ2ZraLB"
      },
      "source": [
        "This sort of strategy is often used to quickly partition datasets, as is often needed in train/test splitting for validation of statistical models (see [Hyperparameters and Model Validation](05.03-Hyperparameters-and-Model-Validation.ipynb)), and in sampling approaches to answering statistical questions."
      ]
    },
    {
      "cell_type": "markdown",
      "metadata": {
        "id": "-ZJ2EZ0traLB"
      },
      "source": [
        "## Modifying Values with Fancy Indexing\n",
        "\n",
        "Just as fancy indexing can be used to access parts of an array, it can also be used to modify parts of an array.\n",
        "For example, imagine we have an array of indices and we'd like to set the corresponding items in an array to some value:"
      ]
    },
    {
      "cell_type": "code",
      "execution_count": 76,
      "metadata": {
        "id": "8iX9OAA3raLE",
        "jupyter": {
          "outputs_hidden": false
        },
        "outputId": "d030c8bc-a226-4ac4-a262-e03a96e57c7a"
      },
      "outputs": [
        {
          "name": "stdout",
          "output_type": "stream",
          "text": [
            "[ 0 99 99  3 99  5  6  7 99  9]\n"
          ]
        }
      ],
      "source": [
        "x = np.arange(10)\n",
        "i = np.array([2, 1, 8, 4])\n",
        "x[i] = 99\n",
        "print(x)"
      ]
    },
    {
      "cell_type": "markdown",
      "metadata": {
        "id": "U7FyzTxpraLF"
      },
      "source": [
        "We can use any assignment-type operator for this. For example:"
      ]
    },
    {
      "cell_type": "code",
      "execution_count": 77,
      "metadata": {
        "id": "F3ZxrS5eraLF",
        "jupyter": {
          "outputs_hidden": false
        },
        "outputId": "9d5c936e-b160-43cf-89b2-95f4cc6a35ee"
      },
      "outputs": [
        {
          "name": "stdout",
          "output_type": "stream",
          "text": [
            "[ 0 89 89  3 89  5  6  7 89  9]\n"
          ]
        }
      ],
      "source": [
        "x[i] -= 10\n",
        "print(x)"
      ]
    },
    {
      "cell_type": "markdown",
      "metadata": {
        "id": "Y1wWPGPKraLF"
      },
      "source": [
        "Notice, though, that repeated indices with these operations can cause some potentially unexpected results. Consider the following:"
      ]
    },
    {
      "cell_type": "code",
      "execution_count": 78,
      "metadata": {
        "id": "PYBOBaY1raLF",
        "jupyter": {
          "outputs_hidden": false
        },
        "outputId": "bab5b13a-fc75-412c-b3e6-59ac6d982fd0"
      },
      "outputs": [
        {
          "name": "stdout",
          "output_type": "stream",
          "text": [
            "[6. 0. 0. 0. 0. 0. 0. 0. 0. 0.]\n"
          ]
        }
      ],
      "source": [
        "x = np.zeros(10)\n",
        "x[[0, 0]] = [4, 6]\n",
        "print(x)"
      ]
    },
    {
      "cell_type": "markdown",
      "metadata": {
        "id": "7MKNXT-FraLF"
      },
      "source": [
        "Where did the 4 go? This operation first assigns `x[0] = 4`, followed by `x[0] = 6`.\n",
        "The result, of course, is that `x[0]` contains the value 6.\n",
        "\n",
        "Fair enough, but consider this operation:"
      ]
    },
    {
      "cell_type": "code",
      "execution_count": 79,
      "metadata": {
        "id": "1ZBal85RraLF",
        "jupyter": {
          "outputs_hidden": false
        },
        "outputId": "c16f5f72-0e4e-4d29-c3a0-f2c67904e679"
      },
      "outputs": [
        {
          "data": {
            "text/plain": [
              "array([6., 0., 1., 1., 1., 0., 0., 0., 0., 0.])"
            ]
          },
          "execution_count": 79,
          "metadata": {},
          "output_type": "execute_result"
        }
      ],
      "source": [
        "i = [2, 3, 3, 4, 4, 4]\n",
        "x[i] += 1\n",
        "x"
      ]
    },
    {
      "cell_type": "markdown",
      "metadata": {
        "id": "-mWRVAd6raLF"
      },
      "source": [
        "You might expect that `x[3]` would contain the value 2 and `x[4]` would contain the value 3, as this is how many times each index is repeated. Why is this not the case?\n",
        "Conceptually, this is because `x[i] += 1` is meant as a shorthand of `x[i] = x[i] + 1`. `x[i] + 1` is evaluated, and then the result is assigned to the indices in `x`.\n",
        "With this in mind, it is not the augmentation that happens multiple times, but the assignment, which leads to the rather nonintuitive results.\n",
        "\n",
        "So what if you want the other behavior where the operation is repeated? For this, you can use the `at` method of ufuncs and do the following:"
      ]
    },
    {
      "cell_type": "code",
      "execution_count": 80,
      "metadata": {
        "id": "Bs-MUHPKraLF",
        "jupyter": {
          "outputs_hidden": false
        },
        "outputId": "852aa6c9-de9f-476b-9776-9e5a728de441"
      },
      "outputs": [
        {
          "name": "stdout",
          "output_type": "stream",
          "text": [
            "[0. 0. 1. 2. 3. 0. 0. 0. 0. 0.]\n"
          ]
        }
      ],
      "source": [
        "x = np.zeros(10)\n",
        "np.add.at(x, i, 1)\n",
        "print(x)"
      ]
    },
    {
      "cell_type": "markdown",
      "metadata": {
        "id": "-d2SorZuraLF"
      },
      "source": [
        "The `at` method does an in-place application of the given operator at the specified indices (here, `i`) with the specified value (here, 1).\n",
        "Another method that is similar in spirit is the `reduceat` method of ufuncs, which you can read about in the [NumPy documentation](https://numpy.org/doc/stable/reference/ufuncs.html)."
      ]
    },
    {
      "cell_type": "markdown",
      "metadata": {
        "id": "bu6hamkxraLF"
      },
      "source": [
        "## Example: Binning Data\n",
        "\n",
        "You could use these ideas to efficiently do custom binned computations on data.\n",
        "For example, imagine we have 100 values and would like to quickly find where they fall within an array of bins.\n",
        "We could compute this using `ufunc.at` like this:"
      ]
    },
    {
      "cell_type": "code",
      "execution_count": 81,
      "metadata": {
        "id": "saGQJoDIraLF",
        "jupyter": {
          "outputs_hidden": false
        }
      },
      "outputs": [],
      "source": [
        "rng = np.random.default_rng(seed=1701)\n",
        "x = rng.normal(size=100)\n",
        "\n",
        "# compute a histogram by hand\n",
        "bins = np.linspace(-5, 5, 20)\n",
        "counts = np.zeros_like(bins)\n",
        "\n",
        "# find the appropriate bin for each x\n",
        "i = np.searchsorted(bins, x)\n",
        "\n",
        "# add 1 to each of these bins\n",
        "np.add.at(counts, i, 1)"
      ]
    },
    {
      "cell_type": "markdown",
      "metadata": {
        "id": "bHjhf8d-raLF"
      },
      "source": [
        "The counts now reflect the number of points within each bin—in other words, a histogram (see the following figure):"
      ]
    },
    {
      "cell_type": "code",
      "execution_count": 82,
      "metadata": {
        "id": "T5Wp5DxJraLF",
        "jupyter": {
          "outputs_hidden": false
        },
        "outputId": "6f057378-19ac-4279-a00e-fed493b749cf"
      },
      "outputs": [
        {
          "data": {
            "image/png": "[encoded data removed]",
            "text/plain": [
              "<Figure size 640x480 with 1 Axes>"
            ]
          },
          "metadata": {},
          "output_type": "display_data"
        }
      ],
      "source": [
        "# plot the results\n",
        "plt.plot(bins, counts, drawstyle='steps');"
      ]
    },
    {
      "cell_type": "markdown",
      "metadata": {
        "id": "KZZtTyMVraLF"
      },
      "source": [
        "Of course, it would be inconvenient to have to do this each time you want to plot a histogram.\n",
        "This is why Matplotlib provides the `plt.hist` routine, which does the same in a single line:\n",
        "\n",
        "```python\n",
        "plt.hist(x, bins, histtype='step');\n",
        "```\n",
        "\n",
        "This function will create a nearly identical plot to the one just shown.\n",
        "To compute the binning, Matplotlib uses the `np.histogram` function, which does a very similar computation to what we did before. Let's compare the two here:"
      ]
    },
    {
      "cell_type": "code",
      "execution_count": 83,
      "metadata": {
        "id": "gPfycx3VraLF",
        "jupyter": {
          "outputs_hidden": false
        },
        "outputId": "cc1c54ce-b444-41bd-a25c-cd33c5ab65e8"
      },
      "outputs": [
        {
          "name": "stdout",
          "output_type": "stream",
          "text": [
            "NumPy histogram (100 points):\n"
          ]
        },
        {
          "name": "stdout",
          "output_type": "stream",
          "text": [
            "17.8 µs ± 1.01 µs per loop (mean ± std. dev. of 7 runs, 10000 loops each)\n",
            "Custom histogram (100 points):\n",
            "11.7 µs ± 47.2 ns per loop (mean ± std. dev. of 7 runs, 100000 loops each)\n"
          ]
        }
      ],
      "source": [
        "print(f\"NumPy histogram ({len(x)} points):\")\n",
        "%timeit counts, edges = np.histogram(x, bins)\n",
        "\n",
        "print(f\"Custom histogram ({len(x)} points):\")\n",
        "%timeit np.add.at(counts, np.searchsorted(bins, x), 1)"
      ]
    },
    {
      "cell_type": "markdown",
      "metadata": {
        "id": "1_CAuWBFraLF"
      },
      "source": [
        "Our own one-line algorithm is twice as fast as the optimized algorithm in NumPy! How can this be? If you dig into the `np.histogram` source code (you can do this in IPython by typing `np.histogram??`), you'll see that it's quite a bit more involved than the simple search-and-count that we've done; this is because NumPy's algorithm is more flexible, and particularly is designed for better performance when the number of data points becomes large:"
      ]
    },
    {
      "cell_type": "code",
      "execution_count": 84,
      "metadata": {
        "id": "yRAxtqGnraLG",
        "jupyter": {
          "outputs_hidden": false
        },
        "outputId": "0bfb20c3-d475-4d23-dd0f-68c16ddca071"
      },
      "outputs": [
        {
          "name": "stdout",
          "output_type": "stream",
          "text": [
            "NumPy histogram (1000000 points):\n",
            "61.4 ms ± 129 µs per loop (mean ± std. dev. of 7 runs, 10 loops each)\n",
            "Custom histogram (1000000 points):\n",
            "84.7 ms ± 458 µs per loop (mean ± std. dev. of 7 runs, 10 loops each)\n"
          ]
        }
      ],
      "source": [
        "x = rng.normal(size=1000000)\n",
        "print(f\"NumPy histogram ({len(x)} points):\")\n",
        "%timeit counts, edges = np.histogram(x, bins)\n",
        "\n",
        "print(f\"Custom histogram ({len(x)} points):\")\n",
        "%timeit np.add.at(counts, np.searchsorted(bins, x), 1)"
      ]
    },
    {
      "cell_type": "markdown",
      "metadata": {
        "id": "GmCsee1praLG"
      },
      "source": [
        "What this comparison shows is that algorithmic efficiency is almost never a simple question. An algorithm efficient for large datasets will not always be the best choice for small datasets, and vice versa (see [Big-O Notation](02.08-Sorting.ipynb#Big-O-Notation)).\n",
        "But the advantage of coding this algorithm yourself is that with an understanding of these basic methods, the sky is the limit: you're no longer constrained to built-in routines, but can create your own approaches to exploring the data.\n",
        "Key to efficiently using Python in data-intensive applications is not only knowing about general convenience routines like `np.histogram` and when they're appropriate, but also knowing how to make use of lower-level functionality when you need more pointed behavior."
      ]
    }
  ],
  "metadata": {
    "anaconda-cloud": {},
    "colab": {
      "provenance": []
    },
    "jupytext": {
      "formats": "ipynb,md"
    },
    "kernelspec": {
      "display_name": "Python 3 (ipykernel)",
      "language": "python",
      "name": "python3"
    },
    "language_info": {
      "codemirror_mode": {
        "name": "ipython",
        "version": 3
      },
      "file_extension": ".py",
      "mimetype": "text/x-python",
      "name": "python",
      "nbconvert_exporter": "python",
      "pygments_lexer": "ipython3",
      "version": "3.9.13"
    }
  },
  "nbformat": 4,
  "nbformat_minor": 0
}
