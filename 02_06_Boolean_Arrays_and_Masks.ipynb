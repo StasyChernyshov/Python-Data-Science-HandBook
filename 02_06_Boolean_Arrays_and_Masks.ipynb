{
  "cells": [
    {
      "cell_type": "markdown",
      "metadata": {
        "id": "zHuvuGX3phgw"
      },
      "source": [
        "# Comparisons, Masks, and Boolean Logic"
      ]
    },
    {
      "cell_type": "markdown",
      "metadata": {
        "id": "TEYDduxRphgy"
      },
      "source": [
        "This chapter covers the use of Boolean masks to examine and manipulate values within NumPy arrays.\n",
        "Masking comes up when you want to extract, modify, count, or otherwise manipulate values in an array based on some criterion: for example, you might wish to count all values greater than a certain value, or remove all outliers that are above some threshold.\n",
        "In NumPy, Boolean masking is often the most efficient way to accomplish these types of tasks."
      ]
    },
    {
      "cell_type": "markdown",
      "metadata": {
        "id": "VB3juhMbphgy"
      },
      "source": [
        "## Example: Counting Rainy Days\n",
        "\n",
        "Imagine you have a series of data that represents the amount of precipitation each day for a year in a given city.\n",
        "For example, here we'll load the daily rainfall statistics for the city of Seattle in 2015, using Pandas (see [Part 3](03.00-Introduction-to-Pandas.ipynb)):"
      ]
    },
    {
      "cell_type": "code",
      "execution_count": 142,
      "metadata": {
        "id": "yrj7WEHZphgy",
        "jupyter": {
          "outputs_hidden": false
        },
        "outputId": "e59a989c-f04f-4744-b262-c391f6153405"
      },
      "outputs": [
        {
          "name": "stdout",
          "output_type": "stream",
          "text": [
            "[  0  41  15   0   0   3 122  97  58  43 213  15   0   0   0   0   0   0\n",
            "   0   0   0   5   0   0   0   0   0  89 216   0  23  20   0   0   0   0\n",
            "   0   0  51   5 183 170  46  18  94 117 264 145 152  10  30  28  25  61\n",
            " 130   3   0   0   0   5 191 107 165 467  30   0 323  43 188   0   0   5\n",
            "  69  81 277   3   0   5   0   0   0   0   0  41  36   3 221 140   0   0\n",
            "   0   0  25   0  46   0   0  46   0   0   0   0   0   0   5 109 185   0\n",
            " 137   0  51 142  89 124   0  33  69   0   0   0   0   0 333 160  51   0\n",
            "   0 137  20   5   0   0   0   0   0   0   0   0   0   0   0   0  38   0\n",
            "  56   0   0   0   0   0   0   0   0   0   0   0   0   0   0   0   0   0\n",
            "  18  64   0   5  36  13   0   8   3   0   0   0   0   0   0  18  23   0\n",
            "   0   0   0   0   0   0   0   0   0   0   0   0   0   0   0   0   0   0\n",
            "   0   0   0   0   3 193   0   0   0   0   0   0   0   0   0   5   0   0\n",
            "   0   0   0   0   0   0   5 127 216   0  10   0   0   0   0   0   0   0\n",
            "   0   0   0   0   0   0   0  84  13   0  30   0   0   0   0   0   0   0\n",
            "   0   0   0   0   0   0   0   5   3   0   0   0   3 183 203  43  89   0\n",
            "   0   8   0   0   0   0   0   0   0   0   0   0   3  74   0  76  71  86\n",
            "   0  33 150   0 117  10 320  94  41  61  15   8 127   5 254 170   0  18\n",
            " 109  41  48  41   0   0  51   0   0   0   0   0   0   0   0   0   0  36\n",
            " 152   5 119  13 183   3  33 343  36   0   0   0   0   8  30  74   0  91\n",
            "  99 130  69   0   0   0   0   0  28 130  30 196   0   0 206  53   0   0\n",
            "  33  41   0   0   0]\n"
          ]
        }
      ],
      "source": [
        "import numpy as np\n",
        "\n",
        "import pandas as pd\n",
        "\n",
        "\n",
        "rainfall = pd.read_csv(\"/Users/staschernyshov/Desktop/Python Data Science HandBook/Data Sets/Seattle2014.csv\")['PRCP'].values\n",
        "print(rainfall)\n",
        "# Use DataFrame operations to extract rainfall as a NumPy array\n",
        "len(rainfall)\n",
        "inches= rainfall /254"
      ]
    },
    {
      "cell_type": "markdown",
      "metadata": {
        "id": "jy50I-urphgz"
      },
      "source": [
        "The array contains 365 values, giving daily rainfall in millimeters from January 1 to December 31, 2015.\n",
        "\n",
        "As a first quick visualization, let's look at the histogram of rainy days in the following figure, which was generated using Matplotlib (we will explore this tool more fully in [Part 4](04.00-Introduction-To-Matplotlib.ipynb)):"
      ]
    },
    {
      "cell_type": "code",
      "execution_count": 143,
      "metadata": {
        "id": "McBcbDD1phgz",
        "jupyter": {
          "outputs_hidden": false
        }
      },
      "outputs": [],
      "source": [
        "%matplotlib inline\n",
        "import matplotlib.pyplot as plt\n",
        "plt.style.use('seaborn-whitegrid')"
      ]
    },
    {
      "cell_type": "code",
      "execution_count": 144,
      "metadata": {
        "id": "oB_XiEDVphgz",
        "jupyter": {
          "outputs_hidden": false
        },
        "outputId": "92906348-1214-4780-df0a-4092ce3825ff"
      },
      "outputs": [
        {
          "data": {
            "image/png": "[encoded data removed]",
            "text/plain": [
              "<Figure size 640x480 with 1 Axes>"
            ]
          },
          "metadata": {},
          "output_type": "display_data"
        }
      ],
      "source": [
        "plt.hist(inches, 40);"
      ]
    },
    {
      "cell_type": "markdown",
      "metadata": {
        "id": "q4YwY_z_phg0"
      },
      "source": [
        "This histogram gives us a general idea of what the data looks like: despite the city's rainy reputation, the vast majority of days in Seattle saw near zero measured rainfall in 2015.\n",
        "But this doesn't do a good job of conveying some information we'd like to see: for example, how many rainy days were there in the year? What was the average precipitation on those rainy days? How many days were there with more than 10 mm of rainfall?\n",
        "\n",
        "One approach to this would be to answer these questions by hand: we could loop through the data, incrementing a counter each time we see values in some desired range.\n",
        "But for reasons discussed throughout this chapter, such an approach is very inefficient from the standpoint of both time writing code and time computing the result.\n",
        "We saw in [Computation on NumPy Arrays: Universal Functions](02.03-Computation-on-arrays-ufuncs.ipynb) that NumPy's ufuncs can be used in place of loops to do fast element-wise arithmetic operations on arrays; in the same way, we can use other ufuncs to do element-wise *comparisons* over arrays, and we can then manipulate the results to answer the questions we have.\n",
        "We'll leave the data aside for now, and discuss some general tools in NumPy to use *masking* to quickly answer these types of questions."
      ]
    },
    {
      "cell_type": "markdown",
      "metadata": {
        "id": "JXsD3_4xphg0"
      },
      "source": [
        "## Comparison Operators as Ufuncs\n",
        "\n",
        "[Computation on NumPy Arrays: Universal Functions](02.03-Computation-on-arrays-ufuncs.ipynb) introduced ufuncs, and focused in particular on arithmetic operators. We saw that using `+`, `-`, `*`, `/`, and other operators on arrays leads to element-wise operations.\n",
        "NumPy also implements comparison operators such as `<` (less than) and `>` (greater than) as element-wise ufuncs.\n",
        "The result of these comparison operators is always an array with a Boolean data type.\n",
        "All six of the standard comparison operations are available:"
      ]
    },
    {
      "cell_type": "code",
      "execution_count": 145,
      "metadata": {
        "id": "B3c5AM82phg0",
        "tags": []
      },
      "outputs": [],
      "source": [
        "x = np.array([1, 2, 3, 4, 5])"
      ]
    },
    {
      "cell_type": "code",
      "execution_count": 146,
      "metadata": {
        "id": "5yZwSuKzphg0",
        "jupyter": {
          "outputs_hidden": false
        },
        "outputId": "c84a63a3-b81a-4765-d36e-8727e171cfba"
      },
      "outputs": [
        {
          "data": {
            "text/plain": [
              "array([ True,  True, False, False, False])"
            ]
          },
          "execution_count": 146,
          "metadata": {},
          "output_type": "execute_result"
        }
      ],
      "source": [
        "x < 3  # less than"
      ]
    },
    {
      "cell_type": "code",
      "execution_count": 147,
      "metadata": {
        "id": "Ikkdn-Suphg0",
        "jupyter": {
          "outputs_hidden": false
        },
        "outputId": "da681f7c-fefe-49c2-bc2b-a24ff3de4b9b"
      },
      "outputs": [
        {
          "data": {
            "text/plain": [
              "array([False, False, False,  True,  True])"
            ]
          },
          "execution_count": 147,
          "metadata": {},
          "output_type": "execute_result"
        }
      ],
      "source": [
        "x > 3  # greater than"
      ]
    },
    {
      "cell_type": "code",
      "execution_count": 148,
      "metadata": {
        "id": "AhEuBzfEphg0",
        "jupyter": {
          "outputs_hidden": false
        },
        "outputId": "adf1cb25-c09a-488d-aa86-d2a89bb286e8"
      },
      "outputs": [
        {
          "data": {
            "text/plain": [
              "array([ True,  True,  True, False, False])"
            ]
          },
          "execution_count": 148,
          "metadata": {},
          "output_type": "execute_result"
        }
      ],
      "source": [
        "x <= 3  # less than or equal"
      ]
    },
    {
      "cell_type": "code",
      "execution_count": 149,
      "metadata": {
        "id": "cUHpO3Lvphg0",
        "jupyter": {
          "outputs_hidden": false
        },
        "outputId": "c4c0054d-ed1c-4a15-8f39-45e0a3d58d40"
      },
      "outputs": [
        {
          "data": {
            "text/plain": [
              "array([False, False,  True,  True,  True])"
            ]
          },
          "execution_count": 149,
          "metadata": {},
          "output_type": "execute_result"
        }
      ],
      "source": [
        "x >= 3  # greater than or equal"
      ]
    },
    {
      "cell_type": "code",
      "execution_count": 150,
      "metadata": {
        "id": "w6j2rzk0phg0",
        "jupyter": {
          "outputs_hidden": false
        },
        "outputId": "79078de8-8fb0-4a4f-88ee-3374b7502fce"
      },
      "outputs": [
        {
          "data": {
            "text/plain": [
              "array([ True,  True, False,  True,  True])"
            ]
          },
          "execution_count": 150,
          "metadata": {},
          "output_type": "execute_result"
        }
      ],
      "source": [
        "x != 3  # not equal"
      ]
    },
    {
      "cell_type": "code",
      "execution_count": 151,
      "metadata": {
        "id": "HejOcm4Jphg0",
        "jupyter": {
          "outputs_hidden": false
        },
        "outputId": "594e6913-509f-4df4-938b-b70353e25f71"
      },
      "outputs": [
        {
          "data": {
            "text/plain": [
              "array([False, False,  True, False, False])"
            ]
          },
          "execution_count": 151,
          "metadata": {},
          "output_type": "execute_result"
        }
      ],
      "source": [
        "x == 3  # equal"
      ]
    },
    {
      "cell_type": "markdown",
      "metadata": {
        "id": "pV7Lou_Rphg1"
      },
      "source": [
        "It is also possible to do an element-wise comparison of two arrays, and to include compound expressions:"
      ]
    },
    {
      "cell_type": "code",
      "execution_count": 152,
      "metadata": {
        "id": "0ncv05pCphg1",
        "jupyter": {
          "outputs_hidden": false
        },
        "outputId": "0bcb4147-5a79-4799-d549-167adb464618"
      },
      "outputs": [
        {
          "data": {
            "text/plain": [
              "array([False,  True, False, False, False])"
            ]
          },
          "execution_count": 152,
          "metadata": {},
          "output_type": "execute_result"
        }
      ],
      "source": [
        "(2 * x) == (x ** 2)"
      ]
    },
    {
      "cell_type": "markdown",
      "metadata": {
        "id": "3jHqExz_phg1"
      },
      "source": [
        "As in the case of arithmetic operators, the comparison operators are implemented as ufuncs in NumPy; for example, when you write `x < 3`, internally NumPy uses `np.less(x, 3)`.\n",
        "    A summary of the comparison operators and their equivalent ufuncs is shown here:\n",
        "\n",
        "| Operator    | Equivalent ufunc  | Operator   | Equivalent ufunc |\n",
        "|-------------|-------------------|------------|------------------|\n",
        "|`==`         |`np.equal`         |`!=`        |`np.not_equal`    |\n",
        "|`<`          |`np.less`          |`<=`        |`np.less_equal`   |\n",
        "|`>`          |`np.greater`       |`>=`        |`np.greater_equal`|"
      ]
    },
    {
      "cell_type": "markdown",
      "metadata": {
        "id": "JZJ_TU7rphg1"
      },
      "source": [
        "Just as in the case of arithmetic ufuncs, these will work on arrays of any size and shape.\n",
        "Here is a two-dimensional example:"
      ]
    },
    {
      "cell_type": "code",
      "execution_count": 153,
      "metadata": {
        "id": "IfNDX7MGphg1",
        "jupyter": {
          "outputs_hidden": false
        },
        "outputId": "46e717cb-dcaa-47a4-8fb6-278fdbeffeb2"
      },
      "outputs": [
        {
          "data": {
            "text/plain": [
              "array([[9, 4, 0, 3],\n",
              "       [8, 6, 3, 1],\n",
              "       [3, 7, 4, 0]])"
            ]
          },
          "execution_count": 153,
          "metadata": {},
          "output_type": "execute_result"
        }
      ],
      "source": [
        "rng = np.random.default_rng(seed=1701)\n",
        "x = rng.integers(10, size=(3, 4))\n",
        "x"
      ]
    },
    {
      "cell_type": "code",
      "execution_count": 154,
      "metadata": {
        "id": "DoLrjv_Uphg1",
        "jupyter": {
          "outputs_hidden": false
        },
        "outputId": "86e563cb-a7bd-4b3a-f767-7756aa7f5e89"
      },
      "outputs": [
        {
          "data": {
            "text/plain": [
              "array([[False,  True,  True,  True],\n",
              "       [False, False,  True,  True],\n",
              "       [ True, False,  True,  True]])"
            ]
          },
          "execution_count": 154,
          "metadata": {},
          "output_type": "execute_result"
        }
      ],
      "source": [
        "x < 6"
      ]
    },
    {
      "cell_type": "markdown",
      "metadata": {
        "id": "fb61DRoFphg1"
      },
      "source": [
        "In each case, the result is a Boolean array, and NumPy provides a number of straightforward patterns for working with these Boolean results."
      ]
    },
    {
      "cell_type": "markdown",
      "metadata": {
        "id": "Br1thphfphg2"
      },
      "source": [
        "## Working with Boolean Arrays\n",
        "\n",
        "Given a Boolean array, there are a host of useful operations you can do.\n",
        "We'll work with `x`, the two-dimensional array we created earlier:"
      ]
    },
    {
      "cell_type": "code",
      "execution_count": 155,
      "metadata": {
        "id": "RhIRg4_vphg2",
        "jupyter": {
          "outputs_hidden": false
        },
        "outputId": "f68f1cf7-9535-4329-b309-277f083c5767"
      },
      "outputs": [
        {
          "name": "stdout",
          "output_type": "stream",
          "text": [
            "[[9 4 0 3]\n",
            " [8 6 3 1]\n",
            " [3 7 4 0]]\n"
          ]
        }
      ],
      "source": [
        "print(x)"
      ]
    },
    {
      "cell_type": "markdown",
      "metadata": {
        "id": "V14lu-skphg2"
      },
      "source": [
        "### Counting Entries\n",
        "\n",
        "To count the number of `True` entries in a Boolean array, `np.count_nonzero` is useful:"
      ]
    },
    {
      "cell_type": "code",
      "execution_count": 156,
      "metadata": {
        "id": "pkY9V28vphg2",
        "jupyter": {
          "outputs_hidden": false
        },
        "outputId": "229b0986-fcaa-424a-85bd-0c1d9b69a284"
      },
      "outputs": [
        {
          "data": {
            "text/plain": [
              "8"
            ]
          },
          "execution_count": 156,
          "metadata": {},
          "output_type": "execute_result"
        }
      ],
      "source": [
        "# how many values less than 6?\n",
        "np.count_nonzero(x < 6)"
      ]
    },
    {
      "cell_type": "markdown",
      "metadata": {
        "id": "LPBvk73wphg2"
      },
      "source": [
        "We see that there are eight array entries that are less than 6.\n",
        "Another way to get at this information is to use `np.sum`; in this case, `False` is interpreted as `0`, and `True` is interpreted as `1`:"
      ]
    },
    {
      "cell_type": "code",
      "execution_count": 157,
      "metadata": {
        "id": "zmyA3VVKphg2",
        "jupyter": {
          "outputs_hidden": false
        },
        "outputId": "ec07ca88-63ec-4b10-ac39-792ba8025807"
      },
      "outputs": [
        {
          "data": {
            "text/plain": [
              "9"
            ]
          },
          "execution_count": 157,
          "metadata": {},
          "output_type": "execute_result"
        }
      ],
      "source": [
        "np.sum(x <= 6)"
      ]
    },
    {
      "cell_type": "markdown",
      "metadata": {
        "id": "VFeJr5Uephg2"
      },
      "source": [
        "The benefit of `np.sum` is that, like with other NumPy aggregation functions, this summation can be done along rows or columns as well:"
      ]
    },
    {
      "cell_type": "code",
      "execution_count": 158,
      "metadata": {
        "id": "y1A7nFi9phg2",
        "jupyter": {
          "outputs_hidden": false
        },
        "outputId": "8538f1e8-70ba-48cf-a490-1dea2ed5758b"
      },
      "outputs": [
        {
          "name": "stdout",
          "output_type": "stream",
          "text": [
            "[[3]\n",
            " [2]\n",
            " [3]]\n",
            "[1 1 3 3]\n"
          ]
        }
      ],
      "source": [
        "# how many values less than 6 in each row?\n",
        "print(np.sum(x < 6, axis=1)[:,np.newaxis])\n",
        "# how many values less than 6 in each column?\n",
        "print(np.sum(x < 6, axis=0))"
      ]
    },
    {
      "cell_type": "markdown",
      "metadata": {
        "id": "XcyFvFLGphg2"
      },
      "source": [
        "This counts the number of values less than 6 in each row of the matrix.\n",
        "\n",
        "If we're interested in quickly checking whether any or all the values are `True`, we can use (you guessed it) `np.any` or `np.all`:"
      ]
    },
    {
      "cell_type": "code",
      "execution_count": 159,
      "metadata": {
        "id": "rYsPtpT5phg2",
        "jupyter": {
          "outputs_hidden": false
        },
        "outputId": "ac75c028-bcda-46b1-8b65-cdbc7451093d"
      },
      "outputs": [
        {
          "data": {
            "text/plain": [
              "True"
            ]
          },
          "execution_count": 159,
          "metadata": {},
          "output_type": "execute_result"
        }
      ],
      "source": [
        "# are there any values greater than 8?\n",
        "np.any(x > 8)"
      ]
    },
    {
      "cell_type": "code",
      "execution_count": 160,
      "metadata": {
        "id": "nTZKA1Iephg2",
        "jupyter": {
          "outputs_hidden": false
        },
        "outputId": "75cb18c8-bae1-4a2c-edfb-2dbad80ac59c"
      },
      "outputs": [
        {
          "data": {
            "text/plain": [
              "False"
            ]
          },
          "execution_count": 160,
          "metadata": {},
          "output_type": "execute_result"
        }
      ],
      "source": [
        "# are there any values less than zero?\n",
        "np.any(x < 0)"
      ]
    },
    {
      "cell_type": "code",
      "execution_count": 161,
      "metadata": {
        "id": "DLw3nVgFphg2",
        "jupyter": {
          "outputs_hidden": false
        },
        "outputId": "969d826a-d925-42df-c097-ffc850ec4863"
      },
      "outputs": [
        {
          "data": {
            "text/plain": [
              "True"
            ]
          },
          "execution_count": 161,
          "metadata": {},
          "output_type": "execute_result"
        }
      ],
      "source": [
        "# are all values less than 10?\n",
        "np.all(x < 10)"
      ]
    },
    {
      "cell_type": "code",
      "execution_count": 162,
      "metadata": {
        "id": "2cYonhprphg2",
        "jupyter": {
          "outputs_hidden": false
        },
        "outputId": "08da6b1a-3538-45db-8315-7f5685791b6b"
      },
      "outputs": [
        {
          "data": {
            "text/plain": [
              "False"
            ]
          },
          "execution_count": 162,
          "metadata": {},
          "output_type": "execute_result"
        }
      ],
      "source": [
        "# are all values equal to 6?\n",
        "np.all(x == 6)"
      ]
    },
    {
      "cell_type": "markdown",
      "metadata": {
        "id": "j1JPfS7qphg2"
      },
      "source": [
        "`np.all` and `np.any` can be used along particular axes as well. For example:"
      ]
    },
    {
      "cell_type": "code",
      "execution_count": 163,
      "metadata": {
        "id": "0wY5QT-gphg2",
        "jupyter": {
          "outputs_hidden": false
        },
        "outputId": "61909223-4ea3-44ce-8ff5-cc1b5de53168"
      },
      "outputs": [
        {
          "data": {
            "text/plain": [
              "array([False, False,  True])"
            ]
          },
          "execution_count": 163,
          "metadata": {},
          "output_type": "execute_result"
        }
      ],
      "source": [
        "# are all values in each row less than 8?\n",
        "np.all(x < 8, axis=1)"
      ]
    },
    {
      "cell_type": "markdown",
      "metadata": {
        "id": "3KdW7EgGphg2"
      },
      "source": [
        "Here all the elements in the third row are less than 8, while this is not the case for others.\n",
        "\n",
        "Finally, a quick warning: as mentioned in [Aggregations: Min, Max, and Everything In Between](02.04-Computation-on-arrays-aggregates.ipynb), Python has built-in `sum`, `any`, and `all` functions. These have a different syntax than the NumPy versions, and in particular will fail or produce unintended results when used on multidimensional arrays. Be sure that you are using `np.sum`, `np.any`, and `np.all` for these examples!"
      ]
    },
    {
      "cell_type": "markdown",
      "metadata": {
        "id": "CGWHazZxphg5"
      },
      "source": [
        "### Boolean Operators\n",
        "\n",
        "We've already seen how we might count, say, all days with less than 20 mm of rain, or all days with more than 10 mm of rain.\n",
        "But what if we want to know how many days there were with more than 10 mm and less than 20 mm of rain? We can accomplish this with Python's *bitwise logic operators*, `&`, `|`, `^`, and `~`.\n",
        "Like with the standard arithmetic operators, NumPy overloads these as ufuncs that work element-wise on (usually Boolean) arrays.\n",
        "\n",
        "For example, we can address this sort of compound question as follows:"
      ]
    },
    {
      "cell_type": "code",
      "execution_count": 164,
      "metadata": {
        "id": "M1fqXyMhphg5",
        "jupyter": {
          "outputs_hidden": false
        },
        "outputId": "70b63b5c-4008-4a3d-810f-8b9ca3fd6e0a"
      },
      "outputs": [
        {
          "data": {
            "text/plain": [
              "0"
            ]
          },
          "execution_count": 164,
          "metadata": {},
          "output_type": "execute_result"
        }
      ],
      "source": [
        "np.sum((inches > 10) & (inches < 20))"
      ]
    },
    {
      "cell_type": "markdown",
      "metadata": {
        "id": "P_xndvEdphg5"
      },
      "source": [
        "This tells us that there were 16 days with rainfall of between 10 and 20 millimeters.\n",
        "\n",
        "The parentheses here are important. Because of operator precedence rules, with the parentheses removed this expression would be evaluated as follows, which results in an error:\n",
        "\n",
        "``` python\n",
        "rainfall_mm > (10 & rainfall_mm) < 20\n",
        "```\n",
        "\n",
        "Let's demonstrate a more complicated expression. Using De Morgan's laws, we can compute the same result in a different manner:"
      ]
    },
    {
      "cell_type": "code",
      "execution_count": 165,
      "metadata": {
        "id": "6jv-Cu98phg5",
        "jupyter": {
          "outputs_hidden": false
        },
        "outputId": "3e64b36e-1e8e-4894-8dc5-ba99398bc822"
      },
      "outputs": [
        {
          "data": {
            "text/plain": [
              "0"
            ]
          },
          "execution_count": 165,
          "metadata": {},
          "output_type": "execute_result"
        }
      ],
      "source": [
        "np.sum(~( (inches <= 10) | (inches >= 20) ))"
      ]
    },
    {
      "cell_type": "markdown",
      "metadata": {
        "id": "FQ0Y4Z1-phg5"
      },
      "source": [
        "Combining comparison operators and Boolean operators on arrays can lead to a wide range of efficient logical operations.\n",
        "\n",
        "The following table summarizes the bitwise Boolean operators and their equivalent ufuncs:"
      ]
    },
    {
      "cell_type": "markdown",
      "metadata": {
        "id": "moqKMhgXphg5"
      },
      "source": [
        "| Operator    | Equivalent ufunc  | Operator    | Equivalent ufunc  |\n",
        "|-------------|-------------------|-------------|-------------------|\n",
        "|`&`          |`np.bitwise_and`   |&#124;       |`np.bitwise_or`    |\n",
        "|`^`          |`np.bitwise_xor`   |`~`          |`np.bitwise_not`   |"
      ]
    },
    {
      "cell_type": "markdown",
      "metadata": {
        "id": "wqoUlgeOphg6"
      },
      "source": [
        "Using these tools, we can start to answer many of the questions we might have about our weather data.\n",
        "Here are some examples of results we can compute when combining masking with aggregations:"
      ]
    },
    {
      "cell_type": "code",
      "execution_count": 166,
      "metadata": {
        "id": "jij9jUrcphg6",
        "jupyter": {
          "outputs_hidden": false
        },
        "outputId": "15a9ce1a-71c5-4199-a3e3-2cec855d8f3f"
      },
      "outputs": [
        {
          "name": "stdout",
          "output_type": "stream",
          "text": [
            "Number days without rain:   215\n",
            "Number days with rain:      150\n",
            "Days with more than 10 mm:  0\n",
            "Rainy days with < 5 mm:     150\n"
          ]
        }
      ],
      "source": [
        "print(\"Number days without rain:  \", np.sum(inches == 0))\n",
        "print(\"Number days with rain:     \", np.sum(inches != 0))\n",
        "print(\"Days with more than 10 mm: \", np.sum(inches > 10))\n",
        "print(\"Rainy days with < 5 mm:    \", np.sum((inches > 0) &\n",
        "                                            (inches < 5)))"
      ]
    },
    {
      "cell_type": "markdown",
      "metadata": {
        "id": "Cwjiw4Isphg6"
      },
      "source": [
        "## Boolean Arrays as Masks\n",
        "\n",
        "In the preceding section we looked at aggregates computed directly on Boolean arrays.\n",
        "A more powerful pattern is to use Boolean arrays as masks, to select particular subsets of the data themselves. Let's return to our `x` array from before:"
      ]
    },
    {
      "cell_type": "code",
      "execution_count": 167,
      "metadata": {
        "id": "lK0YO7VAphg6",
        "jupyter": {
          "outputs_hidden": false
        },
        "outputId": "23ab6215-ddbb-4453-dad6-13c660f1e395"
      },
      "outputs": [
        {
          "data": {
            "text/plain": [
              "array([[9, 4, 0, 3],\n",
              "       [8, 6, 3, 1],\n",
              "       [3, 7, 4, 0]])"
            ]
          },
          "execution_count": 167,
          "metadata": {},
          "output_type": "execute_result"
        }
      ],
      "source": [
        "x"
      ]
    },
    {
      "cell_type": "markdown",
      "metadata": {
        "id": "7x3YbMyjphg6"
      },
      "source": [
        "Suppose we want an array of all values in the array that are less than, say, 5. We can obtain a Boolean array for this condition easily, as we've already seen:"
      ]
    },
    {
      "cell_type": "code",
      "execution_count": 168,
      "metadata": {
        "id": "DmmaJ3Piphg6",
        "jupyter": {
          "outputs_hidden": false
        },
        "outputId": "40618468-651a-4546-9a14-8204160dbf7f"
      },
      "outputs": [
        {
          "data": {
            "text/plain": [
              "array([[False,  True,  True,  True],\n",
              "       [False, False,  True,  True],\n",
              "       [ True, False,  True,  True]])"
            ]
          },
          "execution_count": 168,
          "metadata": {},
          "output_type": "execute_result"
        }
      ],
      "source": [
        "x < 5"
      ]
    },
    {
      "cell_type": "markdown",
      "metadata": {
        "id": "KmGNgRzQphg6"
      },
      "source": [
        "Now, to *select* these values from the array, we can simply index on this Boolean array; this is known as a *masking* operation:"
      ]
    },
    {
      "cell_type": "code",
      "execution_count": 169,
      "metadata": {
        "id": "f73XoNDgphg6",
        "jupyter": {
          "outputs_hidden": false
        },
        "outputId": "6f4593f2-175c-4709-d800-7552e2b014c3"
      },
      "outputs": [
        {
          "data": {
            "text/plain": [
              "array([4, 0, 3, 3, 1, 3, 4, 0])"
            ]
          },
          "execution_count": 169,
          "metadata": {},
          "output_type": "execute_result"
        }
      ],
      "source": [
        "x[x < 5]"
      ]
    },
    {
      "cell_type": "markdown",
      "metadata": {
        "id": "iwqCadQSphg6"
      },
      "source": [
        "What is returned is a one-dimensional array filled with all the values that meet this condition; in other words, all the values in positions at which the mask array is `True`.\n",
        "\n",
        "We are then free to operate on these values as we wish.\n",
        "For example, we can compute some relevant statistics on our Seattle rain data:"
      ]
    },
    {
      "cell_type": "code",
      "execution_count": 186,
      "metadata": {
        "id": "h4QfupY_phg6",
        "jupyter": {
          "outputs_hidden": false
        },
        "outputId": "679647ab-8b91-4062-8328-e36a0a3793a8"
      },
      "outputs": [
        {
          "name": "stdout",
          "output_type": "stream",
          "text": [
            "0.0\n",
            "0.19488188976377951\n",
            "0.20078740157480315\n"
          ]
        }
      ],
      "source": [
        "# construct a mask of all rainy days\n",
        "rainy = (inches > 0)\n",
        "\n",
        "days =np.arange(365)\n",
        "\n",
        "summer = (days>172) & ((days<262))\n",
        "\n",
        "print(np.median(inches[summer]))\n",
        "print(np.median(inches[rainy]))\n",
        "print(np.median(inches[rainy & ~summer]))"
      ]
    },
    {
      "cell_type": "markdown",
      "metadata": {
        "id": "t_s1HVQiphg6"
      },
      "source": [
        "By combining Boolean operations, masking operations, and aggregates, we can very quickly answer these sorts of questions about our dataset."
      ]
    },
    {
      "cell_type": "markdown",
      "metadata": {
        "id": "HofXC-h5phg6"
      },
      "source": [
        "## Using the Keywords and/or Versus the Operators &/|\n",
        "\n",
        "One common point of confusion is the difference between the keywords `and` and `or` on the one hand, and the operators `&` and `|` on the other.\n",
        "When would you use one versus the other?\n",
        "\n",
        "The difference is this: `and` and `or` operate on the object as a whole, while `&` and `|` operate on the elements within the object.\n",
        "\n",
        "When you use `and` or `or`, it is equivalent to asking Python to treat the object as a single Boolean entity.\n",
        "In Python, all nonzero integers will evaluate as `True`. Thus:"
      ]
    },
    {
      "cell_type": "code",
      "execution_count": 171,
      "metadata": {
        "id": "andbuifLphg6",
        "jupyter": {
          "outputs_hidden": false
        },
        "outputId": "404bd508-bc9a-4798-fa08-13e6844d7c05"
      },
      "outputs": [
        {
          "data": {
            "text/plain": [
              "(True, False)"
            ]
          },
          "execution_count": 171,
          "metadata": {},
          "output_type": "execute_result"
        }
      ],
      "source": [
        "bool(42), bool(0)"
      ]
    },
    {
      "cell_type": "code",
      "execution_count": 172,
      "metadata": {
        "id": "DkInx0Nrphg6",
        "jupyter": {
          "outputs_hidden": false
        },
        "outputId": "e38c141a-693e-4f91-c883-0d036e929ca5"
      },
      "outputs": [
        {
          "data": {
            "text/plain": [
              "False"
            ]
          },
          "execution_count": 172,
          "metadata": {},
          "output_type": "execute_result"
        }
      ],
      "source": [
        "bool(42 and 0)"
      ]
    },
    {
      "cell_type": "code",
      "execution_count": 173,
      "metadata": {
        "id": "2sAhCKexphg6",
        "jupyter": {
          "outputs_hidden": false
        },
        "outputId": "9421010f-258c-400c-bcb0-11c959fc2e8f"
      },
      "outputs": [
        {
          "data": {
            "text/plain": [
              "True"
            ]
          },
          "execution_count": 173,
          "metadata": {},
          "output_type": "execute_result"
        }
      ],
      "source": [
        "bool(42 or 0)"
      ]
    },
    {
      "cell_type": "markdown",
      "metadata": {
        "id": "zZPWqQ1Yphg6"
      },
      "source": [
        "When you use `&` and `|` on integers, the expression operates on the bitwise representation of the element, applying the *and* or the *or* to the individual bits making up the number:"
      ]
    },
    {
      "cell_type": "code",
      "execution_count": 174,
      "metadata": {
        "id": "_8kEAGWGphg6",
        "jupyter": {
          "outputs_hidden": false
        },
        "outputId": "f3ae6279-d6c1-4e29-fbab-e5443357e1df"
      },
      "outputs": [
        {
          "data": {
            "text/plain": [
              "'0b101010'"
            ]
          },
          "execution_count": 174,
          "metadata": {},
          "output_type": "execute_result"
        }
      ],
      "source": [
        "bin(42)"
      ]
    },
    {
      "cell_type": "code",
      "execution_count": 175,
      "metadata": {
        "id": "r73UuW8Rphg6",
        "jupyter": {
          "outputs_hidden": false
        },
        "outputId": "b7410a3f-4c54-41d9-f0e7-7b7fe25c9314"
      },
      "outputs": [
        {
          "data": {
            "text/plain": [
              "'0b111011'"
            ]
          },
          "execution_count": 175,
          "metadata": {},
          "output_type": "execute_result"
        }
      ],
      "source": [
        "bin(59)"
      ]
    },
    {
      "cell_type": "code",
      "execution_count": 176,
      "metadata": {
        "id": "zBVOqzYpphg6",
        "jupyter": {
          "outputs_hidden": false
        },
        "outputId": "e23f41d5-caf8-452e-e764-7a14c3c13fff"
      },
      "outputs": [
        {
          "data": {
            "text/plain": [
              "'0b101010'"
            ]
          },
          "execution_count": 176,
          "metadata": {},
          "output_type": "execute_result"
        }
      ],
      "source": [
        "bin(42 & 59)"
      ]
    },
    {
      "cell_type": "code",
      "execution_count": 177,
      "metadata": {
        "id": "BYGmwMFgphg6",
        "jupyter": {
          "outputs_hidden": false
        },
        "outputId": "4d7c9866-cb36-422c-98f5-30cb92858c7b"
      },
      "outputs": [
        {
          "data": {
            "text/plain": [
              "'0b111011'"
            ]
          },
          "execution_count": 177,
          "metadata": {},
          "output_type": "execute_result"
        }
      ],
      "source": [
        "bin(42 | 59)"
      ]
    },
    {
      "cell_type": "markdown",
      "metadata": {
        "id": "cHxy9rCOphg6"
      },
      "source": [
        "Notice that the corresponding bits of the binary representation are compared in order to yield the result.\n",
        "\n",
        "When you have an array of Boolean values in NumPy, this can be thought of as a string of bits where `1 = True` and `0 = False`, and `&` and `|` will operate similarly to in the preceding examples:"
      ]
    },
    {
      "cell_type": "code",
      "execution_count": 178,
      "metadata": {
        "id": "FPj_r0Ciphg7",
        "jupyter": {
          "outputs_hidden": false
        },
        "outputId": "cfaee43f-a481-4a23-b499-095a305551d8"
      },
      "outputs": [
        {
          "data": {
            "text/plain": [
              "array([ True,  True,  True, False,  True,  True])"
            ]
          },
          "execution_count": 178,
          "metadata": {},
          "output_type": "execute_result"
        }
      ],
      "source": [
        "A = np.array([1, 0, 1, 0, 1, 0], dtype=bool)\n",
        "B = np.array([1, 1, 1, 0, 1, 1], dtype=bool)\n",
        "A | B"
      ]
    },
    {
      "cell_type": "markdown",
      "metadata": {
        "id": "TuIfdl3lphg7"
      },
      "source": [
        "But if you use `or` on these arrays it will try to evaluate the truth or falsehood of the entire array object, which is not a well-defined value:"
      ]
    },
    {
      "cell_type": "code",
      "execution_count": 179,
      "metadata": {
        "id": "sC8TDcNBphg7",
        "jupyter": {
          "outputs_hidden": false
        },
        "outputId": "0a43d3a9-7915-43f2-b1b0-f1fcc32c495d"
      },
      "outputs": [
        {
          "ename": "ValueError",
          "evalue": "The truth value of an array with more than one element is ambiguous. Use a.any() or a.all()",
          "output_type": "error",
          "traceback": [
            "\u001b[0;31m---------------------------------------------------------------------------\u001b[0m",
            "\u001b[0;31mValueError\u001b[0m                                Traceback (most recent call last)",
            "\u001b[0;32m/var/folders/fr/xc9ysqcs5dl4yzbc_409395m0000gn/T/ipykernel_44866/3447948156.py\u001b[0m in \u001b[0;36m<module>\u001b[0;34m\u001b[0m\n\u001b[0;32m----> 1\u001b[0;31m \u001b[0mA\u001b[0m \u001b[0;32mor\u001b[0m \u001b[0mB\u001b[0m\u001b[0;34m\u001b[0m\u001b[0;34m\u001b[0m\u001b[0m\n\u001b[0m",
            "\u001b[0;31mValueError\u001b[0m: The truth value of an array with more than one element is ambiguous. Use a.any() or a.all()"
          ]
        }
      ],
      "source": [
        "A or B"
      ]
    },
    {
      "cell_type": "markdown",
      "metadata": {
        "id": "dRuCv4rkphg7"
      },
      "source": [
        "Similarly, when evaluating a Boolean expression on a given array, you should use `|` or `&` rather than `or` or `and`:"
      ]
    },
    {
      "cell_type": "code",
      "execution_count": null,
      "metadata": {
        "id": "j0YwlAQIphg7",
        "jupyter": {
          "outputs_hidden": false
        },
        "outputId": "a21ab21e-9bb3-438e-f4a0-4066c40378f3"
      },
      "outputs": [
        {
          "data": {
            "text/plain": [
              "array([False, False, False, False, False,  True,  True,  True, False,\n",
              "       False])"
            ]
          },
          "execution_count": 39,
          "metadata": {},
          "output_type": "execute_result"
        }
      ],
      "source": [
        "x = np.arange(10)\n",
        "(x > 4) & (x < 8)"
      ]
    },
    {
      "cell_type": "markdown",
      "metadata": {
        "id": "gb7njr0Xphg7"
      },
      "source": [
        "Trying to evaluate the truth or falsehood of the entire array will give the same `ValueError` we saw previously:"
      ]
    },
    {
      "cell_type": "code",
      "execution_count": null,
      "metadata": {
        "id": "vRlprnbPphg7",
        "jupyter": {
          "outputs_hidden": false
        },
        "outputId": "c7ca9d6a-9c3a-4254-a843-2a46efb08986"
      },
      "outputs": [
        {
          "ename": "ValueError",
          "evalue": "The truth value of an array with more than one element is ambiguous. Use a.any() or a.all()",
          "output_type": "error",
          "traceback": [
            "\u001b[0;31m---------------------------------------------------------------------------\u001b[0m",
            "\u001b[0;31mValueError\u001b[0m                                Traceback (most recent call last)",
            "\u001b[0;32m/var/folders/xc/sptt9bk14s34rgxt7453p03r0000gp/T/ipykernel_93010/2869511139.py\u001b[0m in \u001b[0;36m<module>\u001b[0;34m\u001b[0m\n\u001b[0;32m----> 1\u001b[0;31m \u001b[0;34m(\u001b[0m\u001b[0mx\u001b[0m \u001b[0;34m>\u001b[0m \u001b[0;36m4\u001b[0m\u001b[0;34m)\u001b[0m \u001b[0;32mand\u001b[0m \u001b[0;34m(\u001b[0m\u001b[0mx\u001b[0m \u001b[0;34m<\u001b[0m \u001b[0;36m8\u001b[0m\u001b[0;34m)\u001b[0m\u001b[0;34m\u001b[0m\u001b[0;34m\u001b[0m\u001b[0m\n\u001b[0m",
            "\u001b[0;31mValueError\u001b[0m: The truth value of an array with more than one element is ambiguous. Use a.any() or a.all()"
          ]
        }
      ],
      "source": [
        "(x > 4) and (x < 8)"
      ]
    },
    {
      "cell_type": "markdown",
      "metadata": {
        "id": "je5fZoSJphg7"
      },
      "source": [
        "So, remember this: `and` and `or` perform a single Boolean evaluation on an entire object, while `&` and `|` perform multiple Boolean evaluations on the content (the individual bits or bytes) of an object.\n",
        "For Boolean NumPy arrays, the latter is nearly always the desired operation."
      ]
    }
  ],
  "metadata": {
    "anaconda-cloud": {},
    "colab": {
      "provenance": []
    },
    "jupytext": {
      "formats": "ipynb,md"
    },
    "kernelspec": {
      "display_name": "Python 3.9.6 64-bit ('3.9.6')",
      "language": "python",
      "name": "python3"
    },
    "language_info": {
      "codemirror_mode": {
        "name": "ipython",
        "version": 3
      },
      "file_extension": ".py",
      "mimetype": "text/x-python",
      "name": "python",
      "nbconvert_exporter": "python",
      "pygments_lexer": "ipython3",
      "version": "3.9.13"
    },
    "vscode": {
      "interpreter": {
        "hash": "513788764cd0ec0f97313d5418a13e1ea666d16d72f976a8acadce25a5af2ffc"
      }
    }
  },
  "nbformat": 4,
  "nbformat_minor": 0
}
