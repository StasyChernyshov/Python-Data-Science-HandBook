{
  "cells": [
    {
      "cell_type": "markdown",
      "metadata": {
        "id": "kl_Vz0tQrsdx"
      },
      "source": [
        "# High-Performance Pandas: eval and query"
      ]
    },
    {
      "cell_type": "markdown",
      "metadata": {
        "id": "IDpDyycersdy"
      },
      "source": [
        "As we've already seen in previous chapters, the power of the PyData stack is built upon the ability of NumPy and Pandas to push basic operations into lower-level compiled code via an intuitive higher-level syntax: examples are vectorized/broadcasted operations in NumPy, and grouping-type operations in Pandas.\n",
        "While these abstractions are efficient and effective for many common use cases, they often rely on the creation of temporary intermediate objects, which can cause undue overhead in computational time and memory use.\n",
        "\n",
        "To address this, Pandas includes some methods that allow you to directly access C-speed operations without costly allocation of intermediate arrays: `eval` and `query`, which rely on the [NumExpr package](https://github.com/pydata/numexpr).\n",
        "In this chapter I will walk you through their use and give some rules of thumb about when you might think about using them."
      ]
    },
    {
      "cell_type": "markdown",
      "metadata": {
        "id": "jUhbciZtrsdz"
      },
      "source": [
        "## Motivating query and eval: Compound Expressions\n",
        "\n",
        "We've seen previously that NumPy and Pandas support fast vectorized operations; for example, when adding the elements of two arrays:"
      ]
    },
    {
      "cell_type": "code",
      "execution_count": 1,
      "metadata": {
        "id": "HKjFp4Dkrsdz",
        "jupyter": {
          "outputs_hidden": false
        },
        "outputId": "3f3e9294-87f3-42d2-dd42-4748a3dce56d"
      },
      "outputs": [
        {
          "name": "stdout",
          "output_type": "stream",
          "text": [
            "440 µs ± 12.7 µs per loop (mean ± std. dev. of 7 runs, 1000 loops each)\n"
          ]
        }
      ],
      "source": [
        "import numpy as np\n",
        "rng = np.random.default_rng(42)\n",
        "x = rng.random(1000000)\n",
        "y = rng.random(1000000)\n",
        "%timeit x + y"
      ]
    },
    {
      "cell_type": "markdown",
      "metadata": {
        "id": "6tmC0nBbrsdz"
      },
      "source": [
        "As discussed in [Computation on NumPy Arrays: Universal Functions](02.03-Computation-on-arrays-ufuncs.ipynb), this is much faster than doing the addition via a Python loop or comprehension:"
      ]
    },
    {
      "cell_type": "code",
      "execution_count": 2,
      "metadata": {
        "id": "jRAW0Augrsdz",
        "jupyter": {
          "outputs_hidden": false
        },
        "outputId": "2b5cb0ab-d248-4e9d-cda3-507584cec829"
      },
      "outputs": [
        {
          "ename": "IndentationError",
          "evalue": "unexpected indent (1428579131.py, line 2)",
          "output_type": "error",
          "traceback": [
            "\u001b[0;36m  File \u001b[0;32m\"/var/folders/fr/xc9ysqcs5dl4yzbc_409395m0000gn/T/ipykernel_5440/1428579131.py\"\u001b[0;36m, line \u001b[0;32m2\u001b[0m\n\u001b[0;31m    dtype=x.dtype, count=len(x))\u001b[0m\n\u001b[0m    ^\u001b[0m\n\u001b[0;31mIndentationError\u001b[0m\u001b[0;31m:\u001b[0m unexpected indent\n"
          ]
        }
      ],
      "source": [
        "%timeit np.fromiter((xi + yi for xi, yi in zip(x, y)),\n",
        "                    dtype=x.dtype, count=len(x))"
      ]
    },
    {
      "cell_type": "markdown",
      "metadata": {
        "id": "h_fcq1bwrsd0"
      },
      "source": [
        "But this abstraction can become less efficient when computing compound expressions.\n",
        "For example, consider the following expression:"
      ]
    },
    {
      "cell_type": "code",
      "execution_count": null,
      "metadata": {
        "id": "ZpcE31Kzrsd0",
        "tags": []
      },
      "outputs": [],
      "source": [
        "mask = (x > 0.5) & (y < 0.5)"
      ]
    },
    {
      "cell_type": "markdown",
      "metadata": {
        "id": "8YJcLzGursd0"
      },
      "source": [
        "Because NumPy evaluates each subexpression, this is roughly equivalent to the following:"
      ]
    },
    {
      "cell_type": "code",
      "execution_count": null,
      "metadata": {
        "id": "RbeV_jClrsd0",
        "tags": []
      },
      "outputs": [],
      "source": [
        "tmp1 = (x > 0.5)\n",
        "tmp2 = (y < 0.5)\n",
        "mask = tmp1 & tmp2"
      ]
    },
    {
      "cell_type": "markdown",
      "metadata": {
        "id": "XyzgOOU3rsd0"
      },
      "source": [
        "In other words, *every intermediate step is explicitly allocated in memory*. If the `x` and `y` arrays are very large, this can lead to significant memory and computational overhead.\n",
        "The NumExpr library gives you the ability to compute this type of compound expression element by element, without the need to allocate full intermediate arrays.\n",
        "The [NumExpr documentation](https://github.com/pydata/numexpr) has more details, but for the time being it is sufficient to say that the library accepts a *string* giving the NumPy-style expression you'd like to compute:"
      ]
    },
    {
      "cell_type": "code",
      "execution_count": null,
      "metadata": {
        "id": "p4Mddu7krsd0",
        "jupyter": {
          "outputs_hidden": false
        },
        "outputId": "6d1bbed3-f54f-414f-c759-5fe2dad391e4"
      },
      "outputs": [
        {
          "data": {
            "text/plain": [
              "True"
            ]
          },
          "execution_count": 5,
          "metadata": {},
          "output_type": "execute_result"
        }
      ],
      "source": [
        "import numexpr\n",
        "mask_numexpr = numexpr.evaluate('(x > 0.5) & (y < 0.5)')\n",
        "np.all(mask == mask_numexpr)"
      ]
    },
    {
      "cell_type": "markdown",
      "metadata": {
        "id": "owb5G2l9rsd0"
      },
      "source": [
        "The benefit here is that NumExpr evaluates the expression in a way that avoids temporary arrays where possible, and thus can be much more efficient than NumPy, especially for long sequences of computations on large arrays.\n",
        "The Pandas `eval` and `query` tools that we will discuss here are conceptually similar, and are essentially Pandas-specific wrappers of NumExpr functionality."
      ]
    },
    {
      "cell_type": "markdown",
      "metadata": {
        "id": "cauhSDK0rsd0"
      },
      "source": [
        "## pandas.eval for Efficient Operations\n",
        "\n",
        "The `eval` function in Pandas uses string expressions to efficiently compute operations on `DataFrame` objects.\n",
        "For example, consider the following data:"
      ]
    },
    {
      "cell_type": "code",
      "execution_count": null,
      "metadata": {
        "id": "KhhvogeMrsd1",
        "jupyter": {
          "outputs_hidden": false
        }
      },
      "outputs": [],
      "source": [
        "import pandas as pd\n",
        "nrows, ncols = 100000, 100\n",
        "df1, df2, df3, df4 = (pd.DataFrame(rng.random((nrows, ncols)))\n",
        "                      for i in range(4))"
      ]
    },
    {
      "cell_type": "markdown",
      "metadata": {
        "id": "QsVI7ALfrsd1"
      },
      "source": [
        "To compute the sum of all four ``DataFrame``s using the typical Pandas approach, we can just write the sum:"
      ]
    },
    {
      "cell_type": "code",
      "execution_count": null,
      "metadata": {
        "id": "BJtdEwyfrsd1",
        "jupyter": {
          "outputs_hidden": false
        },
        "outputId": "96757d28-9c46-43d2-cfc0-692027034825"
      },
      "outputs": [
        {
          "name": "stdout",
          "output_type": "stream",
          "text": [
            "73.2 ms ± 6.72 ms per loop (mean ± std. dev. of 7 runs, 10 loops each)\n"
          ]
        }
      ],
      "source": [
        "%timeit df1 + df2 + df3 + df4"
      ]
    },
    {
      "cell_type": "markdown",
      "metadata": {
        "id": "8bG7jilprsd1"
      },
      "source": [
        "The same result can be computed via ``pd.eval`` by constructing the expression as a string:"
      ]
    },
    {
      "cell_type": "code",
      "execution_count": null,
      "metadata": {
        "id": "AsDackiXrsd1",
        "jupyter": {
          "outputs_hidden": false
        },
        "outputId": "bbe24df2-22bc-4ebe-fa5a-d14ac4ddef77"
      },
      "outputs": [
        {
          "name": "stdout",
          "output_type": "stream",
          "text": [
            "34 ms ± 4.2 ms per loop (mean ± std. dev. of 7 runs, 10 loops each)\n"
          ]
        }
      ],
      "source": [
        "%timeit pd.eval('df1 + df2 + df3 + df4')"
      ]
    },
    {
      "cell_type": "markdown",
      "metadata": {
        "id": "qfXyimgArsd1"
      },
      "source": [
        "The `eval` version of this expression is about 50% faster (and uses much less memory), while giving the same result:"
      ]
    },
    {
      "cell_type": "code",
      "execution_count": null,
      "metadata": {
        "id": "24T7Trc1rsd1",
        "jupyter": {
          "outputs_hidden": false
        },
        "outputId": "a630d0ef-4c81-47b3-fdf3-56a5cda33650"
      },
      "outputs": [
        {
          "data": {
            "text/plain": [
              "True"
            ]
          },
          "execution_count": 9,
          "metadata": {},
          "output_type": "execute_result"
        }
      ],
      "source": [
        "np.allclose(df1 + df2 + df3 + df4,\n",
        "            pd.eval('df1 + df2 + df3 + df4'))"
      ]
    },
    {
      "cell_type": "markdown",
      "metadata": {
        "id": "niOuVJdcrsd1"
      },
      "source": [
        "`pd.eval` supports a wide range of operations.\n",
        "To demonstrate these, we'll use the following integer data:"
      ]
    },
    {
      "cell_type": "code",
      "execution_count": null,
      "metadata": {
        "id": "fJteRPiCrsd1",
        "tags": []
      },
      "outputs": [],
      "source": [
        "df1, df2, df3, df4, df5 = (pd.DataFrame(rng.integers(0, 1000, (100, 3)))\n",
        "                           for i in range(5))"
      ]
    },
    {
      "cell_type": "markdown",
      "metadata": {
        "id": "Fp3R_Y6Srsd1"
      },
      "source": [
        "#### Arithmetic operators\n",
        "`pd.eval` supports all arithmetic operators. For example:"
      ]
    },
    {
      "cell_type": "code",
      "execution_count": null,
      "metadata": {
        "id": "uquBtVl7rsd1",
        "jupyter": {
          "outputs_hidden": false
        },
        "outputId": "ec11b67c-bbaf-4720-f4e2-1f12705feb8f"
      },
      "outputs": [
        {
          "data": {
            "text/plain": [
              "True"
            ]
          },
          "execution_count": 11,
          "metadata": {},
          "output_type": "execute_result"
        }
      ],
      "source": [
        "result1 = -df1 * df2 / (df3 + df4) - df5\n",
        "result2 = pd.eval('-df1 * df2 / (df3 + df4) - df5')\n",
        "np.allclose(result1, result2)"
      ]
    },
    {
      "cell_type": "markdown",
      "metadata": {
        "id": "pEGSVgjlrsd1"
      },
      "source": [
        "#### Comparison operators\n",
        "`pd.eval` supports all comparison operators, including chained expressions:"
      ]
    },
    {
      "cell_type": "code",
      "execution_count": null,
      "metadata": {
        "id": "7s2CGPwnrsd1",
        "jupyter": {
          "outputs_hidden": false
        },
        "outputId": "edc29cbf-aa53-49f4-ee06-0c9b068a703d"
      },
      "outputs": [
        {
          "data": {
            "text/plain": [
              "True"
            ]
          },
          "execution_count": 12,
          "metadata": {},
          "output_type": "execute_result"
        }
      ],
      "source": [
        "result1 = (df1 < df2) & (df2 <= df3) & (df3 != df4)\n",
        "result2 = pd.eval('df1 < df2 <= df3 != df4')\n",
        "np.allclose(result1, result2)"
      ]
    },
    {
      "cell_type": "markdown",
      "metadata": {
        "id": "hLEeZ_B3rsd1"
      },
      "source": [
        "#### Bitwise operators\n",
        "`pd.eval` supports the `&` and `|` bitwise operators:"
      ]
    },
    {
      "cell_type": "code",
      "execution_count": null,
      "metadata": {
        "id": "85oWtLRorsd1",
        "jupyter": {
          "outputs_hidden": false
        },
        "outputId": "9d6d5ba6-ed84-4357-cb5f-15fe96651199"
      },
      "outputs": [
        {
          "data": {
            "text/plain": [
              "True"
            ]
          },
          "execution_count": 13,
          "metadata": {},
          "output_type": "execute_result"
        }
      ],
      "source": [
        "result1 = (df1 < 0.5) & (df2 < 0.5) | (df3 < df4)\n",
        "result2 = pd.eval('(df1 < 0.5) & (df2 < 0.5) | (df3 < df4)')\n",
        "np.allclose(result1, result2)"
      ]
    },
    {
      "cell_type": "markdown",
      "metadata": {
        "id": "rmh7T0oZrsd1"
      },
      "source": [
        "In addition, it supports the use of the literal `and` and `or` in Boolean expressions:"
      ]
    },
    {
      "cell_type": "code",
      "execution_count": null,
      "metadata": {
        "id": "8bgGQLA3rsd1",
        "jupyter": {
          "outputs_hidden": false
        },
        "outputId": "849a1e63-42a4-47cc-f1ec-abb8f493b20f"
      },
      "outputs": [
        {
          "data": {
            "text/plain": [
              "True"
            ]
          },
          "execution_count": 14,
          "metadata": {},
          "output_type": "execute_result"
        }
      ],
      "source": [
        "result3 = pd.eval('(df1 < 0.5) and (df2 < 0.5) or (df3 < df4)')\n",
        "np.allclose(result1, result3)"
      ]
    },
    {
      "cell_type": "markdown",
      "metadata": {
        "id": "aDOYEf_drsd1"
      },
      "source": [
        "#### Object attributes and indices\n",
        "\n",
        "`pd.eval` supports access to object attributes via the `obj.attr` syntax and indexes via the `obj[index]` syntax:"
      ]
    },
    {
      "cell_type": "code",
      "execution_count": null,
      "metadata": {
        "id": "Mn2b-Jj1rsd1",
        "jupyter": {
          "outputs_hidden": false
        },
        "outputId": "1a9be9ba-440e-4509-d7dc-017bf4f5df6d"
      },
      "outputs": [
        {
          "data": {
            "text/plain": [
              "True"
            ]
          },
          "execution_count": 15,
          "metadata": {},
          "output_type": "execute_result"
        }
      ],
      "source": [
        "result1 = df2.T[0] + df3.iloc[1]\n",
        "result2 = pd.eval('df2.T[0] + df3.iloc[1]')\n",
        "np.allclose(result1, result2)"
      ]
    },
    {
      "cell_type": "markdown",
      "metadata": {
        "id": "DO7KeevArsd2"
      },
      "source": [
        "#### Other operations\n",
        "\n",
        "Other operations, such as function calls, conditional statements, loops, and other more involved constructs are currently *not* implemented in `pd.eval`.\n",
        "If you'd like to execute these more complicated types of expressions, you can use the NumExpr library itself."
      ]
    },
    {
      "cell_type": "markdown",
      "metadata": {
        "id": "KhHwN8Virsd2"
      },
      "source": [
        "## DataFrame.eval for Column-Wise Operations\n",
        "\n",
        "Just as Pandas has a top-level `pd.eval` function, `DataFrame` objects have an `eval` method that works in similar ways.\n",
        "The benefit of the `eval` method is that columns can be referred to by name.\n",
        "We'll use this labeled array as an example:"
      ]
    },
    {
      "cell_type": "code",
      "execution_count": null,
      "metadata": {
        "id": "qPZDgh8grsd2",
        "jupyter": {
          "outputs_hidden": false
        },
        "outputId": "9720d548-c238-46ab-ac77-cae41419b8f8"
      },
      "outputs": [
        {
          "data": {
            "text/html": [
              "<div>\n",
              "<style scoped>\n",
              "    .dataframe tbody tr th:only-of-type {\n",
              "        vertical-align: middle;\n",
              "    }\n",
              "\n",
              "    .dataframe tbody tr th {\n",
              "        vertical-align: top;\n",
              "    }\n",
              "\n",
              "    .dataframe thead th {\n",
              "        text-align: right;\n",
              "    }\n",
              "</style>\n",
              "<table border=\"1\" class=\"dataframe\">\n",
              "  <thead>\n",
              "    <tr style=\"text-align: right;\">\n",
              "      <th></th>\n",
              "      <th>A</th>\n",
              "      <th>B</th>\n",
              "      <th>C</th>\n",
              "    </tr>\n",
              "  </thead>\n",
              "  <tbody>\n",
              "    <tr>\n",
              "      <th>0</th>\n",
              "      <td>0.850888</td>\n",
              "      <td>0.966709</td>\n",
              "      <td>0.958690</td>\n",
              "    </tr>\n",
              "    <tr>\n",
              "      <th>1</th>\n",
              "      <td>0.820126</td>\n",
              "      <td>0.385686</td>\n",
              "      <td>0.061402</td>\n",
              "    </tr>\n",
              "    <tr>\n",
              "      <th>2</th>\n",
              "      <td>0.059729</td>\n",
              "      <td>0.831768</td>\n",
              "      <td>0.652259</td>\n",
              "    </tr>\n",
              "    <tr>\n",
              "      <th>3</th>\n",
              "      <td>0.244774</td>\n",
              "      <td>0.140322</td>\n",
              "      <td>0.041711</td>\n",
              "    </tr>\n",
              "    <tr>\n",
              "      <th>4</th>\n",
              "      <td>0.818205</td>\n",
              "      <td>0.753384</td>\n",
              "      <td>0.578851</td>\n",
              "    </tr>\n",
              "  </tbody>\n",
              "</table>\n",
              "</div>"
            ],
            "text/plain": [
              "          A         B         C\n",
              "0  0.850888  0.966709  0.958690\n",
              "1  0.820126  0.385686  0.061402\n",
              "2  0.059729  0.831768  0.652259\n",
              "3  0.244774  0.140322  0.041711\n",
              "4  0.818205  0.753384  0.578851"
            ]
          },
          "execution_count": 16,
          "metadata": {},
          "output_type": "execute_result"
        }
      ],
      "source": [
        "df = pd.DataFrame(rng.random((1000, 3)), columns=['A', 'B', 'C'])\n",
        "df.head()"
      ]
    },
    {
      "cell_type": "markdown",
      "metadata": {
        "id": "HAkOqi3Xrsd2"
      },
      "source": [
        "Using `pd.eval` as in the previous section, we can compute expressions with the three columns like this:"
      ]
    },
    {
      "cell_type": "code",
      "execution_count": null,
      "metadata": {
        "id": "_pj9wyBsrsd2",
        "jupyter": {
          "outputs_hidden": false
        },
        "outputId": "65955944-ac0e-4748-98c4-6d1028866cff"
      },
      "outputs": [
        {
          "data": {
            "text/plain": [
              "True"
            ]
          },
          "execution_count": 17,
          "metadata": {},
          "output_type": "execute_result"
        }
      ],
      "source": [
        "result1 = (df['A'] + df['B']) / (df['C'] - 1)\n",
        "result2 = pd.eval(\"(df.A + df.B) / (df.C - 1)\")\n",
        "np.allclose(result1, result2)"
      ]
    },
    {
      "cell_type": "markdown",
      "metadata": {
        "id": "LfHFOQFqrsd2"
      },
      "source": [
        "The `DataFrame.eval` method allows much more succinct evaluation of expressions with the columns:"
      ]
    },
    {
      "cell_type": "code",
      "execution_count": null,
      "metadata": {
        "id": "YlmhIr8Irsd8",
        "jupyter": {
          "outputs_hidden": false
        },
        "outputId": "0cb4d664-a8f0-46d8-9d76-aff50592ce4e"
      },
      "outputs": [
        {
          "data": {
            "text/plain": [
              "True"
            ]
          },
          "execution_count": 18,
          "metadata": {},
          "output_type": "execute_result"
        }
      ],
      "source": [
        "result3 = df.eval('(A + B) / (C - 1)')\n",
        "np.allclose(result1, result3)"
      ]
    },
    {
      "cell_type": "markdown",
      "metadata": {
        "id": "k97ddHTRrsd9"
      },
      "source": [
        "Notice here that we treat *column names as variables* within the evaluated expression, and the result is what we would wish."
      ]
    },
    {
      "cell_type": "markdown",
      "metadata": {
        "id": "YReqhG73rsd9"
      },
      "source": [
        "### Assignment in DataFrame.eval\n",
        "\n",
        "In addition to the options just discussed, `DataFrame.eval`  also allows assignment to any column.\n",
        "Let's use the `DataFrame` from before, which has columns `'A'`, `'B'`, and `'C'`:"
      ]
    },
    {
      "cell_type": "code",
      "execution_count": null,
      "metadata": {
        "id": "sVIZTZD2rsd9",
        "jupyter": {
          "outputs_hidden": false
        },
        "outputId": "c6ddef8a-963a-444c-b8cc-513d154349e0"
      },
      "outputs": [
        {
          "data": {
            "text/html": [
              "<div>\n",
              "<style scoped>\n",
              "    .dataframe tbody tr th:only-of-type {\n",
              "        vertical-align: middle;\n",
              "    }\n",
              "\n",
              "    .dataframe tbody tr th {\n",
              "        vertical-align: top;\n",
              "    }\n",
              "\n",
              "    .dataframe thead th {\n",
              "        text-align: right;\n",
              "    }\n",
              "</style>\n",
              "<table border=\"1\" class=\"dataframe\">\n",
              "  <thead>\n",
              "    <tr style=\"text-align: right;\">\n",
              "      <th></th>\n",
              "      <th>A</th>\n",
              "      <th>B</th>\n",
              "      <th>C</th>\n",
              "    </tr>\n",
              "  </thead>\n",
              "  <tbody>\n",
              "    <tr>\n",
              "      <th>0</th>\n",
              "      <td>0.850888</td>\n",
              "      <td>0.966709</td>\n",
              "      <td>0.958690</td>\n",
              "    </tr>\n",
              "    <tr>\n",
              "      <th>1</th>\n",
              "      <td>0.820126</td>\n",
              "      <td>0.385686</td>\n",
              "      <td>0.061402</td>\n",
              "    </tr>\n",
              "    <tr>\n",
              "      <th>2</th>\n",
              "      <td>0.059729</td>\n",
              "      <td>0.831768</td>\n",
              "      <td>0.652259</td>\n",
              "    </tr>\n",
              "    <tr>\n",
              "      <th>3</th>\n",
              "      <td>0.244774</td>\n",
              "      <td>0.140322</td>\n",
              "      <td>0.041711</td>\n",
              "    </tr>\n",
              "    <tr>\n",
              "      <th>4</th>\n",
              "      <td>0.818205</td>\n",
              "      <td>0.753384</td>\n",
              "      <td>0.578851</td>\n",
              "    </tr>\n",
              "  </tbody>\n",
              "</table>\n",
              "</div>"
            ],
            "text/plain": [
              "          A         B         C\n",
              "0  0.850888  0.966709  0.958690\n",
              "1  0.820126  0.385686  0.061402\n",
              "2  0.059729  0.831768  0.652259\n",
              "3  0.244774  0.140322  0.041711\n",
              "4  0.818205  0.753384  0.578851"
            ]
          },
          "execution_count": 19,
          "metadata": {},
          "output_type": "execute_result"
        }
      ],
      "source": [
        "df.head()"
      ]
    },
    {
      "cell_type": "markdown",
      "metadata": {
        "id": "eAVT-LKdrsd9"
      },
      "source": [
        "We can use `df.eval` to create a new column `'D'` and assign to it a value computed from the other columns:"
      ]
    },
    {
      "cell_type": "code",
      "execution_count": null,
      "metadata": {
        "id": "kti0fDzjrsd9",
        "jupyter": {
          "outputs_hidden": false
        },
        "outputId": "ba2c0710-25c7-482b-d933-a7c2bb2fb9a1"
      },
      "outputs": [
        {
          "data": {
            "text/html": [
              "<div>\n",
              "<style scoped>\n",
              "    .dataframe tbody tr th:only-of-type {\n",
              "        vertical-align: middle;\n",
              "    }\n",
              "\n",
              "    .dataframe tbody tr th {\n",
              "        vertical-align: top;\n",
              "    }\n",
              "\n",
              "    .dataframe thead th {\n",
              "        text-align: right;\n",
              "    }\n",
              "</style>\n",
              "<table border=\"1\" class=\"dataframe\">\n",
              "  <thead>\n",
              "    <tr style=\"text-align: right;\">\n",
              "      <th></th>\n",
              "      <th>A</th>\n",
              "      <th>B</th>\n",
              "      <th>C</th>\n",
              "      <th>D</th>\n",
              "    </tr>\n",
              "  </thead>\n",
              "  <tbody>\n",
              "    <tr>\n",
              "      <th>0</th>\n",
              "      <td>0.850888</td>\n",
              "      <td>0.966709</td>\n",
              "      <td>0.958690</td>\n",
              "      <td>1.895916</td>\n",
              "    </tr>\n",
              "    <tr>\n",
              "      <th>1</th>\n",
              "      <td>0.820126</td>\n",
              "      <td>0.385686</td>\n",
              "      <td>0.061402</td>\n",
              "      <td>19.638139</td>\n",
              "    </tr>\n",
              "    <tr>\n",
              "      <th>2</th>\n",
              "      <td>0.059729</td>\n",
              "      <td>0.831768</td>\n",
              "      <td>0.652259</td>\n",
              "      <td>1.366782</td>\n",
              "    </tr>\n",
              "    <tr>\n",
              "      <th>3</th>\n",
              "      <td>0.244774</td>\n",
              "      <td>0.140322</td>\n",
              "      <td>0.041711</td>\n",
              "      <td>9.232370</td>\n",
              "    </tr>\n",
              "    <tr>\n",
              "      <th>4</th>\n",
              "      <td>0.818205</td>\n",
              "      <td>0.753384</td>\n",
              "      <td>0.578851</td>\n",
              "      <td>2.715013</td>\n",
              "    </tr>\n",
              "  </tbody>\n",
              "</table>\n",
              "</div>"
            ],
            "text/plain": [
              "          A         B         C          D\n",
              "0  0.850888  0.966709  0.958690   1.895916\n",
              "1  0.820126  0.385686  0.061402  19.638139\n",
              "2  0.059729  0.831768  0.652259   1.366782\n",
              "3  0.244774  0.140322  0.041711   9.232370\n",
              "4  0.818205  0.753384  0.578851   2.715013"
            ]
          },
          "execution_count": 20,
          "metadata": {},
          "output_type": "execute_result"
        }
      ],
      "source": [
        "df.eval('D = (A + B) / C', inplace=True)\n",
        "df.head()"
      ]
    },
    {
      "cell_type": "markdown",
      "metadata": {
        "id": "GI2xfRM5rsd9"
      },
      "source": [
        "In the same way, any existing column can be modified:"
      ]
    },
    {
      "cell_type": "code",
      "execution_count": null,
      "metadata": {
        "id": "mIcjmSLDrsd9",
        "jupyter": {
          "outputs_hidden": false
        },
        "outputId": "a493dca6-28b3-402e-d0eb-c52066f52457"
      },
      "outputs": [
        {
          "data": {
            "text/html": [
              "<div>\n",
              "<style scoped>\n",
              "    .dataframe tbody tr th:only-of-type {\n",
              "        vertical-align: middle;\n",
              "    }\n",
              "\n",
              "    .dataframe tbody tr th {\n",
              "        vertical-align: top;\n",
              "    }\n",
              "\n",
              "    .dataframe thead th {\n",
              "        text-align: right;\n",
              "    }\n",
              "</style>\n",
              "<table border=\"1\" class=\"dataframe\">\n",
              "  <thead>\n",
              "    <tr style=\"text-align: right;\">\n",
              "      <th></th>\n",
              "      <th>A</th>\n",
              "      <th>B</th>\n",
              "      <th>C</th>\n",
              "      <th>D</th>\n",
              "    </tr>\n",
              "  </thead>\n",
              "  <tbody>\n",
              "    <tr>\n",
              "      <th>0</th>\n",
              "      <td>0.850888</td>\n",
              "      <td>0.966709</td>\n",
              "      <td>0.958690</td>\n",
              "      <td>-0.120812</td>\n",
              "    </tr>\n",
              "    <tr>\n",
              "      <th>1</th>\n",
              "      <td>0.820126</td>\n",
              "      <td>0.385686</td>\n",
              "      <td>0.061402</td>\n",
              "      <td>7.075399</td>\n",
              "    </tr>\n",
              "    <tr>\n",
              "      <th>2</th>\n",
              "      <td>0.059729</td>\n",
              "      <td>0.831768</td>\n",
              "      <td>0.652259</td>\n",
              "      <td>-1.183638</td>\n",
              "    </tr>\n",
              "    <tr>\n",
              "      <th>3</th>\n",
              "      <td>0.244774</td>\n",
              "      <td>0.140322</td>\n",
              "      <td>0.041711</td>\n",
              "      <td>2.504142</td>\n",
              "    </tr>\n",
              "    <tr>\n",
              "      <th>4</th>\n",
              "      <td>0.818205</td>\n",
              "      <td>0.753384</td>\n",
              "      <td>0.578851</td>\n",
              "      <td>0.111982</td>\n",
              "    </tr>\n",
              "  </tbody>\n",
              "</table>\n",
              "</div>"
            ],
            "text/plain": [
              "          A         B         C         D\n",
              "0  0.850888  0.966709  0.958690 -0.120812\n",
              "1  0.820126  0.385686  0.061402  7.075399\n",
              "2  0.059729  0.831768  0.652259 -1.183638\n",
              "3  0.244774  0.140322  0.041711  2.504142\n",
              "4  0.818205  0.753384  0.578851  0.111982"
            ]
          },
          "execution_count": 21,
          "metadata": {},
          "output_type": "execute_result"
        }
      ],
      "source": [
        "df.eval('D = (A - B) / C', inplace=True)\n",
        "df.head()"
      ]
    },
    {
      "cell_type": "markdown",
      "metadata": {
        "id": "-UJET1SKrsd9"
      },
      "source": [
        "### Local Variables in DataFrame.eval\n",
        "\n",
        "The `DataFrame.eval` method supports an additional syntax that lets it work with local Python variables.\n",
        "Consider the following:"
      ]
    },
    {
      "cell_type": "code",
      "execution_count": null,
      "metadata": {
        "id": "Hjw1v376rsd9",
        "jupyter": {
          "outputs_hidden": false
        },
        "outputId": "b7b9ee1c-90b7-4fa0-f65b-8c681f1d0628"
      },
      "outputs": [
        {
          "data": {
            "text/plain": [
              "True"
            ]
          },
          "execution_count": 22,
          "metadata": {},
          "output_type": "execute_result"
        }
      ],
      "source": [
        "column_mean = df.mean(1)\n",
        "result1 = df['A'] + column_mean\n",
        "result2 = df.eval('A + @column_mean')\n",
        "np.allclose(result1, result2)"
      ]
    },
    {
      "cell_type": "markdown",
      "metadata": {
        "id": "NROLEeOursd9"
      },
      "source": [
        "The `@` character here marks a *variable name* rather than a *column name*, and lets you efficiently evaluate expressions involving the two \"namespaces\": the namespace of columns, and the namespace of Python objects.\n",
        "Notice that this `@` character is only supported by the `DataFrame.eval` *method*, not by the `pandas.eval` *function*, because the `pandas.eval` function only has access to the one (Python) namespace."
      ]
    },
    {
      "cell_type": "markdown",
      "metadata": {
        "id": "oJtxOcbJrsd9"
      },
      "source": [
        "## The DataFrame.query Method\n",
        "\n",
        "The `DataFrame` has another method based on evaluated strings, called `query`.\n",
        "Consider the following:"
      ]
    },
    {
      "cell_type": "code",
      "execution_count": null,
      "metadata": {
        "id": "0KTdCLDPrsd9",
        "jupyter": {
          "outputs_hidden": false
        },
        "outputId": "8c40108c-8f7f-4224-d5e9-1aec46de2d5b"
      },
      "outputs": [
        {
          "data": {
            "text/plain": [
              "True"
            ]
          },
          "execution_count": 23,
          "metadata": {},
          "output_type": "execute_result"
        }
      ],
      "source": [
        "result1 = df[(df.A < 0.5) & (df.B < 0.5)]\n",
        "result2 = pd.eval('df[(df.A < 0.5) & (df.B < 0.5)]')\n",
        "np.allclose(result1, result2)"
      ]
    },
    {
      "cell_type": "markdown",
      "metadata": {
        "id": "5I0MHa2trsd9"
      },
      "source": [
        "As with the example used in our discussion of `DataFrame.eval`, this is an expression involving columns of the `DataFrame`.\n",
        "However, it cannot be expressed using the `DataFrame.eval` syntax!\n",
        "Instead, for this type of filtering operation, you can use the `query` method:"
      ]
    },
    {
      "cell_type": "code",
      "execution_count": null,
      "metadata": {
        "id": "z8RAQTV_rsd9",
        "jupyter": {
          "outputs_hidden": false
        },
        "outputId": "e51fe27b-b8f5-48c6-e830-f1c8972bc473"
      },
      "outputs": [
        {
          "data": {
            "text/plain": [
              "True"
            ]
          },
          "execution_count": 24,
          "metadata": {},
          "output_type": "execute_result"
        }
      ],
      "source": [
        "result2 = df.query('A < 0.5 and B < 0.5')\n",
        "np.allclose(result1, result2)"
      ]
    },
    {
      "cell_type": "markdown",
      "metadata": {
        "id": "E2Y97MV3rsd9"
      },
      "source": [
        "In addition to being a more efficient computation, compared to the masking expression this is much easier to read and understand.\n",
        "Note that the `query` method also accepts the `@` flag to mark local variables:"
      ]
    },
    {
      "cell_type": "code",
      "execution_count": null,
      "metadata": {
        "id": "847SBu1nrsd9",
        "jupyter": {
          "outputs_hidden": false
        },
        "outputId": "f3fbe1b6-e8a1-4ac7-a282-e0b4f29e14cc"
      },
      "outputs": [
        {
          "data": {
            "text/plain": [
              "True"
            ]
          },
          "execution_count": 25,
          "metadata": {},
          "output_type": "execute_result"
        }
      ],
      "source": [
        "Cmean = df['C'].mean()\n",
        "result1 = df[(df.A < Cmean) & (df.B < Cmean)]\n",
        "result2 = df.query('A < @Cmean and B < @Cmean')\n",
        "np.allclose(result1, result2)"
      ]
    },
    {
      "cell_type": "markdown",
      "metadata": {
        "id": "0Oy92AWgrsd9"
      },
      "source": [
        "## Performance: When to Use These Functions\n",
        "\n",
        "When considering whether to use `eval` and `query`, there are two considerations: *computation time* and *memory use*.\n",
        "Memory use is the most predictable aspect. As already mentioned, every compound expression involving NumPy arrays or Pandas ``DataFrame``s will result in implicit creation of temporary arrays. For example, this:"
      ]
    },
    {
      "cell_type": "code",
      "execution_count": null,
      "metadata": {
        "id": "eBIxgdvdrsd9",
        "tags": []
      },
      "outputs": [],
      "source": [
        "x = df[(df.A < 0.5) & (df.B < 0.5)]"
      ]
    },
    {
      "cell_type": "markdown",
      "metadata": {
        "id": "9IcmdVFZrsd9"
      },
      "source": [
        "is roughly equivalent to this:"
      ]
    },
    {
      "cell_type": "code",
      "execution_count": null,
      "metadata": {
        "id": "PsCq3APArsd9",
        "jupyter": {
          "outputs_hidden": false
        }
      },
      "outputs": [],
      "source": [
        "tmp1 = df.A < 0.5\n",
        "tmp2 = df.B < 0.5\n",
        "tmp3 = tmp1 & tmp2\n",
        "x = df[tmp3]"
      ]
    },
    {
      "cell_type": "markdown",
      "metadata": {
        "id": "mavCDSSyrsd9"
      },
      "source": [
        "If the size of the temporary ``DataFrame``s is significant compared to your available system memory (typically several gigabytes), then it's a good idea to use an `eval` or `query` expression.\n",
        "You can check the approximate size of your array in bytes using this:"
      ]
    },
    {
      "cell_type": "code",
      "execution_count": null,
      "metadata": {
        "id": "ilZDQLIxrsd9",
        "jupyter": {
          "outputs_hidden": false
        },
        "outputId": "9b63b820-0c4c-4ca4-db02-6c4ca48d9853"
      },
      "outputs": [
        {
          "data": {
            "text/plain": [
              "32000"
            ]
          },
          "execution_count": 28,
          "metadata": {},
          "output_type": "execute_result"
        }
      ],
      "source": [
        "df.values.nbytes"
      ]
    },
    {
      "cell_type": "markdown",
      "metadata": {
        "id": "25RKyFbMrsd-"
      },
      "source": [
        "On the performance side, `eval` can be faster even when you are not maxing out your system memory.\n",
        "The issue is how your temporary objects compare to the size of the L1 or L2 CPU cache on your system (typically a few megabytes); if they are much bigger, then `eval` can avoid some potentially slow movement of values between the different memory caches.\n",
        "In practice, I find that the difference in computation time between the traditional methods and the `eval`/`query` method is usually not significant—if anything, the traditional method is faster for smaller arrays!\n",
        "The benefit of `eval`/`query` is mainly in the saved memory, and the sometimes cleaner syntax they offer.\n",
        "\n",
        "We've covered most of the details of `eval` and `query` here; for more information on these, you can refer to the Pandas documentation.\n",
        "In particular, different parsers and engines can be specified for running these queries; for details on this, see the discussion within the [\"Enhancing Performance\" section](https://pandas.pydata.org/pandas-docs/dev/user_guide/enhancingperf.html) of the documentation."
      ]
    }
  ],
  "metadata": {
    "anaconda-cloud": {},
    "colab": {
      "provenance": []
    },
    "jupytext": {
      "formats": "ipynb,md"
    },
    "kernelspec": {
      "display_name": "Python 3 (ipykernel)",
      "language": "python",
      "name": "python3"
    },
    "language_info": {
      "codemirror_mode": {
        "name": "ipython",
        "version": 3
      },
      "file_extension": ".py",
      "mimetype": "text/x-python",
      "name": "python",
      "nbconvert_exporter": "python",
      "pygments_lexer": "ipython3",
      "version": "3.9.13"
    }
  },
  "nbformat": 4,
  "nbformat_minor": 0
}
