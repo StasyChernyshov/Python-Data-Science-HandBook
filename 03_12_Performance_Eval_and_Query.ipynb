{
  "cells": [
    {
      "cell_type": "markdown",
      "metadata": {
        "id": "kl_Vz0tQrsdx"
      },
      "source": [
        "# High-Performance Pandas: eval and query"
      ]
    },
    {
      "cell_type": "markdown",
      "metadata": {
        "id": "IDpDyycersdy"
      },
      "source": [
        "As we've already seen in previous chapters, the power of the PyData stack is built upon the ability of NumPy and Pandas to push basic operations into lower-level compiled code via an intuitive higher-level syntax: examples are vectorized/broadcasted operations in NumPy, and grouping-type operations in Pandas.\n",
        "While these abstractions are efficient and effective for many common use cases, they often rely on the creation of temporary intermediate objects, which can cause undue overhead in computational time and memory use.\n",
        "\n",
        "To address this, Pandas includes some methods that allow you to directly access C-speed operations without costly allocation of intermediate arrays: `eval` and `query`, which rely on the [NumExpr package](https://github.com/pydata/numexpr).\n",
        "In this chapter I will walk you through their use and give some rules of thumb about when you might think about using them."
      ]
    },
    {
      "cell_type": "markdown",
      "metadata": {
        "id": "jUhbciZtrsdz"
      },
      "source": [
        "## Motivating query and eval: Compound Expressions\n",
        "\n",
        "We've seen previously that NumPy and Pandas support fast vectorized operations; for example, when adding the elements of two arrays:"
      ]
    },
    {
      "cell_type": "code",
      "execution_count": 101,
      "metadata": {
        "id": "HKjFp4Dkrsdz",
        "jupyter": {
          "outputs_hidden": false
        },
        "outputId": "3f3e9294-87f3-42d2-dd42-4748a3dce56d"
      },
      "outputs": [
        {
          "name": "stdout",
          "output_type": "stream",
          "text": [
            "490 µs ± 27.5 µs per loop (mean ± std. dev. of 7 runs, 1000 loops each)\n"
          ]
        }
      ],
      "source": [
        "import numpy as np\n",
        "rng = np.random.default_rng(42)\n",
        "x = rng.random(1000000)\n",
        "y = rng.random(1000000)\n",
        "%timeit x + y"
      ]
    },
    {
      "cell_type": "markdown",
      "metadata": {
        "id": "6tmC0nBbrsdz"
      },
      "source": [
        "As discussed in [Computation on NumPy Arrays: Universal Functions](02.03-Computation-on-arrays-ufuncs.ipynb), this is much faster than doing the addition via a Python loop or comprehension:"
      ]
    },
    {
      "cell_type": "code",
      "execution_count": 102,
      "metadata": {
        "id": "jRAW0Augrsdz",
        "jupyter": {
          "outputs_hidden": false
        },
        "outputId": "2b5cb0ab-d248-4e9d-cda3-507584cec829"
      },
      "outputs": [
        {
          "name": "stdout",
          "output_type": "stream",
          "text": [
            "159 ms ± 210 µs per loop (mean ± std. dev. of 7 runs, 10 loops each)\n"
          ]
        }
      ],
      "source": [
        "%timeit np.fromiter((xi + yi for xi, yi in zip(x, y)),dtype=x.dtype, count=len(x))"
      ]
    },
    {
      "cell_type": "markdown",
      "metadata": {
        "id": "h_fcq1bwrsd0"
      },
      "source": [
        "But this abstraction can become less efficient when computing compound expressions.\n",
        "For example, consider the following expression:"
      ]
    },
    {
      "cell_type": "code",
      "execution_count": 103,
      "metadata": {
        "id": "ZpcE31Kzrsd0",
        "tags": []
      },
      "outputs": [],
      "source": [
        "mask = (x > 0.5) & (y < 0.5)"
      ]
    },
    {
      "cell_type": "markdown",
      "metadata": {
        "id": "8YJcLzGursd0"
      },
      "source": [
        "Because NumPy evaluates each subexpression, this is roughly equivalent to the following:"
      ]
    },
    {
      "cell_type": "code",
      "execution_count": 104,
      "metadata": {
        "id": "RbeV_jClrsd0",
        "tags": []
      },
      "outputs": [],
      "source": [
        "tmp1 = (x > 0.5)\n",
        "tmp2 = (y < 0.5)\n",
        "mask = tmp1 & tmp2"
      ]
    },
    {
      "cell_type": "markdown",
      "metadata": {
        "id": "XyzgOOU3rsd0"
      },
      "source": [
        "In other words, *every intermediate step is explicitly allocated in memory*. If the `x` and `y` arrays are very large, this can lead to significant memory and computational overhead.\n",
        "The NumExpr library gives you the ability to compute this type of compound expression element by element, without the need to allocate full intermediate arrays.\n",
        "The [NumExpr documentation](https://github.com/pydata/numexpr) has more details, but for the time being it is sufficient to say that the library accepts a *string* giving the NumPy-style expression you'd like to compute:"
      ]
    },
    {
      "cell_type": "code",
      "execution_count": 105,
      "metadata": {
        "id": "p4Mddu7krsd0",
        "jupyter": {
          "outputs_hidden": false
        },
        "outputId": "6d1bbed3-f54f-414f-c759-5fe2dad391e4"
      },
      "outputs": [
        {
          "data": {
            "text/plain": [
              "True"
            ]
          },
          "execution_count": 105,
          "metadata": {},
          "output_type": "execute_result"
        }
      ],
      "source": [
        "import numexpr\n",
        "mask_numexpr = numexpr.evaluate('(x > 0.5) & (y < 0.5)')\n",
        "np.all(mask == mask_numexpr)"
      ]
    },
    {
      "cell_type": "markdown",
      "metadata": {
        "id": "owb5G2l9rsd0"
      },
      "source": [
        "The benefit here is that NumExpr evaluates the expression in a way that avoids temporary arrays where possible, and thus can be much more efficient than NumPy, especially for long sequences of computations on large arrays.\n",
        "The Pandas `eval` and `query` tools that we will discuss here are conceptually similar, and are essentially Pandas-specific wrappers of NumExpr functionality."
      ]
    },
    {
      "cell_type": "markdown",
      "metadata": {
        "id": "cauhSDK0rsd0"
      },
      "source": [
        "## pandas.eval for Efficient Operations\n",
        "\n",
        "The `eval` function in Pandas uses string expressions to efficiently compute operations on `DataFrame` objects.\n",
        "For example, consider the following data:"
      ]
    },
    {
      "cell_type": "code",
      "execution_count": 106,
      "metadata": {
        "id": "KhhvogeMrsd1",
        "jupyter": {
          "outputs_hidden": false
        }
      },
      "outputs": [],
      "source": [
        "import pandas as pd\n",
        "nrows, ncols = 100000, 100\n",
        "df1, df2, df3, df4 = (pd.DataFrame(rng.random((nrows, ncols)))\n",
        "                      for i in range(4))"
      ]
    },
    {
      "cell_type": "markdown",
      "metadata": {
        "id": "QsVI7ALfrsd1"
      },
      "source": [
        "To compute the sum of all four ``DataFrame``s using the typical Pandas approach, we can just write the sum:"
      ]
    },
    {
      "cell_type": "code",
      "execution_count": 107,
      "metadata": {
        "id": "BJtdEwyfrsd1",
        "jupyter": {
          "outputs_hidden": false
        },
        "outputId": "96757d28-9c46-43d2-cfc0-692027034825"
      },
      "outputs": [
        {
          "name": "stdout",
          "output_type": "stream",
          "text": [
            "18.8 ms ± 1.03 ms per loop (mean ± std. dev. of 7 runs, 100 loops each)\n"
          ]
        }
      ],
      "source": [
        "%timeit df1 + df2 + df3 + df4"
      ]
    },
    {
      "cell_type": "markdown",
      "metadata": {
        "id": "8bG7jilprsd1"
      },
      "source": [
        "The same result can be computed via ``pd.eval`` by constructing the expression as a string:"
      ]
    },
    {
      "cell_type": "code",
      "execution_count": 108,
      "metadata": {
        "id": "AsDackiXrsd1",
        "jupyter": {
          "outputs_hidden": false
        },
        "outputId": "bbe24df2-22bc-4ebe-fa5a-d14ac4ddef77"
      },
      "outputs": [
        {
          "data": {
            "text/html": [
              "<div>\n",
              "<style scoped>\n",
              "    .dataframe tbody tr th:only-of-type {\n",
              "        vertical-align: middle;\n",
              "    }\n",
              "\n",
              "    .dataframe tbody tr th {\n",
              "        vertical-align: top;\n",
              "    }\n",
              "\n",
              "    .dataframe thead th {\n",
              "        text-align: right;\n",
              "    }\n",
              "</style>\n",
              "<table border=\"1\" class=\"dataframe\">\n",
              "  <thead>\n",
              "    <tr style=\"text-align: right;\">\n",
              "      <th></th>\n",
              "      <th>0</th>\n",
              "      <th>1</th>\n",
              "      <th>2</th>\n",
              "      <th>3</th>\n",
              "      <th>4</th>\n",
              "      <th>5</th>\n",
              "      <th>6</th>\n",
              "      <th>7</th>\n",
              "      <th>8</th>\n",
              "      <th>9</th>\n",
              "      <th>...</th>\n",
              "      <th>90</th>\n",
              "      <th>91</th>\n",
              "      <th>92</th>\n",
              "      <th>93</th>\n",
              "      <th>94</th>\n",
              "      <th>95</th>\n",
              "      <th>96</th>\n",
              "      <th>97</th>\n",
              "      <th>98</th>\n",
              "      <th>99</th>\n",
              "    </tr>\n",
              "  </thead>\n",
              "  <tbody>\n",
              "    <tr>\n",
              "      <th>0</th>\n",
              "      <td>1.894619</td>\n",
              "      <td>2.350323</td>\n",
              "      <td>2.478404</td>\n",
              "      <td>2.882839</td>\n",
              "      <td>1.343365</td>\n",
              "      <td>1.786434</td>\n",
              "      <td>2.018079</td>\n",
              "      <td>1.987882</td>\n",
              "      <td>1.735450</td>\n",
              "      <td>2.465074</td>\n",
              "      <td>...</td>\n",
              "      <td>1.421749</td>\n",
              "      <td>2.467428</td>\n",
              "      <td>1.879926</td>\n",
              "      <td>2.541935</td>\n",
              "      <td>1.944373</td>\n",
              "      <td>1.107981</td>\n",
              "      <td>1.164714</td>\n",
              "      <td>1.218824</td>\n",
              "      <td>1.826986</td>\n",
              "      <td>1.768287</td>\n",
              "    </tr>\n",
              "    <tr>\n",
              "      <th>1</th>\n",
              "      <td>2.639100</td>\n",
              "      <td>2.094697</td>\n",
              "      <td>1.557960</td>\n",
              "      <td>1.780941</td>\n",
              "      <td>1.830018</td>\n",
              "      <td>2.329232</td>\n",
              "      <td>1.231432</td>\n",
              "      <td>1.396454</td>\n",
              "      <td>2.155633</td>\n",
              "      <td>0.942625</td>\n",
              "      <td>...</td>\n",
              "      <td>1.795405</td>\n",
              "      <td>2.723724</td>\n",
              "      <td>1.930859</td>\n",
              "      <td>2.627139</td>\n",
              "      <td>2.206071</td>\n",
              "      <td>1.400315</td>\n",
              "      <td>1.309764</td>\n",
              "      <td>1.844379</td>\n",
              "      <td>1.097728</td>\n",
              "      <td>1.967507</td>\n",
              "    </tr>\n",
              "    <tr>\n",
              "      <th>2</th>\n",
              "      <td>1.721849</td>\n",
              "      <td>1.783487</td>\n",
              "      <td>1.823500</td>\n",
              "      <td>1.815596</td>\n",
              "      <td>1.705560</td>\n",
              "      <td>1.581237</td>\n",
              "      <td>2.064727</td>\n",
              "      <td>2.455018</td>\n",
              "      <td>1.240429</td>\n",
              "      <td>2.224491</td>\n",
              "      <td>...</td>\n",
              "      <td>1.706844</td>\n",
              "      <td>2.797325</td>\n",
              "      <td>2.188354</td>\n",
              "      <td>2.324506</td>\n",
              "      <td>1.371082</td>\n",
              "      <td>2.374894</td>\n",
              "      <td>1.794025</td>\n",
              "      <td>1.752218</td>\n",
              "      <td>2.953386</td>\n",
              "      <td>1.836734</td>\n",
              "    </tr>\n",
              "    <tr>\n",
              "      <th>3</th>\n",
              "      <td>1.625072</td>\n",
              "      <td>2.173571</td>\n",
              "      <td>0.987042</td>\n",
              "      <td>3.065283</td>\n",
              "      <td>2.585640</td>\n",
              "      <td>1.556933</td>\n",
              "      <td>2.184181</td>\n",
              "      <td>1.968105</td>\n",
              "      <td>2.251560</td>\n",
              "      <td>1.903023</td>\n",
              "      <td>...</td>\n",
              "      <td>2.107717</td>\n",
              "      <td>2.990492</td>\n",
              "      <td>1.863779</td>\n",
              "      <td>2.628333</td>\n",
              "      <td>1.784315</td>\n",
              "      <td>2.597918</td>\n",
              "      <td>2.073985</td>\n",
              "      <td>2.419915</td>\n",
              "      <td>2.845571</td>\n",
              "      <td>1.463960</td>\n",
              "    </tr>\n",
              "    <tr>\n",
              "      <th>4</th>\n",
              "      <td>2.166188</td>\n",
              "      <td>2.905083</td>\n",
              "      <td>1.881283</td>\n",
              "      <td>2.200816</td>\n",
              "      <td>3.151786</td>\n",
              "      <td>1.163403</td>\n",
              "      <td>1.296112</td>\n",
              "      <td>1.081093</td>\n",
              "      <td>1.721385</td>\n",
              "      <td>1.290778</td>\n",
              "      <td>...</td>\n",
              "      <td>2.309246</td>\n",
              "      <td>2.270861</td>\n",
              "      <td>2.552256</td>\n",
              "      <td>3.011268</td>\n",
              "      <td>2.576969</td>\n",
              "      <td>2.579716</td>\n",
              "      <td>2.280400</td>\n",
              "      <td>1.183832</td>\n",
              "      <td>2.946427</td>\n",
              "      <td>2.056846</td>\n",
              "    </tr>\n",
              "    <tr>\n",
              "      <th>...</th>\n",
              "      <td>...</td>\n",
              "      <td>...</td>\n",
              "      <td>...</td>\n",
              "      <td>...</td>\n",
              "      <td>...</td>\n",
              "      <td>...</td>\n",
              "      <td>...</td>\n",
              "      <td>...</td>\n",
              "      <td>...</td>\n",
              "      <td>...</td>\n",
              "      <td>...</td>\n",
              "      <td>...</td>\n",
              "      <td>...</td>\n",
              "      <td>...</td>\n",
              "      <td>...</td>\n",
              "      <td>...</td>\n",
              "      <td>...</td>\n",
              "      <td>...</td>\n",
              "      <td>...</td>\n",
              "      <td>...</td>\n",
              "      <td>...</td>\n",
              "    </tr>\n",
              "    <tr>\n",
              "      <th>99995</th>\n",
              "      <td>2.469060</td>\n",
              "      <td>1.944152</td>\n",
              "      <td>1.464401</td>\n",
              "      <td>1.554039</td>\n",
              "      <td>2.052452</td>\n",
              "      <td>1.719286</td>\n",
              "      <td>2.299570</td>\n",
              "      <td>1.783415</td>\n",
              "      <td>1.694976</td>\n",
              "      <td>2.036992</td>\n",
              "      <td>...</td>\n",
              "      <td>2.743753</td>\n",
              "      <td>2.413405</td>\n",
              "      <td>1.769985</td>\n",
              "      <td>2.077083</td>\n",
              "      <td>1.421381</td>\n",
              "      <td>1.672501</td>\n",
              "      <td>2.164880</td>\n",
              "      <td>2.417685</td>\n",
              "      <td>2.394320</td>\n",
              "      <td>1.325424</td>\n",
              "    </tr>\n",
              "    <tr>\n",
              "      <th>99996</th>\n",
              "      <td>1.613260</td>\n",
              "      <td>2.357866</td>\n",
              "      <td>2.600431</td>\n",
              "      <td>2.142335</td>\n",
              "      <td>3.100055</td>\n",
              "      <td>2.423109</td>\n",
              "      <td>1.782654</td>\n",
              "      <td>3.142578</td>\n",
              "      <td>2.317951</td>\n",
              "      <td>2.182345</td>\n",
              "      <td>...</td>\n",
              "      <td>2.260197</td>\n",
              "      <td>2.369591</td>\n",
              "      <td>1.531543</td>\n",
              "      <td>2.091696</td>\n",
              "      <td>1.110596</td>\n",
              "      <td>2.325127</td>\n",
              "      <td>2.961379</td>\n",
              "      <td>2.178663</td>\n",
              "      <td>2.988712</td>\n",
              "      <td>2.006969</td>\n",
              "    </tr>\n",
              "    <tr>\n",
              "      <th>99997</th>\n",
              "      <td>2.710291</td>\n",
              "      <td>1.639400</td>\n",
              "      <td>0.845316</td>\n",
              "      <td>2.859595</td>\n",
              "      <td>1.363385</td>\n",
              "      <td>1.401434</td>\n",
              "      <td>1.242514</td>\n",
              "      <td>2.843363</td>\n",
              "      <td>1.919517</td>\n",
              "      <td>1.235176</td>\n",
              "      <td>...</td>\n",
              "      <td>3.233900</td>\n",
              "      <td>2.189463</td>\n",
              "      <td>2.025656</td>\n",
              "      <td>1.436872</td>\n",
              "      <td>1.593415</td>\n",
              "      <td>1.912365</td>\n",
              "      <td>2.208321</td>\n",
              "      <td>3.380556</td>\n",
              "      <td>1.891715</td>\n",
              "      <td>2.542389</td>\n",
              "    </tr>\n",
              "    <tr>\n",
              "      <th>99998</th>\n",
              "      <td>1.888056</td>\n",
              "      <td>2.454579</td>\n",
              "      <td>1.248855</td>\n",
              "      <td>0.990096</td>\n",
              "      <td>2.601651</td>\n",
              "      <td>0.876812</td>\n",
              "      <td>1.730572</td>\n",
              "      <td>2.463358</td>\n",
              "      <td>1.834659</td>\n",
              "      <td>0.949414</td>\n",
              "      <td>...</td>\n",
              "      <td>1.526910</td>\n",
              "      <td>1.147391</td>\n",
              "      <td>1.169447</td>\n",
              "      <td>1.725887</td>\n",
              "      <td>1.964907</td>\n",
              "      <td>1.667066</td>\n",
              "      <td>2.265025</td>\n",
              "      <td>2.822579</td>\n",
              "      <td>2.700696</td>\n",
              "      <td>2.228108</td>\n",
              "    </tr>\n",
              "    <tr>\n",
              "      <th>99999</th>\n",
              "      <td>2.175570</td>\n",
              "      <td>1.680920</td>\n",
              "      <td>2.126945</td>\n",
              "      <td>1.182472</td>\n",
              "      <td>1.789690</td>\n",
              "      <td>1.990664</td>\n",
              "      <td>0.894474</td>\n",
              "      <td>2.180400</td>\n",
              "      <td>2.657173</td>\n",
              "      <td>2.996071</td>\n",
              "      <td>...</td>\n",
              "      <td>2.006510</td>\n",
              "      <td>1.896831</td>\n",
              "      <td>1.272826</td>\n",
              "      <td>2.407297</td>\n",
              "      <td>2.637107</td>\n",
              "      <td>0.843375</td>\n",
              "      <td>0.390445</td>\n",
              "      <td>1.490970</td>\n",
              "      <td>1.647690</td>\n",
              "      <td>2.218726</td>\n",
              "    </tr>\n",
              "  </tbody>\n",
              "</table>\n",
              "<p>100000 rows × 100 columns</p>\n",
              "</div>"
            ],
            "text/plain": [
              "             0         1         2         3         4         5         6   \\\n",
              "0      1.894619  2.350323  2.478404  2.882839  1.343365  1.786434  2.018079   \n",
              "1      2.639100  2.094697  1.557960  1.780941  1.830018  2.329232  1.231432   \n",
              "2      1.721849  1.783487  1.823500  1.815596  1.705560  1.581237  2.064727   \n",
              "3      1.625072  2.173571  0.987042  3.065283  2.585640  1.556933  2.184181   \n",
              "4      2.166188  2.905083  1.881283  2.200816  3.151786  1.163403  1.296112   \n",
              "...         ...       ...       ...       ...       ...       ...       ...   \n",
              "99995  2.469060  1.944152  1.464401  1.554039  2.052452  1.719286  2.299570   \n",
              "99996  1.613260  2.357866  2.600431  2.142335  3.100055  2.423109  1.782654   \n",
              "99997  2.710291  1.639400  0.845316  2.859595  1.363385  1.401434  1.242514   \n",
              "99998  1.888056  2.454579  1.248855  0.990096  2.601651  0.876812  1.730572   \n",
              "99999  2.175570  1.680920  2.126945  1.182472  1.789690  1.990664  0.894474   \n",
              "\n",
              "             7         8         9   ...        90        91        92  \\\n",
              "0      1.987882  1.735450  2.465074  ...  1.421749  2.467428  1.879926   \n",
              "1      1.396454  2.155633  0.942625  ...  1.795405  2.723724  1.930859   \n",
              "2      2.455018  1.240429  2.224491  ...  1.706844  2.797325  2.188354   \n",
              "3      1.968105  2.251560  1.903023  ...  2.107717  2.990492  1.863779   \n",
              "4      1.081093  1.721385  1.290778  ...  2.309246  2.270861  2.552256   \n",
              "...         ...       ...       ...  ...       ...       ...       ...   \n",
              "99995  1.783415  1.694976  2.036992  ...  2.743753  2.413405  1.769985   \n",
              "99996  3.142578  2.317951  2.182345  ...  2.260197  2.369591  1.531543   \n",
              "99997  2.843363  1.919517  1.235176  ...  3.233900  2.189463  2.025656   \n",
              "99998  2.463358  1.834659  0.949414  ...  1.526910  1.147391  1.169447   \n",
              "99999  2.180400  2.657173  2.996071  ...  2.006510  1.896831  1.272826   \n",
              "\n",
              "             93        94        95        96        97        98        99  \n",
              "0      2.541935  1.944373  1.107981  1.164714  1.218824  1.826986  1.768287  \n",
              "1      2.627139  2.206071  1.400315  1.309764  1.844379  1.097728  1.967507  \n",
              "2      2.324506  1.371082  2.374894  1.794025  1.752218  2.953386  1.836734  \n",
              "3      2.628333  1.784315  2.597918  2.073985  2.419915  2.845571  1.463960  \n",
              "4      3.011268  2.576969  2.579716  2.280400  1.183832  2.946427  2.056846  \n",
              "...         ...       ...       ...       ...       ...       ...       ...  \n",
              "99995  2.077083  1.421381  1.672501  2.164880  2.417685  2.394320  1.325424  \n",
              "99996  2.091696  1.110596  2.325127  2.961379  2.178663  2.988712  2.006969  \n",
              "99997  1.436872  1.593415  1.912365  2.208321  3.380556  1.891715  2.542389  \n",
              "99998  1.725887  1.964907  1.667066  2.265025  2.822579  2.700696  2.228108  \n",
              "99999  2.407297  2.637107  0.843375  0.390445  1.490970  1.647690  2.218726  \n",
              "\n",
              "[100000 rows x 100 columns]"
            ]
          },
          "execution_count": 108,
          "metadata": {},
          "output_type": "execute_result"
        }
      ],
      "source": [
        "pd.eval('df1 + df2 + df3 + df4')"
      ]
    },
    {
      "cell_type": "markdown",
      "metadata": {
        "id": "qfXyimgArsd1"
      },
      "source": [
        "The `eval` version of this expression is about 50% faster (and uses much less memory), while giving the same result:"
      ]
    },
    {
      "cell_type": "code",
      "execution_count": 109,
      "metadata": {
        "id": "24T7Trc1rsd1",
        "jupyter": {
          "outputs_hidden": false
        },
        "outputId": "a630d0ef-4c81-47b3-fdf3-56a5cda33650"
      },
      "outputs": [
        {
          "data": {
            "text/plain": [
              "True"
            ]
          },
          "execution_count": 109,
          "metadata": {},
          "output_type": "execute_result"
        }
      ],
      "source": [
        "np.allclose(df1 + df2 + df3 + df4,\n",
        "            pd.eval('df1 + df2 + df3 + df4'))"
      ]
    },
    {
      "cell_type": "markdown",
      "metadata": {
        "id": "niOuVJdcrsd1"
      },
      "source": [
        "`pd.eval` supports a wide range of operations.\n",
        "To demonstrate these, we'll use the following integer data:"
      ]
    },
    {
      "cell_type": "code",
      "execution_count": 110,
      "metadata": {
        "id": "fJteRPiCrsd1",
        "tags": []
      },
      "outputs": [],
      "source": [
        "df1, df2, df3, df4, df5 = (pd.DataFrame(rng.integers(0, 1000, (100, 3)))\n",
        "                           for i in range(5))"
      ]
    },
    {
      "cell_type": "markdown",
      "metadata": {
        "id": "Fp3R_Y6Srsd1"
      },
      "source": [
        "#### Arithmetic operators\n",
        "`pd.eval` supports all arithmetic operators. For example:"
      ]
    },
    {
      "cell_type": "code",
      "execution_count": 111,
      "metadata": {
        "id": "uquBtVl7rsd1",
        "jupyter": {
          "outputs_hidden": false
        },
        "outputId": "ec11b67c-bbaf-4720-f4e2-1f12705feb8f"
      },
      "outputs": [
        {
          "data": {
            "text/plain": [
              "True"
            ]
          },
          "execution_count": 111,
          "metadata": {},
          "output_type": "execute_result"
        }
      ],
      "source": [
        "result1 = -df1 * df2 / (df3 + df4) - df5\n",
        "result2 = pd.eval('-df1 * df2 / (df3 + df4) - df5')\n",
        "np.allclose(result1, result2)"
      ]
    },
    {
      "cell_type": "markdown",
      "metadata": {
        "id": "pEGSVgjlrsd1"
      },
      "source": [
        "#### Comparison operators\n",
        "`pd.eval` supports all comparison operators, including chained expressions:"
      ]
    },
    {
      "cell_type": "code",
      "execution_count": 112,
      "metadata": {
        "id": "7s2CGPwnrsd1",
        "jupyter": {
          "outputs_hidden": false
        },
        "outputId": "edc29cbf-aa53-49f4-ee06-0c9b068a703d"
      },
      "outputs": [
        {
          "data": {
            "text/plain": [
              "True"
            ]
          },
          "execution_count": 112,
          "metadata": {},
          "output_type": "execute_result"
        }
      ],
      "source": [
        "result1 = (df1 < df2) & (df2 <= df3) & (df3 != df4)\n",
        "result2 = pd.eval('df1 < df2 <= df3 != df4')\n",
        "np.allclose(result1, result2)"
      ]
    },
    {
      "cell_type": "markdown",
      "metadata": {
        "id": "hLEeZ_B3rsd1"
      },
      "source": [
        "#### Bitwise operators\n",
        "`pd.eval` supports the `&` and `|` bitwise operators:"
      ]
    },
    {
      "cell_type": "code",
      "execution_count": 113,
      "metadata": {
        "id": "85oWtLRorsd1",
        "jupyter": {
          "outputs_hidden": false
        },
        "outputId": "9d6d5ba6-ed84-4357-cb5f-15fe96651199"
      },
      "outputs": [
        {
          "data": {
            "text/plain": [
              "True"
            ]
          },
          "execution_count": 113,
          "metadata": {},
          "output_type": "execute_result"
        }
      ],
      "source": [
        "result1 = (df1 < 0.5) & (df2 < 0.5) | (df3 < df4)\n",
        "result2 = pd.eval('(df1 < 0.5) & (df2 < 0.5) | (df3 < df4)')\n",
        "np.allclose(result1, result2)"
      ]
    },
    {
      "cell_type": "markdown",
      "metadata": {
        "id": "rmh7T0oZrsd1"
      },
      "source": [
        "In addition, it supports the use of the literal `and` and `or` in Boolean expressions:"
      ]
    },
    {
      "cell_type": "code",
      "execution_count": 114,
      "metadata": {
        "id": "8bgGQLA3rsd1",
        "jupyter": {
          "outputs_hidden": false
        },
        "outputId": "849a1e63-42a4-47cc-f1ec-abb8f493b20f"
      },
      "outputs": [
        {
          "data": {
            "text/plain": [
              "True"
            ]
          },
          "execution_count": 114,
          "metadata": {},
          "output_type": "execute_result"
        }
      ],
      "source": [
        "result3 = pd.eval('(df1 < 0.5) and (df2 < 0.5) or (df3 < df4)')\n",
        "np.allclose(result1, result3)"
      ]
    },
    {
      "cell_type": "markdown",
      "metadata": {
        "id": "aDOYEf_drsd1"
      },
      "source": [
        "#### Object attributes and indices\n",
        "\n",
        "`pd.eval` supports access to object attributes via the `obj.attr` syntax and indexes via the `obj[index]` syntax:"
      ]
    },
    {
      "cell_type": "code",
      "execution_count": 115,
      "metadata": {
        "id": "Mn2b-Jj1rsd1",
        "jupyter": {
          "outputs_hidden": false
        },
        "outputId": "1a9be9ba-440e-4509-d7dc-017bf4f5df6d"
      },
      "outputs": [
        {
          "data": {
            "text/plain": [
              "True"
            ]
          },
          "execution_count": 115,
          "metadata": {},
          "output_type": "execute_result"
        }
      ],
      "source": [
        "result1 = df2.T[0] + df3.iloc[1]\n",
        "result2 = pd.eval('df2.T[0] + df3.iloc[1]')\n",
        "np.allclose(result1, result2)"
      ]
    },
    {
      "cell_type": "markdown",
      "metadata": {
        "id": "DO7KeevArsd2"
      },
      "source": [
        "#### Other operations\n",
        "\n",
        "Other operations, such as function calls, conditional statements, loops, and other more involved constructs are currently *not* implemented in `pd.eval`.\n",
        "If you'd like to execute these more complicated types of expressions, you can use the NumExpr library itself."
      ]
    },
    {
      "cell_type": "markdown",
      "metadata": {
        "id": "KhHwN8Virsd2"
      },
      "source": [
        "## DataFrame.eval for Column-Wise Operations\n",
        "\n",
        "Just as Pandas has a top-level `pd.eval` function, `DataFrame` objects have an `eval` method that works in similar ways.\n",
        "The benefit of the `eval` method is that columns can be referred to by name.\n",
        "We'll use this labeled array as an example:"
      ]
    },
    {
      "cell_type": "code",
      "execution_count": 116,
      "metadata": {
        "id": "qPZDgh8grsd2",
        "jupyter": {
          "outputs_hidden": false
        },
        "outputId": "9720d548-c238-46ab-ac77-cae41419b8f8"
      },
      "outputs": [
        {
          "data": {
            "text/html": [
              "<div>\n",
              "<style scoped>\n",
              "    .dataframe tbody tr th:only-of-type {\n",
              "        vertical-align: middle;\n",
              "    }\n",
              "\n",
              "    .dataframe tbody tr th {\n",
              "        vertical-align: top;\n",
              "    }\n",
              "\n",
              "    .dataframe thead th {\n",
              "        text-align: right;\n",
              "    }\n",
              "</style>\n",
              "<table border=\"1\" class=\"dataframe\">\n",
              "  <thead>\n",
              "    <tr style=\"text-align: right;\">\n",
              "      <th></th>\n",
              "      <th>A</th>\n",
              "      <th>B</th>\n",
              "      <th>C</th>\n",
              "    </tr>\n",
              "  </thead>\n",
              "  <tbody>\n",
              "    <tr>\n",
              "      <th>0</th>\n",
              "      <td>0.850888</td>\n",
              "      <td>0.966709</td>\n",
              "      <td>0.958690</td>\n",
              "    </tr>\n",
              "    <tr>\n",
              "      <th>1</th>\n",
              "      <td>0.820126</td>\n",
              "      <td>0.385686</td>\n",
              "      <td>0.061402</td>\n",
              "    </tr>\n",
              "    <tr>\n",
              "      <th>2</th>\n",
              "      <td>0.059729</td>\n",
              "      <td>0.831768</td>\n",
              "      <td>0.652259</td>\n",
              "    </tr>\n",
              "    <tr>\n",
              "      <th>3</th>\n",
              "      <td>0.244774</td>\n",
              "      <td>0.140322</td>\n",
              "      <td>0.041711</td>\n",
              "    </tr>\n",
              "    <tr>\n",
              "      <th>4</th>\n",
              "      <td>0.818205</td>\n",
              "      <td>0.753384</td>\n",
              "      <td>0.578851</td>\n",
              "    </tr>\n",
              "  </tbody>\n",
              "</table>\n",
              "</div>"
            ],
            "text/plain": [
              "          A         B         C\n",
              "0  0.850888  0.966709  0.958690\n",
              "1  0.820126  0.385686  0.061402\n",
              "2  0.059729  0.831768  0.652259\n",
              "3  0.244774  0.140322  0.041711\n",
              "4  0.818205  0.753384  0.578851"
            ]
          },
          "execution_count": 116,
          "metadata": {},
          "output_type": "execute_result"
        }
      ],
      "source": [
        "df = pd.DataFrame(rng.random((1000, 3)), columns=['A', 'B', 'C'])\n",
        "df.head()"
      ]
    },
    {
      "cell_type": "markdown",
      "metadata": {
        "id": "HAkOqi3Xrsd2"
      },
      "source": [
        "Using `pd.eval` as in the previous section, we can compute expressions with the three columns like this:"
      ]
    },
    {
      "cell_type": "code",
      "execution_count": 117,
      "metadata": {
        "id": "_pj9wyBsrsd2",
        "jupyter": {
          "outputs_hidden": false
        },
        "outputId": "65955944-ac0e-4748-98c4-6d1028866cff"
      },
      "outputs": [
        {
          "data": {
            "text/plain": [
              "True"
            ]
          },
          "execution_count": 117,
          "metadata": {},
          "output_type": "execute_result"
        }
      ],
      "source": [
        "result1 = (df['A'] + df['B']) / (df['C'] - 1)\n",
        "result2 = pd.eval(\"(df.A + df.B) / (df.C - 1)\")\n",
        "np.allclose(result1, result2)"
      ]
    },
    {
      "cell_type": "markdown",
      "metadata": {
        "id": "LfHFOQFqrsd2"
      },
      "source": [
        "The `DataFrame.eval` method allows much more succinct evaluation of expressions with the columns:"
      ]
    },
    {
      "cell_type": "code",
      "execution_count": 118,
      "metadata": {
        "id": "YlmhIr8Irsd8",
        "jupyter": {
          "outputs_hidden": false
        },
        "outputId": "0cb4d664-a8f0-46d8-9d76-aff50592ce4e"
      },
      "outputs": [
        {
          "data": {
            "text/plain": [
              "True"
            ]
          },
          "execution_count": 118,
          "metadata": {},
          "output_type": "execute_result"
        }
      ],
      "source": [
        "result3 = df.eval('(A + B) / (C - 1)')\n",
        "np.allclose(result1, result3)"
      ]
    },
    {
      "cell_type": "markdown",
      "metadata": {
        "id": "k97ddHTRrsd9"
      },
      "source": [
        "Notice here that we treat *column names as variables* within the evaluated expression, and the result is what we would wish."
      ]
    },
    {
      "cell_type": "markdown",
      "metadata": {
        "id": "YReqhG73rsd9"
      },
      "source": [
        "### Assignment in DataFrame.eval\n",
        "\n",
        "In addition to the options just discussed, `DataFrame.eval`  also allows assignment to any column.\n",
        "Let's use the `DataFrame` from before, which has columns `'A'`, `'B'`, and `'C'`:"
      ]
    },
    {
      "cell_type": "code",
      "execution_count": 119,
      "metadata": {
        "id": "sVIZTZD2rsd9",
        "jupyter": {
          "outputs_hidden": false
        },
        "outputId": "c6ddef8a-963a-444c-b8cc-513d154349e0"
      },
      "outputs": [
        {
          "data": {
            "text/html": [
              "<div>\n",
              "<style scoped>\n",
              "    .dataframe tbody tr th:only-of-type {\n",
              "        vertical-align: middle;\n",
              "    }\n",
              "\n",
              "    .dataframe tbody tr th {\n",
              "        vertical-align: top;\n",
              "    }\n",
              "\n",
              "    .dataframe thead th {\n",
              "        text-align: right;\n",
              "    }\n",
              "</style>\n",
              "<table border=\"1\" class=\"dataframe\">\n",
              "  <thead>\n",
              "    <tr style=\"text-align: right;\">\n",
              "      <th></th>\n",
              "      <th>A</th>\n",
              "      <th>B</th>\n",
              "      <th>C</th>\n",
              "    </tr>\n",
              "  </thead>\n",
              "  <tbody>\n",
              "    <tr>\n",
              "      <th>0</th>\n",
              "      <td>0.850888</td>\n",
              "      <td>0.966709</td>\n",
              "      <td>0.958690</td>\n",
              "    </tr>\n",
              "    <tr>\n",
              "      <th>1</th>\n",
              "      <td>0.820126</td>\n",
              "      <td>0.385686</td>\n",
              "      <td>0.061402</td>\n",
              "    </tr>\n",
              "    <tr>\n",
              "      <th>2</th>\n",
              "      <td>0.059729</td>\n",
              "      <td>0.831768</td>\n",
              "      <td>0.652259</td>\n",
              "    </tr>\n",
              "    <tr>\n",
              "      <th>3</th>\n",
              "      <td>0.244774</td>\n",
              "      <td>0.140322</td>\n",
              "      <td>0.041711</td>\n",
              "    </tr>\n",
              "    <tr>\n",
              "      <th>4</th>\n",
              "      <td>0.818205</td>\n",
              "      <td>0.753384</td>\n",
              "      <td>0.578851</td>\n",
              "    </tr>\n",
              "  </tbody>\n",
              "</table>\n",
              "</div>"
            ],
            "text/plain": [
              "          A         B         C\n",
              "0  0.850888  0.966709  0.958690\n",
              "1  0.820126  0.385686  0.061402\n",
              "2  0.059729  0.831768  0.652259\n",
              "3  0.244774  0.140322  0.041711\n",
              "4  0.818205  0.753384  0.578851"
            ]
          },
          "execution_count": 119,
          "metadata": {},
          "output_type": "execute_result"
        }
      ],
      "source": [
        "df.head()"
      ]
    },
    {
      "cell_type": "markdown",
      "metadata": {
        "id": "eAVT-LKdrsd9"
      },
      "source": [
        "We can use `df.eval` to create a new column `'D'` and assign to it a value computed from the other columns:"
      ]
    },
    {
      "cell_type": "code",
      "execution_count": 120,
      "metadata": {
        "id": "kti0fDzjrsd9",
        "jupyter": {
          "outputs_hidden": false
        },
        "outputId": "ba2c0710-25c7-482b-d933-a7c2bb2fb9a1"
      },
      "outputs": [
        {
          "data": {
            "text/html": [
              "<div>\n",
              "<style scoped>\n",
              "    .dataframe tbody tr th:only-of-type {\n",
              "        vertical-align: middle;\n",
              "    }\n",
              "\n",
              "    .dataframe tbody tr th {\n",
              "        vertical-align: top;\n",
              "    }\n",
              "\n",
              "    .dataframe thead th {\n",
              "        text-align: right;\n",
              "    }\n",
              "</style>\n",
              "<table border=\"1\" class=\"dataframe\">\n",
              "  <thead>\n",
              "    <tr style=\"text-align: right;\">\n",
              "      <th></th>\n",
              "      <th>A</th>\n",
              "      <th>B</th>\n",
              "      <th>C</th>\n",
              "      <th>D</th>\n",
              "    </tr>\n",
              "  </thead>\n",
              "  <tbody>\n",
              "    <tr>\n",
              "      <th>0</th>\n",
              "      <td>0.850888</td>\n",
              "      <td>0.966709</td>\n",
              "      <td>0.958690</td>\n",
              "      <td>1.895916</td>\n",
              "    </tr>\n",
              "    <tr>\n",
              "      <th>1</th>\n",
              "      <td>0.820126</td>\n",
              "      <td>0.385686</td>\n",
              "      <td>0.061402</td>\n",
              "      <td>19.638139</td>\n",
              "    </tr>\n",
              "    <tr>\n",
              "      <th>2</th>\n",
              "      <td>0.059729</td>\n",
              "      <td>0.831768</td>\n",
              "      <td>0.652259</td>\n",
              "      <td>1.366782</td>\n",
              "    </tr>\n",
              "    <tr>\n",
              "      <th>3</th>\n",
              "      <td>0.244774</td>\n",
              "      <td>0.140322</td>\n",
              "      <td>0.041711</td>\n",
              "      <td>9.232370</td>\n",
              "    </tr>\n",
              "    <tr>\n",
              "      <th>4</th>\n",
              "      <td>0.818205</td>\n",
              "      <td>0.753384</td>\n",
              "      <td>0.578851</td>\n",
              "      <td>2.715013</td>\n",
              "    </tr>\n",
              "  </tbody>\n",
              "</table>\n",
              "</div>"
            ],
            "text/plain": [
              "          A         B         C          D\n",
              "0  0.850888  0.966709  0.958690   1.895916\n",
              "1  0.820126  0.385686  0.061402  19.638139\n",
              "2  0.059729  0.831768  0.652259   1.366782\n",
              "3  0.244774  0.140322  0.041711   9.232370\n",
              "4  0.818205  0.753384  0.578851   2.715013"
            ]
          },
          "execution_count": 120,
          "metadata": {},
          "output_type": "execute_result"
        }
      ],
      "source": [
        "df.eval('D = (A + B) / C', inplace=True)\n",
        "df.head()"
      ]
    },
    {
      "cell_type": "markdown",
      "metadata": {
        "id": "GI2xfRM5rsd9"
      },
      "source": [
        "In the same way, any existing column can be modified:"
      ]
    },
    {
      "cell_type": "code",
      "execution_count": 121,
      "metadata": {
        "id": "mIcjmSLDrsd9",
        "jupyter": {
          "outputs_hidden": false
        },
        "outputId": "a493dca6-28b3-402e-d0eb-c52066f52457"
      },
      "outputs": [
        {
          "data": {
            "text/html": [
              "<div>\n",
              "<style scoped>\n",
              "    .dataframe tbody tr th:only-of-type {\n",
              "        vertical-align: middle;\n",
              "    }\n",
              "\n",
              "    .dataframe tbody tr th {\n",
              "        vertical-align: top;\n",
              "    }\n",
              "\n",
              "    .dataframe thead th {\n",
              "        text-align: right;\n",
              "    }\n",
              "</style>\n",
              "<table border=\"1\" class=\"dataframe\">\n",
              "  <thead>\n",
              "    <tr style=\"text-align: right;\">\n",
              "      <th></th>\n",
              "      <th>A</th>\n",
              "      <th>B</th>\n",
              "      <th>C</th>\n",
              "      <th>D</th>\n",
              "    </tr>\n",
              "  </thead>\n",
              "  <tbody>\n",
              "    <tr>\n",
              "      <th>0</th>\n",
              "      <td>0.850888</td>\n",
              "      <td>0.966709</td>\n",
              "      <td>0.958690</td>\n",
              "      <td>1.895916</td>\n",
              "    </tr>\n",
              "    <tr>\n",
              "      <th>1</th>\n",
              "      <td>0.820126</td>\n",
              "      <td>0.385686</td>\n",
              "      <td>0.061402</td>\n",
              "      <td>19.638139</td>\n",
              "    </tr>\n",
              "    <tr>\n",
              "      <th>2</th>\n",
              "      <td>0.059729</td>\n",
              "      <td>0.831768</td>\n",
              "      <td>0.652259</td>\n",
              "      <td>1.366782</td>\n",
              "    </tr>\n",
              "    <tr>\n",
              "      <th>3</th>\n",
              "      <td>0.244774</td>\n",
              "      <td>0.140322</td>\n",
              "      <td>0.041711</td>\n",
              "      <td>9.232370</td>\n",
              "    </tr>\n",
              "    <tr>\n",
              "      <th>4</th>\n",
              "      <td>0.818205</td>\n",
              "      <td>0.753384</td>\n",
              "      <td>0.578851</td>\n",
              "      <td>2.715013</td>\n",
              "    </tr>\n",
              "  </tbody>\n",
              "</table>\n",
              "</div>"
            ],
            "text/plain": [
              "          A         B         C          D\n",
              "0  0.850888  0.966709  0.958690   1.895916\n",
              "1  0.820126  0.385686  0.061402  19.638139\n",
              "2  0.059729  0.831768  0.652259   1.366782\n",
              "3  0.244774  0.140322  0.041711   9.232370\n",
              "4  0.818205  0.753384  0.578851   2.715013"
            ]
          },
          "execution_count": 121,
          "metadata": {},
          "output_type": "execute_result"
        }
      ],
      "source": [
        "df.eval('D=(A+B)/C',inplace=True)\n",
        "df.head()"
      ]
    },
    {
      "cell_type": "markdown",
      "metadata": {
        "id": "-UJET1SKrsd9"
      },
      "source": [
        "### Local Variables in DataFrame.eval\n",
        "\n",
        "The `DataFrame.eval` method supports an additional syntax that lets it work with local Python variables.\n",
        "Consider the following:"
      ]
    },
    {
      "cell_type": "code",
      "execution_count": 122,
      "metadata": {
        "id": "Hjw1v376rsd9",
        "jupyter": {
          "outputs_hidden": false
        },
        "outputId": "b7b9ee1c-90b7-4fa0-f65b-8c681f1d0628"
      },
      "outputs": [
        {
          "data": {
            "text/plain": [
              "True"
            ]
          },
          "execution_count": 122,
          "metadata": {},
          "output_type": "execute_result"
        }
      ],
      "source": [
        "column_mean = df.mean(1)\n",
        "result1 = df['A'] + column_mean\n",
        "result2 = df.eval('A + @column_mean')\n",
        "np.allclose(result1, result2)"
      ]
    },
    {
      "cell_type": "markdown",
      "metadata": {
        "id": "NROLEeOursd9"
      },
      "source": [
        "The `@` character here marks a *variable name* rather than a *column name*, and lets you efficiently evaluate expressions involving the two \"namespaces\": the namespace of columns, and the namespace of Python objects.\n",
        "Notice that this `@` character is only supported by the `DataFrame.eval` *method*, not by the `pandas.eval` *function*, because the `pandas.eval` function only has access to the one (Python) namespace."
      ]
    },
    {
      "cell_type": "markdown",
      "metadata": {
        "id": "oJtxOcbJrsd9"
      },
      "source": [
        "## The DataFrame.query Method\n",
        "\n",
        "The `DataFrame` has another method based on evaluated strings, called `query`.\n",
        "Consider the following:"
      ]
    },
    {
      "cell_type": "code",
      "execution_count": 123,
      "metadata": {
        "id": "0KTdCLDPrsd9",
        "jupyter": {
          "outputs_hidden": false
        },
        "outputId": "8c40108c-8f7f-4224-d5e9-1aec46de2d5b"
      },
      "outputs": [
        {
          "data": {
            "text/plain": [
              "True"
            ]
          },
          "execution_count": 123,
          "metadata": {},
          "output_type": "execute_result"
        }
      ],
      "source": [
        "result1 = df[(df.A < 0.5) & (df.B < 0.5)]\n",
        "result2 = pd.eval('df[(df.A < 0.5) & (df.B < 0.5)]')\n",
        "np.allclose(result1, result2)\n"
      ]
    },
    {
      "cell_type": "markdown",
      "metadata": {
        "id": "5I0MHa2trsd9"
      },
      "source": [
        "As with the example used in our discussion of `DataFrame.eval`, this is an expression involving columns of the `DataFrame`.\n",
        "However, it cannot be expressed using the `DataFrame.eval` syntax!\n",
        "Instead, for this type of filtering operation, you can use the `query` method:"
      ]
    },
    {
      "cell_type": "code",
      "execution_count": 124,
      "metadata": {},
      "outputs": [
        {
          "data": {
            "text/html": [
              "<div>\n",
              "<style scoped>\n",
              "    .dataframe tbody tr th:only-of-type {\n",
              "        vertical-align: middle;\n",
              "    }\n",
              "\n",
              "    .dataframe tbody tr th {\n",
              "        vertical-align: top;\n",
              "    }\n",
              "\n",
              "    .dataframe thead th {\n",
              "        text-align: right;\n",
              "    }\n",
              "</style>\n",
              "<table border=\"1\" class=\"dataframe\">\n",
              "  <thead>\n",
              "    <tr style=\"text-align: right;\">\n",
              "      <th></th>\n",
              "      <th>A</th>\n",
              "      <th>B</th>\n",
              "      <th>C</th>\n",
              "      <th>D</th>\n",
              "    </tr>\n",
              "  </thead>\n",
              "  <tbody>\n",
              "    <tr>\n",
              "      <th>0</th>\n",
              "      <td>0.850888</td>\n",
              "      <td>0.966709</td>\n",
              "      <td>0.958690</td>\n",
              "      <td>1.895916</td>\n",
              "    </tr>\n",
              "    <tr>\n",
              "      <th>1</th>\n",
              "      <td>0.820126</td>\n",
              "      <td>0.385686</td>\n",
              "      <td>0.061402</td>\n",
              "      <td>19.638139</td>\n",
              "    </tr>\n",
              "    <tr>\n",
              "      <th>2</th>\n",
              "      <td>0.059729</td>\n",
              "      <td>0.831768</td>\n",
              "      <td>0.652259</td>\n",
              "      <td>1.366782</td>\n",
              "    </tr>\n",
              "    <tr>\n",
              "      <th>3</th>\n",
              "      <td>0.244774</td>\n",
              "      <td>0.140322</td>\n",
              "      <td>0.041711</td>\n",
              "      <td>9.232370</td>\n",
              "    </tr>\n",
              "    <tr>\n",
              "      <th>4</th>\n",
              "      <td>0.818205</td>\n",
              "      <td>0.753384</td>\n",
              "      <td>0.578851</td>\n",
              "      <td>2.715013</td>\n",
              "    </tr>\n",
              "    <tr>\n",
              "      <th>...</th>\n",
              "      <td>...</td>\n",
              "      <td>...</td>\n",
              "      <td>...</td>\n",
              "      <td>...</td>\n",
              "    </tr>\n",
              "    <tr>\n",
              "      <th>995</th>\n",
              "      <td>0.238682</td>\n",
              "      <td>0.844983</td>\n",
              "      <td>0.054338</td>\n",
              "      <td>19.942987</td>\n",
              "    </tr>\n",
              "    <tr>\n",
              "      <th>996</th>\n",
              "      <td>0.473060</td>\n",
              "      <td>0.717468</td>\n",
              "      <td>0.294853</td>\n",
              "      <td>4.037694</td>\n",
              "    </tr>\n",
              "    <tr>\n",
              "      <th>997</th>\n",
              "      <td>0.452826</td>\n",
              "      <td>0.432105</td>\n",
              "      <td>0.075196</td>\n",
              "      <td>11.768397</td>\n",
              "    </tr>\n",
              "    <tr>\n",
              "      <th>998</th>\n",
              "      <td>0.578716</td>\n",
              "      <td>0.633288</td>\n",
              "      <td>0.960911</td>\n",
              "      <td>1.261308</td>\n",
              "    </tr>\n",
              "    <tr>\n",
              "      <th>999</th>\n",
              "      <td>0.110407</td>\n",
              "      <td>0.698159</td>\n",
              "      <td>0.876147</td>\n",
              "      <td>0.922865</td>\n",
              "    </tr>\n",
              "  </tbody>\n",
              "</table>\n",
              "<p>1000 rows × 4 columns</p>\n",
              "</div>"
            ],
            "text/plain": [
              "            A         B         C          D\n",
              "0    0.850888  0.966709  0.958690   1.895916\n",
              "1    0.820126  0.385686  0.061402  19.638139\n",
              "2    0.059729  0.831768  0.652259   1.366782\n",
              "3    0.244774  0.140322  0.041711   9.232370\n",
              "4    0.818205  0.753384  0.578851   2.715013\n",
              "..        ...       ...       ...        ...\n",
              "995  0.238682  0.844983  0.054338  19.942987\n",
              "996  0.473060  0.717468  0.294853   4.037694\n",
              "997  0.452826  0.432105  0.075196  11.768397\n",
              "998  0.578716  0.633288  0.960911   1.261308\n",
              "999  0.110407  0.698159  0.876147   0.922865\n",
              "\n",
              "[1000 rows x 4 columns]"
            ]
          },
          "execution_count": 124,
          "metadata": {},
          "output_type": "execute_result"
        }
      ],
      "source": [
        "df"
      ]
    },
    {
      "cell_type": "code",
      "execution_count": 125,
      "metadata": {
        "id": "z8RAQTV_rsd9",
        "jupyter": {
          "outputs_hidden": false
        },
        "outputId": "e51fe27b-b8f5-48c6-e830-f1c8972bc473"
      },
      "outputs": [
        {
          "data": {
            "text/plain": [
              "True"
            ]
          },
          "execution_count": 125,
          "metadata": {},
          "output_type": "execute_result"
        }
      ],
      "source": [
        "result2 = df.query('A < 0.5 and B < 0.5')\n",
        "np.allclose(result1, result2)"
      ]
    },
    {
      "cell_type": "markdown",
      "metadata": {
        "id": "E2Y97MV3rsd9"
      },
      "source": [
        "In addition to being a more efficient computation, compared to the masking expression this is much easier to read and understand.\n",
        "Note that the `query` method also accepts the `@` flag to mark local variables:"
      ]
    },
    {
      "cell_type": "code",
      "execution_count": 126,
      "metadata": {
        "id": "847SBu1nrsd9",
        "jupyter": {
          "outputs_hidden": false
        },
        "outputId": "f3fbe1b6-e8a1-4ac7-a282-e0b4f29e14cc"
      },
      "outputs": [
        {
          "data": {
            "text/plain": [
              "True"
            ]
          },
          "execution_count": 126,
          "metadata": {},
          "output_type": "execute_result"
        }
      ],
      "source": [
        "Cmean = df['C'].mean()\n",
        "result1 = df[(df.A < Cmean) & (df.B < Cmean)]\n",
        "result2 = df.query('A < @Cmean and B < @Cmean')\n",
        "np.allclose(result1, result2)"
      ]
    },
    {
      "cell_type": "markdown",
      "metadata": {
        "id": "0Oy92AWgrsd9"
      },
      "source": [
        "## Performance: When to Use These Functions\n",
        "\n",
        "When considering whether to use `eval` and `query`, there are two considerations: *computation time* and *memory use*.\n",
        "Memory use is the most predictable aspect. As already mentioned, every compound expression involving NumPy arrays or Pandas ``DataFrame``s will result in implicit creation of temporary arrays. For example, this:"
      ]
    },
    {
      "cell_type": "code",
      "execution_count": 127,
      "metadata": {
        "id": "eBIxgdvdrsd9",
        "tags": []
      },
      "outputs": [],
      "source": [
        "x = df[(df.A < 0.5) & (df.B < 0.5)]"
      ]
    },
    {
      "cell_type": "markdown",
      "metadata": {
        "id": "9IcmdVFZrsd9"
      },
      "source": [
        "is roughly equivalent to this:"
      ]
    },
    {
      "cell_type": "code",
      "execution_count": 128,
      "metadata": {
        "id": "PsCq3APArsd9",
        "jupyter": {
          "outputs_hidden": false
        }
      },
      "outputs": [],
      "source": [
        "tmp1 = df.A < 0.5\n",
        "tmp2 = df.B < 0.5\n",
        "tmp3 = tmp1 & tmp2\n",
        "x = df[tmp3]"
      ]
    },
    {
      "cell_type": "markdown",
      "metadata": {
        "id": "mavCDSSyrsd9"
      },
      "source": [
        "If the size of the temporary ``DataFrame``s is significant compared to your available system memory (typically several gigabytes), then it's a good idea to use an `eval` or `query` expression.\n",
        "You can check the approximate size of your array in bytes using this:"
      ]
    },
    {
      "cell_type": "code",
      "execution_count": 129,
      "metadata": {
        "id": "ilZDQLIxrsd9",
        "jupyter": {
          "outputs_hidden": false
        },
        "outputId": "9b63b820-0c4c-4ca4-db02-6c4ca48d9853"
      },
      "outputs": [
        {
          "data": {
            "text/plain": [
              "32000"
            ]
          },
          "execution_count": 129,
          "metadata": {},
          "output_type": "execute_result"
        }
      ],
      "source": [
        "df.values.nbytes"
      ]
    },
    {
      "cell_type": "markdown",
      "metadata": {
        "id": "25RKyFbMrsd-"
      },
      "source": [
        "On the performance side, `eval` can be faster even when you are not maxing out your system memory.\n",
        "The issue is how your temporary objects compare to the size of the L1 or L2 CPU cache on your system (typically a few megabytes); if they are much bigger, then `eval` can avoid some potentially slow movement of values between the different memory caches.\n",
        "In practice, I find that the difference in computation time between the traditional methods and the `eval`/`query` method is usually not significant—if anything, the traditional method is faster for smaller arrays!\n",
        "The benefit of `eval`/`query` is mainly in the saved memory, and the sometimes cleaner syntax they offer.\n",
        "\n",
        "We've covered most of the details of `eval` and `query` here; for more information on these, you can refer to the Pandas documentation.\n",
        "In particular, different parsers and engines can be specified for running these queries; for details on this, see the discussion within the [\"Enhancing Performance\" section](https://pandas.pydata.org/pandas-docs/dev/user_guide/enhancingperf.html) of the documentation."
      ]
    }
  ],
  "metadata": {
    "anaconda-cloud": {},
    "colab": {
      "provenance": []
    },
    "jupytext": {
      "formats": "ipynb,md"
    },
    "kernelspec": {
      "display_name": "Python 3 (ipykernel)",
      "language": "python",
      "name": "python3"
    },
    "language_info": {
      "codemirror_mode": {
        "name": "ipython",
        "version": 3
      },
      "file_extension": ".py",
      "mimetype": "text/x-python",
      "name": "python",
      "nbconvert_exporter": "python",
      "pygments_lexer": "ipython3",
      "version": "3.9.13"
    }
  },
  "nbformat": 4,
  "nbformat_minor": 0
}
